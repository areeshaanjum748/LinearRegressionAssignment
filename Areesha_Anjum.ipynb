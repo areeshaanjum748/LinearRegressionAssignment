{
 "cells": [
  {
   "cell_type": "markdown",
   "id": "631ac1fe",
   "metadata": {
    "papermill": {
     "duration": 0.02522,
     "end_time": "2024-10-30T09:27:53.115687",
     "exception": false,
     "start_time": "2024-10-30T09:27:53.090467",
     "status": "completed"
    },
    "tags": []
   },
   "source": [
    "# Importing Libraries"
   ]
  },
  {
   "cell_type": "code",
   "execution_count": 1,
   "id": "dc4299ea",
   "metadata": {
    "execution": {
     "iopub.execute_input": "2024-10-30T09:27:53.162971Z",
     "iopub.status.busy": "2024-10-30T09:27:53.162518Z",
     "iopub.status.idle": "2024-10-30T09:27:58.041324Z",
     "shell.execute_reply": "2024-10-30T09:27:58.038528Z"
    },
    "papermill": {
     "duration": 4.9058,
     "end_time": "2024-10-30T09:27:58.044060",
     "exception": false,
     "start_time": "2024-10-30T09:27:53.138260",
     "status": "completed"
    },
    "tags": []
   },
   "outputs": [],
   "source": [
    "import numpy as np\n",
    "\n",
    "import pandas as pd\n",
    "\n",
    "import seaborn as sns\n",
    "import matplotlib.pyplot as plt\n",
    "\n",
    "from sklearn.preprocessing import MinMaxScaler\n",
    "from sklearn.model_selection import train_test_split\n",
    "\n",
    "import statsmodels.api as sm\n",
    "from statsmodels.stats.outliers_influence import variance_inflation_factor\n",
    "\n",
    "from sklearn.linear_model import LinearRegression\n",
    "\n",
    "from sklearn.feature_selection import RFE\n",
    "\n",
    "from sklearn.metrics import mean_squared_error, r2_score"
   ]
  },
  {
   "cell_type": "markdown",
   "id": "42700922",
   "metadata": {
    "papermill": {
     "duration": 0.02249,
     "end_time": "2024-10-30T09:27:58.093481",
     "exception": false,
     "start_time": "2024-10-30T09:27:58.070991",
     "status": "completed"
    },
    "tags": []
   },
   "source": [
    "# Dataset Description"
   ]
  },
  {
   "cell_type": "code",
   "execution_count": 2,
   "id": "f7177c13",
   "metadata": {
    "execution": {
     "iopub.execute_input": "2024-10-30T09:27:58.146719Z",
     "iopub.status.busy": "2024-10-30T09:27:58.145610Z",
     "iopub.status.idle": "2024-10-30T09:27:58.183408Z",
     "shell.execute_reply": "2024-10-30T09:27:58.182298Z"
    },
    "papermill": {
     "duration": 0.069697,
     "end_time": "2024-10-30T09:27:58.186167",
     "exception": false,
     "start_time": "2024-10-30T09:27:58.116470",
     "status": "completed"
    },
    "tags": []
   },
   "outputs": [],
   "source": [
    "df = pd.read_csv('/kaggle/input/day-dataset/day.csv')"
   ]
  },
  {
   "cell_type": "code",
   "execution_count": 3,
   "id": "5af6730d",
   "metadata": {
    "execution": {
     "iopub.execute_input": "2024-10-30T09:27:58.244973Z",
     "iopub.status.busy": "2024-10-30T09:27:58.244502Z",
     "iopub.status.idle": "2024-10-30T09:27:58.252369Z",
     "shell.execute_reply": "2024-10-30T09:27:58.251300Z"
    },
    "papermill": {
     "duration": 0.037927,
     "end_time": "2024-10-30T09:27:58.254496",
     "exception": false,
     "start_time": "2024-10-30T09:27:58.216569",
     "status": "completed"
    },
    "tags": []
   },
   "outputs": [
    {
     "data": {
      "text/plain": [
       "(730, 16)"
      ]
     },
     "execution_count": 3,
     "metadata": {},
     "output_type": "execute_result"
    }
   ],
   "source": [
    "df.shape"
   ]
  },
  {
   "cell_type": "code",
   "execution_count": 4,
   "id": "0fd61acb",
   "metadata": {
    "execution": {
     "iopub.execute_input": "2024-10-30T09:27:58.302160Z",
     "iopub.status.busy": "2024-10-30T09:27:58.301308Z",
     "iopub.status.idle": "2024-10-30T09:27:58.334994Z",
     "shell.execute_reply": "2024-10-30T09:27:58.333868Z"
    },
    "papermill": {
     "duration": 0.060123,
     "end_time": "2024-10-30T09:27:58.337427",
     "exception": false,
     "start_time": "2024-10-30T09:27:58.277304",
     "status": "completed"
    },
    "tags": []
   },
   "outputs": [
    {
     "name": "stdout",
     "output_type": "stream",
     "text": [
      "<class 'pandas.core.frame.DataFrame'>\n",
      "RangeIndex: 730 entries, 0 to 729\n",
      "Data columns (total 16 columns):\n",
      " #   Column      Non-Null Count  Dtype  \n",
      "---  ------      --------------  -----  \n",
      " 0   instant     730 non-null    int64  \n",
      " 1   dteday      730 non-null    object \n",
      " 2   season      730 non-null    int64  \n",
      " 3   yr          730 non-null    int64  \n",
      " 4   mnth        730 non-null    int64  \n",
      " 5   holiday     730 non-null    int64  \n",
      " 6   weekday     730 non-null    int64  \n",
      " 7   workingday  730 non-null    int64  \n",
      " 8   weathersit  730 non-null    int64  \n",
      " 9   temp        730 non-null    float64\n",
      " 10  atemp       730 non-null    float64\n",
      " 11  hum         730 non-null    float64\n",
      " 12  windspeed   730 non-null    float64\n",
      " 13  casual      730 non-null    int64  \n",
      " 14  registered  730 non-null    int64  \n",
      " 15  cnt         730 non-null    int64  \n",
      "dtypes: float64(4), int64(11), object(1)\n",
      "memory usage: 91.4+ KB\n"
     ]
    }
   ],
   "source": [
    "df.info()"
   ]
  },
  {
   "cell_type": "markdown",
   "id": "9cd37a33",
   "metadata": {
    "papermill": {
     "duration": 0.025425,
     "end_time": "2024-10-30T09:27:58.386177",
     "exception": false,
     "start_time": "2024-10-30T09:27:58.360752",
     "status": "completed"
    },
    "tags": []
   },
   "source": [
    "* No null values exist in the data"
   ]
  },
  {
   "cell_type": "markdown",
   "id": "b5345044",
   "metadata": {
    "papermill": {
     "duration": 0.029612,
     "end_time": "2024-10-30T09:27:58.444828",
     "exception": false,
     "start_time": "2024-10-30T09:27:58.415216",
     "status": "completed"
    },
    "tags": []
   },
   "source": [
    "Since, there are less number of columns we can explore each one by one."
   ]
  },
  {
   "cell_type": "code",
   "execution_count": 5,
   "id": "678e2061",
   "metadata": {
    "execution": {
     "iopub.execute_input": "2024-10-30T09:27:58.496131Z",
     "iopub.status.busy": "2024-10-30T09:27:58.495700Z",
     "iopub.status.idle": "2024-10-30T09:27:58.516798Z",
     "shell.execute_reply": "2024-10-30T09:27:58.515576Z"
    },
    "papermill": {
     "duration": 0.05018,
     "end_time": "2024-10-30T09:27:58.519200",
     "exception": false,
     "start_time": "2024-10-30T09:27:58.469020",
     "status": "completed"
    },
    "tags": []
   },
   "outputs": [
    {
     "data": {
      "text/html": [
       "<div>\n",
       "<style scoped>\n",
       "    .dataframe tbody tr th:only-of-type {\n",
       "        vertical-align: middle;\n",
       "    }\n",
       "\n",
       "    .dataframe tbody tr th {\n",
       "        vertical-align: top;\n",
       "    }\n",
       "\n",
       "    .dataframe thead th {\n",
       "        text-align: right;\n",
       "    }\n",
       "</style>\n",
       "<table border=\"1\" class=\"dataframe\">\n",
       "  <thead>\n",
       "    <tr style=\"text-align: right;\">\n",
       "      <th></th>\n",
       "      <th>instant</th>\n",
       "      <th>dteday</th>\n",
       "      <th>season</th>\n",
       "      <th>yr</th>\n",
       "      <th>mnth</th>\n",
       "      <th>holiday</th>\n",
       "      <th>weekday</th>\n",
       "      <th>workingday</th>\n",
       "      <th>weathersit</th>\n",
       "      <th>temp</th>\n",
       "      <th>atemp</th>\n",
       "      <th>hum</th>\n",
       "      <th>windspeed</th>\n",
       "      <th>casual</th>\n",
       "      <th>registered</th>\n",
       "      <th>cnt</th>\n",
       "    </tr>\n",
       "  </thead>\n",
       "  <tbody>\n",
       "    <tr>\n",
       "      <th>0</th>\n",
       "      <td>1</td>\n",
       "      <td>01-01-2018</td>\n",
       "      <td>1</td>\n",
       "      <td>0</td>\n",
       "      <td>1</td>\n",
       "      <td>0</td>\n",
       "      <td>6</td>\n",
       "      <td>0</td>\n",
       "      <td>2</td>\n",
       "      <td>14.110847</td>\n",
       "      <td>18.18125</td>\n",
       "      <td>80.5833</td>\n",
       "      <td>10.749882</td>\n",
       "      <td>331</td>\n",
       "      <td>654</td>\n",
       "      <td>985</td>\n",
       "    </tr>\n",
       "    <tr>\n",
       "      <th>1</th>\n",
       "      <td>2</td>\n",
       "      <td>02-01-2018</td>\n",
       "      <td>1</td>\n",
       "      <td>0</td>\n",
       "      <td>1</td>\n",
       "      <td>0</td>\n",
       "      <td>0</td>\n",
       "      <td>0</td>\n",
       "      <td>2</td>\n",
       "      <td>14.902598</td>\n",
       "      <td>17.68695</td>\n",
       "      <td>69.6087</td>\n",
       "      <td>16.652113</td>\n",
       "      <td>131</td>\n",
       "      <td>670</td>\n",
       "      <td>801</td>\n",
       "    </tr>\n",
       "    <tr>\n",
       "      <th>2</th>\n",
       "      <td>3</td>\n",
       "      <td>03-01-2018</td>\n",
       "      <td>1</td>\n",
       "      <td>0</td>\n",
       "      <td>1</td>\n",
       "      <td>0</td>\n",
       "      <td>1</td>\n",
       "      <td>1</td>\n",
       "      <td>1</td>\n",
       "      <td>8.050924</td>\n",
       "      <td>9.47025</td>\n",
       "      <td>43.7273</td>\n",
       "      <td>16.636703</td>\n",
       "      <td>120</td>\n",
       "      <td>1229</td>\n",
       "      <td>1349</td>\n",
       "    </tr>\n",
       "    <tr>\n",
       "      <th>3</th>\n",
       "      <td>4</td>\n",
       "      <td>04-01-2018</td>\n",
       "      <td>1</td>\n",
       "      <td>0</td>\n",
       "      <td>1</td>\n",
       "      <td>0</td>\n",
       "      <td>2</td>\n",
       "      <td>1</td>\n",
       "      <td>1</td>\n",
       "      <td>8.200000</td>\n",
       "      <td>10.60610</td>\n",
       "      <td>59.0435</td>\n",
       "      <td>10.739832</td>\n",
       "      <td>108</td>\n",
       "      <td>1454</td>\n",
       "      <td>1562</td>\n",
       "    </tr>\n",
       "    <tr>\n",
       "      <th>4</th>\n",
       "      <td>5</td>\n",
       "      <td>05-01-2018</td>\n",
       "      <td>1</td>\n",
       "      <td>0</td>\n",
       "      <td>1</td>\n",
       "      <td>0</td>\n",
       "      <td>3</td>\n",
       "      <td>1</td>\n",
       "      <td>1</td>\n",
       "      <td>9.305237</td>\n",
       "      <td>11.46350</td>\n",
       "      <td>43.6957</td>\n",
       "      <td>12.522300</td>\n",
       "      <td>82</td>\n",
       "      <td>1518</td>\n",
       "      <td>1600</td>\n",
       "    </tr>\n",
       "  </tbody>\n",
       "</table>\n",
       "</div>"
      ],
      "text/plain": [
       "   instant      dteday  season  yr  mnth  holiday  weekday  workingday  \\\n",
       "0        1  01-01-2018       1   0     1        0        6           0   \n",
       "1        2  02-01-2018       1   0     1        0        0           0   \n",
       "2        3  03-01-2018       1   0     1        0        1           1   \n",
       "3        4  04-01-2018       1   0     1        0        2           1   \n",
       "4        5  05-01-2018       1   0     1        0        3           1   \n",
       "\n",
       "   weathersit       temp     atemp      hum  windspeed  casual  registered  \\\n",
       "0           2  14.110847  18.18125  80.5833  10.749882     331         654   \n",
       "1           2  14.902598  17.68695  69.6087  16.652113     131         670   \n",
       "2           1   8.050924   9.47025  43.7273  16.636703     120        1229   \n",
       "3           1   8.200000  10.60610  59.0435  10.739832     108        1454   \n",
       "4           1   9.305237  11.46350  43.6957  12.522300      82        1518   \n",
       "\n",
       "    cnt  \n",
       "0   985  \n",
       "1   801  \n",
       "2  1349  \n",
       "3  1562  \n",
       "4  1600  "
      ]
     },
     "execution_count": 5,
     "metadata": {},
     "output_type": "execute_result"
    }
   ],
   "source": [
    "df.head()"
   ]
  },
  {
   "cell_type": "markdown",
   "id": "6815c253",
   "metadata": {
    "papermill": {
     "duration": 0.023077,
     "end_time": "2024-10-30T09:27:58.565322",
     "exception": false,
     "start_time": "2024-10-30T09:27:58.542245",
     "status": "completed"
    },
    "tags": []
   },
   "source": [
    "# Exploratory Data Analysis"
   ]
  },
  {
   "cell_type": "markdown",
   "id": "93581248",
   "metadata": {
    "papermill": {
     "duration": 0.022626,
     "end_time": "2024-10-30T09:27:58.611278",
     "exception": false,
     "start_time": "2024-10-30T09:27:58.588652",
     "status": "completed"
    },
    "tags": []
   },
   "source": [
    "Forming the correlation map now, as later we will convert the columns to string dtype."
   ]
  },
  {
   "cell_type": "code",
   "execution_count": 6,
   "id": "8685e249",
   "metadata": {
    "execution": {
     "iopub.execute_input": "2024-10-30T09:27:58.659472Z",
     "iopub.status.busy": "2024-10-30T09:27:58.659071Z",
     "iopub.status.idle": "2024-10-30T09:27:58.675852Z",
     "shell.execute_reply": "2024-10-30T09:27:58.674766Z"
    },
    "papermill": {
     "duration": 0.04369,
     "end_time": "2024-10-30T09:27:58.678216",
     "exception": false,
     "start_time": "2024-10-30T09:27:58.634526",
     "status": "completed"
    },
    "tags": []
   },
   "outputs": [
    {
     "data": {
      "text/html": [
       "<div>\n",
       "<style scoped>\n",
       "    .dataframe tbody tr th:only-of-type {\n",
       "        vertical-align: middle;\n",
       "    }\n",
       "\n",
       "    .dataframe tbody tr th {\n",
       "        vertical-align: top;\n",
       "    }\n",
       "\n",
       "    .dataframe thead th {\n",
       "        text-align: right;\n",
       "    }\n",
       "</style>\n",
       "<table border=\"1\" class=\"dataframe\">\n",
       "  <thead>\n",
       "    <tr style=\"text-align: right;\">\n",
       "      <th></th>\n",
       "      <th>instant</th>\n",
       "      <th>dteday</th>\n",
       "      <th>season</th>\n",
       "      <th>yr</th>\n",
       "      <th>mnth</th>\n",
       "      <th>holiday</th>\n",
       "      <th>weekday</th>\n",
       "      <th>workingday</th>\n",
       "      <th>weathersit</th>\n",
       "      <th>temp</th>\n",
       "      <th>atemp</th>\n",
       "      <th>hum</th>\n",
       "      <th>windspeed</th>\n",
       "      <th>casual</th>\n",
       "      <th>registered</th>\n",
       "      <th>cnt</th>\n",
       "    </tr>\n",
       "  </thead>\n",
       "  <tbody>\n",
       "    <tr>\n",
       "      <th>0</th>\n",
       "      <td>1</td>\n",
       "      <td>01-01-2018</td>\n",
       "      <td>1</td>\n",
       "      <td>0</td>\n",
       "      <td>1</td>\n",
       "      <td>0</td>\n",
       "      <td>6</td>\n",
       "      <td>0</td>\n",
       "      <td>2</td>\n",
       "      <td>14.110847</td>\n",
       "      <td>18.18125</td>\n",
       "      <td>80.5833</td>\n",
       "      <td>10.749882</td>\n",
       "      <td>331</td>\n",
       "      <td>654</td>\n",
       "      <td>985</td>\n",
       "    </tr>\n",
       "    <tr>\n",
       "      <th>1</th>\n",
       "      <td>2</td>\n",
       "      <td>02-01-2018</td>\n",
       "      <td>1</td>\n",
       "      <td>0</td>\n",
       "      <td>1</td>\n",
       "      <td>0</td>\n",
       "      <td>0</td>\n",
       "      <td>0</td>\n",
       "      <td>2</td>\n",
       "      <td>14.902598</td>\n",
       "      <td>17.68695</td>\n",
       "      <td>69.6087</td>\n",
       "      <td>16.652113</td>\n",
       "      <td>131</td>\n",
       "      <td>670</td>\n",
       "      <td>801</td>\n",
       "    </tr>\n",
       "    <tr>\n",
       "      <th>2</th>\n",
       "      <td>3</td>\n",
       "      <td>03-01-2018</td>\n",
       "      <td>1</td>\n",
       "      <td>0</td>\n",
       "      <td>1</td>\n",
       "      <td>0</td>\n",
       "      <td>1</td>\n",
       "      <td>1</td>\n",
       "      <td>1</td>\n",
       "      <td>8.050924</td>\n",
       "      <td>9.47025</td>\n",
       "      <td>43.7273</td>\n",
       "      <td>16.636703</td>\n",
       "      <td>120</td>\n",
       "      <td>1229</td>\n",
       "      <td>1349</td>\n",
       "    </tr>\n",
       "    <tr>\n",
       "      <th>3</th>\n",
       "      <td>4</td>\n",
       "      <td>04-01-2018</td>\n",
       "      <td>1</td>\n",
       "      <td>0</td>\n",
       "      <td>1</td>\n",
       "      <td>0</td>\n",
       "      <td>2</td>\n",
       "      <td>1</td>\n",
       "      <td>1</td>\n",
       "      <td>8.200000</td>\n",
       "      <td>10.60610</td>\n",
       "      <td>59.0435</td>\n",
       "      <td>10.739832</td>\n",
       "      <td>108</td>\n",
       "      <td>1454</td>\n",
       "      <td>1562</td>\n",
       "    </tr>\n",
       "    <tr>\n",
       "      <th>4</th>\n",
       "      <td>5</td>\n",
       "      <td>05-01-2018</td>\n",
       "      <td>1</td>\n",
       "      <td>0</td>\n",
       "      <td>1</td>\n",
       "      <td>0</td>\n",
       "      <td>3</td>\n",
       "      <td>1</td>\n",
       "      <td>1</td>\n",
       "      <td>9.305237</td>\n",
       "      <td>11.46350</td>\n",
       "      <td>43.6957</td>\n",
       "      <td>12.522300</td>\n",
       "      <td>82</td>\n",
       "      <td>1518</td>\n",
       "      <td>1600</td>\n",
       "    </tr>\n",
       "  </tbody>\n",
       "</table>\n",
       "</div>"
      ],
      "text/plain": [
       "   instant      dteday  season  yr  mnth  holiday  weekday  workingday  \\\n",
       "0        1  01-01-2018       1   0     1        0        6           0   \n",
       "1        2  02-01-2018       1   0     1        0        0           0   \n",
       "2        3  03-01-2018       1   0     1        0        1           1   \n",
       "3        4  04-01-2018       1   0     1        0        2           1   \n",
       "4        5  05-01-2018       1   0     1        0        3           1   \n",
       "\n",
       "   weathersit       temp     atemp      hum  windspeed  casual  registered  \\\n",
       "0           2  14.110847  18.18125  80.5833  10.749882     331         654   \n",
       "1           2  14.902598  17.68695  69.6087  16.652113     131         670   \n",
       "2           1   8.050924   9.47025  43.7273  16.636703     120        1229   \n",
       "3           1   8.200000  10.60610  59.0435  10.739832     108        1454   \n",
       "4           1   9.305237  11.46350  43.6957  12.522300      82        1518   \n",
       "\n",
       "    cnt  \n",
       "0   985  \n",
       "1   801  \n",
       "2  1349  \n",
       "3  1562  \n",
       "4  1600  "
      ]
     },
     "execution_count": 6,
     "metadata": {},
     "output_type": "execute_result"
    }
   ],
   "source": [
    "df.head()"
   ]
  },
  {
   "cell_type": "code",
   "execution_count": 7,
   "id": "33f8ed3e",
   "metadata": {
    "execution": {
     "iopub.execute_input": "2024-10-30T09:27:58.727225Z",
     "iopub.status.busy": "2024-10-30T09:27:58.726825Z",
     "iopub.status.idle": "2024-10-30T09:27:59.985114Z",
     "shell.execute_reply": "2024-10-30T09:27:59.984014Z"
    },
    "papermill": {
     "duration": 1.286994,
     "end_time": "2024-10-30T09:27:59.989142",
     "exception": false,
     "start_time": "2024-10-30T09:27:58.702148",
     "status": "completed"
    },
    "tags": []
   },
   "outputs": [
    {
     "data": {
      "text/plain": [
       "<Axes: >"
      ]
     },
     "execution_count": 7,
     "metadata": {},
     "output_type": "execute_result"
    },
    {
     "data": {
      "image/png": "[encoded data removed]",
      "text/plain": [
       "<Figure size 1500x1000 with 2 Axes>"
      ]
     },
     "metadata": {},
     "output_type": "display_data"
    }
   ],
   "source": [
    "plt.figure(figsize = (15, 10))\n",
    "sns.heatmap(df.drop(['dteday'], axis = 1).corr(), annot = True)"
   ]
  },
  {
   "cell_type": "markdown",
   "id": "36431459",
   "metadata": {
    "papermill": {
     "duration": 0.026531,
     "end_time": "2024-10-30T09:28:00.042387",
     "exception": false,
     "start_time": "2024-10-30T09:28:00.015856",
     "status": "completed"
    },
    "tags": []
   },
   "source": [
    "* high positive correlation between temp and atemp with 0.99\n",
    "* high positive correlation between season and mnth with 0.83\n",
    "* high positive correlation between registered and cnt with 0.95\n",
    "* high negative correlation between weathersit and cnt with -0.3"
   ]
  },
  {
   "cell_type": "markdown",
   "id": "e8b2b515",
   "metadata": {
    "papermill": {
     "duration": 0.025893,
     "end_time": "2024-10-30T09:28:00.094815",
     "exception": false,
     "start_time": "2024-10-30T09:28:00.068922",
     "status": "completed"
    },
    "tags": []
   },
   "source": [
    "## instant: record index"
   ]
  },
  {
   "cell_type": "code",
   "execution_count": 8,
   "id": "79f21f02",
   "metadata": {
    "execution": {
     "iopub.execute_input": "2024-10-30T09:28:00.149469Z",
     "iopub.status.busy": "2024-10-30T09:28:00.149025Z",
     "iopub.status.idle": "2024-10-30T09:28:00.159042Z",
     "shell.execute_reply": "2024-10-30T09:28:00.157820Z"
    },
    "papermill": {
     "duration": 0.039989,
     "end_time": "2024-10-30T09:28:00.161314",
     "exception": false,
     "start_time": "2024-10-30T09:28:00.121325",
     "status": "completed"
    },
    "tags": []
   },
   "outputs": [
    {
     "data": {
      "text/plain": [
       "730"
      ]
     },
     "execution_count": 8,
     "metadata": {},
     "output_type": "execute_result"
    }
   ],
   "source": [
    "df['instant'].nunique()"
   ]
  },
  {
   "cell_type": "markdown",
   "id": "fe3bc408",
   "metadata": {
    "papermill": {
     "duration": 0.02616,
     "end_time": "2024-10-30T09:28:00.214317",
     "exception": false,
     "start_time": "2024-10-30T09:28:00.188157",
     "status": "completed"
    },
    "tags": []
   },
   "source": [
    "We can drop **'instant'** for model building as it is a index variable and holds unique value for each row."
   ]
  },
  {
   "cell_type": "markdown",
   "id": "08b144a7",
   "metadata": {
    "papermill": {
     "duration": 0.025767,
     "end_time": "2024-10-30T09:28:00.266268",
     "exception": false,
     "start_time": "2024-10-30T09:28:00.240501",
     "status": "completed"
    },
    "tags": []
   },
   "source": [
    "## dteday : date"
   ]
  },
  {
   "cell_type": "code",
   "execution_count": 9,
   "id": "e82841ae",
   "metadata": {
    "execution": {
     "iopub.execute_input": "2024-10-30T09:28:00.321291Z",
     "iopub.status.busy": "2024-10-30T09:28:00.320453Z",
     "iopub.status.idle": "2024-10-30T09:28:00.327479Z",
     "shell.execute_reply": "2024-10-30T09:28:00.326213Z"
    },
    "papermill": {
     "duration": 0.036835,
     "end_time": "2024-10-30T09:28:00.329812",
     "exception": false,
     "start_time": "2024-10-30T09:28:00.292977",
     "status": "completed"
    },
    "tags": []
   },
   "outputs": [
    {
     "data": {
      "text/plain": [
       "dtype('O')"
      ]
     },
     "execution_count": 9,
     "metadata": {},
     "output_type": "execute_result"
    }
   ],
   "source": [
    "df['dteday'].dtype"
   ]
  },
  {
   "cell_type": "markdown",
   "id": "90140c72",
   "metadata": {
    "papermill": {
     "duration": 0.025773,
     "end_time": "2024-10-30T09:28:00.382016",
     "exception": false,
     "start_time": "2024-10-30T09:28:00.356243",
     "status": "completed"
    },
    "tags": []
   },
   "source": [
    "Datetime conversion"
   ]
  },
  {
   "cell_type": "code",
   "execution_count": 10,
   "id": "2a3884a0",
   "metadata": {
    "execution": {
     "iopub.execute_input": "2024-10-30T09:28:00.488687Z",
     "iopub.status.busy": "2024-10-30T09:28:00.487643Z",
     "iopub.status.idle": "2024-10-30T09:28:00.499196Z",
     "shell.execute_reply": "2024-10-30T09:28:00.498110Z"
    },
    "papermill": {
     "duration": 0.093055,
     "end_time": "2024-10-30T09:28:00.501460",
     "exception": false,
     "start_time": "2024-10-30T09:28:00.408405",
     "status": "completed"
    },
    "tags": []
   },
   "outputs": [],
   "source": [
    "df['dteday'] = pd.to_datetime(df['dteday'], format = \"%d-%m-%Y\")"
   ]
  },
  {
   "cell_type": "code",
   "execution_count": 11,
   "id": "d71ecd6a",
   "metadata": {
    "execution": {
     "iopub.execute_input": "2024-10-30T09:28:00.557183Z",
     "iopub.status.busy": "2024-10-30T09:28:00.556213Z",
     "iopub.status.idle": "2024-10-30T09:28:00.563928Z",
     "shell.execute_reply": "2024-10-30T09:28:00.562802Z"
    },
    "papermill": {
     "duration": 0.0378,
     "end_time": "2024-10-30T09:28:00.566227",
     "exception": false,
     "start_time": "2024-10-30T09:28:00.528427",
     "status": "completed"
    },
    "tags": []
   },
   "outputs": [
    {
     "data": {
      "text/plain": [
       "Timestamp('2018-01-01 00:00:00')"
      ]
     },
     "execution_count": 11,
     "metadata": {},
     "output_type": "execute_result"
    }
   ],
   "source": [
    "min_value = df['dteday'].min()\n",
    "min_value"
   ]
  },
  {
   "cell_type": "code",
   "execution_count": 12,
   "id": "90409e20",
   "metadata": {
    "execution": {
     "iopub.execute_input": "2024-10-30T09:28:00.621721Z",
     "iopub.status.busy": "2024-10-30T09:28:00.621289Z",
     "iopub.status.idle": "2024-10-30T09:28:00.628936Z",
     "shell.execute_reply": "2024-10-30T09:28:00.627794Z"
    },
    "papermill": {
     "duration": 0.037786,
     "end_time": "2024-10-30T09:28:00.631093",
     "exception": false,
     "start_time": "2024-10-30T09:28:00.593307",
     "status": "completed"
    },
    "tags": []
   },
   "outputs": [
    {
     "data": {
      "text/plain": [
       "Timestamp('2019-12-31 00:00:00')"
      ]
     },
     "execution_count": 12,
     "metadata": {},
     "output_type": "execute_result"
    }
   ],
   "source": [
    "max_value = df['dteday'].max()\n",
    "max_value"
   ]
  },
  {
   "cell_type": "markdown",
   "id": "0976c498",
   "metadata": {
    "papermill": {
     "duration": 0.026321,
     "end_time": "2024-10-30T09:28:00.683942",
     "exception": false,
     "start_time": "2024-10-30T09:28:00.657621",
     "status": "completed"
    },
    "tags": []
   },
   "source": [
    "We have data from '**2018-01-01**' to '**2019-12-31**'."
   ]
  },
  {
   "cell_type": "markdown",
   "id": "bbf8cbd2",
   "metadata": {
    "papermill": {
     "duration": 0.026563,
     "end_time": "2024-10-30T09:28:00.737400",
     "exception": false,
     "start_time": "2024-10-30T09:28:00.710837",
     "status": "completed"
    },
    "tags": []
   },
   "source": [
    "## season : season (1:spring, 2:summer, 3:fall, 4:winter)"
   ]
  },
  {
   "cell_type": "markdown",
   "id": "bb9a9da3",
   "metadata": {
    "papermill": {
     "duration": 0.026229,
     "end_time": "2024-10-30T09:28:00.790300",
     "exception": false,
     "start_time": "2024-10-30T09:28:00.764071",
     "status": "completed"
    },
    "tags": []
   },
   "source": [
    "Since, dtype of **season** is int and the values could suggest some order which is not the case. Hence, we will map these values to their labels and create dummy variables at the time of model building. Labels will also be useful for visualization."
   ]
  },
  {
   "cell_type": "code",
   "execution_count": 13,
   "id": "a9926222",
   "metadata": {
    "execution": {
     "iopub.execute_input": "2024-10-30T09:28:00.845599Z",
     "iopub.status.busy": "2024-10-30T09:28:00.845188Z",
     "iopub.status.idle": "2024-10-30T09:28:00.851142Z",
     "shell.execute_reply": "2024-10-30T09:28:00.850082Z"
    },
    "papermill": {
     "duration": 0.036037,
     "end_time": "2024-10-30T09:28:00.853139",
     "exception": false,
     "start_time": "2024-10-30T09:28:00.817102",
     "status": "completed"
    },
    "tags": []
   },
   "outputs": [],
   "source": [
    "df['season'] = df['season'].astype(str)"
   ]
  },
  {
   "cell_type": "code",
   "execution_count": 14,
   "id": "ca6f9ab9",
   "metadata": {
    "execution": {
     "iopub.execute_input": "2024-10-30T09:28:00.907832Z",
     "iopub.status.busy": "2024-10-30T09:28:00.907344Z",
     "iopub.status.idle": "2024-10-30T09:28:00.916102Z",
     "shell.execute_reply": "2024-10-30T09:28:00.915073Z"
    },
    "papermill": {
     "duration": 0.038588,
     "end_time": "2024-10-30T09:28:00.918398",
     "exception": false,
     "start_time": "2024-10-30T09:28:00.879810",
     "status": "completed"
    },
    "tags": []
   },
   "outputs": [
    {
     "data": {
      "text/plain": [
       "season\n",
       "3    188\n",
       "2    184\n",
       "1    180\n",
       "4    178\n",
       "Name: count, dtype: int64"
      ]
     },
     "execution_count": 14,
     "metadata": {},
     "output_type": "execute_result"
    }
   ],
   "source": [
    "df['season'].value_counts()"
   ]
  },
  {
   "cell_type": "markdown",
   "id": "4bde2af3",
   "metadata": {
    "papermill": {
     "duration": 0.026587,
     "end_time": "2024-10-30T09:28:00.972278",
     "exception": false,
     "start_time": "2024-10-30T09:28:00.945691",
     "status": "completed"
    },
    "tags": []
   },
   "source": [
    "## yr : year (0: 2018, 1:2019)"
   ]
  },
  {
   "cell_type": "code",
   "execution_count": 15,
   "id": "1fb76733",
   "metadata": {
    "execution": {
     "iopub.execute_input": "2024-10-30T09:28:01.027767Z",
     "iopub.status.busy": "2024-10-30T09:28:01.027353Z",
     "iopub.status.idle": "2024-10-30T09:28:01.033354Z",
     "shell.execute_reply": "2024-10-30T09:28:01.032165Z"
    },
    "papermill": {
     "duration": 0.036401,
     "end_time": "2024-10-30T09:28:01.035541",
     "exception": false,
     "start_time": "2024-10-30T09:28:00.999140",
     "status": "completed"
    },
    "tags": []
   },
   "outputs": [],
   "source": [
    "df['yr'] = df['yr'].astype(str)"
   ]
  },
  {
   "cell_type": "code",
   "execution_count": 16,
   "id": "4f364f73",
   "metadata": {
    "execution": {
     "iopub.execute_input": "2024-10-30T09:28:01.092087Z",
     "iopub.status.busy": "2024-10-30T09:28:01.091646Z",
     "iopub.status.idle": "2024-10-30T09:28:01.100443Z",
     "shell.execute_reply": "2024-10-30T09:28:01.099239Z"
    },
    "papermill": {
     "duration": 0.038966,
     "end_time": "2024-10-30T09:28:01.102511",
     "exception": false,
     "start_time": "2024-10-30T09:28:01.063545",
     "status": "completed"
    },
    "tags": []
   },
   "outputs": [
    {
     "data": {
      "text/plain": [
       "yr\n",
       "0    365\n",
       "1    365\n",
       "Name: count, dtype: int64"
      ]
     },
     "execution_count": 16,
     "metadata": {},
     "output_type": "execute_result"
    }
   ],
   "source": [
    "df['yr'].value_counts()"
   ]
  },
  {
   "cell_type": "markdown",
   "id": "82b8f76b",
   "metadata": {
    "papermill": {
     "duration": 0.026631,
     "end_time": "2024-10-30T09:28:01.155809",
     "exception": false,
     "start_time": "2024-10-30T09:28:01.129178",
     "status": "completed"
    },
    "tags": []
   },
   "source": [
    "## mnth : month ( 1 to 12)"
   ]
  },
  {
   "cell_type": "markdown",
   "id": "1dc6d7a6",
   "metadata": {
    "papermill": {
     "duration": 0.026303,
     "end_time": "2024-10-30T09:28:01.208715",
     "exception": false,
     "start_time": "2024-10-30T09:28:01.182412",
     "status": "completed"
    },
    "tags": []
   },
   "source": [
    "We will convert the column to **str** dtype."
   ]
  },
  {
   "cell_type": "code",
   "execution_count": 17,
   "id": "45a19b4c",
   "metadata": {
    "execution": {
     "iopub.execute_input": "2024-10-30T09:28:01.264044Z",
     "iopub.status.busy": "2024-10-30T09:28:01.263591Z",
     "iopub.status.idle": "2024-10-30T09:28:01.269517Z",
     "shell.execute_reply": "2024-10-30T09:28:01.268551Z"
    },
    "papermill": {
     "duration": 0.036197,
     "end_time": "2024-10-30T09:28:01.271617",
     "exception": false,
     "start_time": "2024-10-30T09:28:01.235420",
     "status": "completed"
    },
    "tags": []
   },
   "outputs": [],
   "source": [
    "df['mnth'] = df['mnth'].astype(str)"
   ]
  },
  {
   "cell_type": "code",
   "execution_count": 18,
   "id": "3347a17c",
   "metadata": {
    "execution": {
     "iopub.execute_input": "2024-10-30T09:28:01.327281Z",
     "iopub.status.busy": "2024-10-30T09:28:01.326863Z",
     "iopub.status.idle": "2024-10-30T09:28:01.335749Z",
     "shell.execute_reply": "2024-10-30T09:28:01.334718Z"
    },
    "papermill": {
     "duration": 0.039502,
     "end_time": "2024-10-30T09:28:01.338070",
     "exception": false,
     "start_time": "2024-10-30T09:28:01.298568",
     "status": "completed"
    },
    "tags": []
   },
   "outputs": [
    {
     "data": {
      "text/plain": [
       "mnth\n",
       "1     62\n",
       "3     62\n",
       "5     62\n",
       "7     62\n",
       "8     62\n",
       "10    62\n",
       "12    62\n",
       "4     60\n",
       "6     60\n",
       "9     60\n",
       "11    60\n",
       "2     56\n",
       "Name: count, dtype: int64"
      ]
     },
     "execution_count": 18,
     "metadata": {},
     "output_type": "execute_result"
    }
   ],
   "source": [
    "df['mnth'].value_counts()"
   ]
  },
  {
   "cell_type": "markdown",
   "id": "30d64d56",
   "metadata": {
    "papermill": {
     "duration": 0.026634,
     "end_time": "2024-10-30T09:28:01.391696",
     "exception": false,
     "start_time": "2024-10-30T09:28:01.365062",
     "status": "completed"
    },
    "tags": []
   },
   "source": [
    "## holiday : whether day is a holiday or not"
   ]
  },
  {
   "cell_type": "code",
   "execution_count": 19,
   "id": "85811aa3",
   "metadata": {
    "execution": {
     "iopub.execute_input": "2024-10-30T09:28:01.448560Z",
     "iopub.status.busy": "2024-10-30T09:28:01.447755Z",
     "iopub.status.idle": "2024-10-30T09:28:01.453677Z",
     "shell.execute_reply": "2024-10-30T09:28:01.452593Z"
    },
    "papermill": {
     "duration": 0.036203,
     "end_time": "2024-10-30T09:28:01.455688",
     "exception": false,
     "start_time": "2024-10-30T09:28:01.419485",
     "status": "completed"
    },
    "tags": []
   },
   "outputs": [],
   "source": [
    "df['holiday'] = df['holiday'].astype(str)"
   ]
  },
  {
   "cell_type": "code",
   "execution_count": 20,
   "id": "113a40c1",
   "metadata": {
    "execution": {
     "iopub.execute_input": "2024-10-30T09:28:01.511485Z",
     "iopub.status.busy": "2024-10-30T09:28:01.510764Z",
     "iopub.status.idle": "2024-10-30T09:28:01.519483Z",
     "shell.execute_reply": "2024-10-30T09:28:01.518390Z"
    },
    "papermill": {
     "duration": 0.038944,
     "end_time": "2024-10-30T09:28:01.521659",
     "exception": false,
     "start_time": "2024-10-30T09:28:01.482715",
     "status": "completed"
    },
    "tags": []
   },
   "outputs": [
    {
     "data": {
      "text/plain": [
       "holiday\n",
       "0    709\n",
       "1     21\n",
       "Name: count, dtype: int64"
      ]
     },
     "execution_count": 20,
     "metadata": {},
     "output_type": "execute_result"
    }
   ],
   "source": [
    "df['holiday'].value_counts()"
   ]
  },
  {
   "cell_type": "markdown",
   "id": "dbed9e37",
   "metadata": {
    "papermill": {
     "duration": 0.026445,
     "end_time": "2024-10-30T09:28:01.575271",
     "exception": false,
     "start_time": "2024-10-30T09:28:01.548826",
     "status": "completed"
    },
    "tags": []
   },
   "source": [
    "## weekday : day of the week"
   ]
  },
  {
   "cell_type": "code",
   "execution_count": 21,
   "id": "13061b12",
   "metadata": {
    "execution": {
     "iopub.execute_input": "2024-10-30T09:28:01.631419Z",
     "iopub.status.busy": "2024-10-30T09:28:01.630586Z",
     "iopub.status.idle": "2024-10-30T09:28:01.636711Z",
     "shell.execute_reply": "2024-10-30T09:28:01.635588Z"
    },
    "papermill": {
     "duration": 0.036797,
     "end_time": "2024-10-30T09:28:01.638844",
     "exception": false,
     "start_time": "2024-10-30T09:28:01.602047",
     "status": "completed"
    },
    "tags": []
   },
   "outputs": [],
   "source": [
    "df['weekday'] = df['weekday'].astype(str)"
   ]
  },
  {
   "cell_type": "code",
   "execution_count": 22,
   "id": "bbb8ebe4",
   "metadata": {
    "execution": {
     "iopub.execute_input": "2024-10-30T09:28:01.694755Z",
     "iopub.status.busy": "2024-10-30T09:28:01.694300Z",
     "iopub.status.idle": "2024-10-30T09:28:01.703584Z",
     "shell.execute_reply": "2024-10-30T09:28:01.702513Z"
    },
    "papermill": {
     "duration": 0.039818,
     "end_time": "2024-10-30T09:28:01.705878",
     "exception": false,
     "start_time": "2024-10-30T09:28:01.666060",
     "status": "completed"
    },
    "tags": []
   },
   "outputs": [
    {
     "data": {
      "text/plain": [
       "weekday\n",
       "6    105\n",
       "0    105\n",
       "1    105\n",
       "2    104\n",
       "4    104\n",
       "5    104\n",
       "3    103\n",
       "Name: count, dtype: int64"
      ]
     },
     "execution_count": 22,
     "metadata": {},
     "output_type": "execute_result"
    }
   ],
   "source": [
    "df['weekday'].value_counts()"
   ]
  },
  {
   "cell_type": "markdown",
   "id": "3a1f85fd",
   "metadata": {
    "papermill": {
     "duration": 0.026911,
     "end_time": "2024-10-30T09:28:01.761246",
     "exception": false,
     "start_time": "2024-10-30T09:28:01.734335",
     "status": "completed"
    },
    "tags": []
   },
   "source": [
    "## workingday : if day is neither weekend nor holiday is 1, otherwise is 0."
   ]
  },
  {
   "cell_type": "code",
   "execution_count": 23,
   "id": "25763061",
   "metadata": {
    "execution": {
     "iopub.execute_input": "2024-10-30T09:28:01.817736Z",
     "iopub.status.busy": "2024-10-30T09:28:01.817309Z",
     "iopub.status.idle": "2024-10-30T09:28:01.823641Z",
     "shell.execute_reply": "2024-10-30T09:28:01.822540Z"
    },
    "papermill": {
     "duration": 0.037308,
     "end_time": "2024-10-30T09:28:01.825948",
     "exception": false,
     "start_time": "2024-10-30T09:28:01.788640",
     "status": "completed"
    },
    "tags": []
   },
   "outputs": [],
   "source": [
    "df['workingday'] = df['workingday'].astype(str)"
   ]
  },
  {
   "cell_type": "code",
   "execution_count": 24,
   "id": "1c12f52d",
   "metadata": {
    "execution": {
     "iopub.execute_input": "2024-10-30T09:28:01.882265Z",
     "iopub.status.busy": "2024-10-30T09:28:01.881837Z",
     "iopub.status.idle": "2024-10-30T09:28:01.890759Z",
     "shell.execute_reply": "2024-10-30T09:28:01.889591Z"
    },
    "papermill": {
     "duration": 0.039613,
     "end_time": "2024-10-30T09:28:01.892940",
     "exception": false,
     "start_time": "2024-10-30T09:28:01.853327",
     "status": "completed"
    },
    "tags": []
   },
   "outputs": [
    {
     "data": {
      "text/plain": [
       "workingday\n",
       "1    499\n",
       "0    231\n",
       "Name: count, dtype: int64"
      ]
     },
     "execution_count": 24,
     "metadata": {},
     "output_type": "execute_result"
    }
   ],
   "source": [
    "df['workingday'].value_counts()"
   ]
  },
  {
   "cell_type": "markdown",
   "id": "53bd4d95",
   "metadata": {
    "papermill": {
     "duration": 0.027652,
     "end_time": "2024-10-30T09:28:01.947925",
     "exception": false,
     "start_time": "2024-10-30T09:28:01.920273",
     "status": "completed"
    },
    "tags": []
   },
   "source": [
    "## weathersit : \n",
    "\n",
    "\t\t- 1: Clear, Few clouds, Partly cloudy, Partly cloudy\n",
    "\t\t- 2: Mist + Cloudy, Mist + Broken clouds, Mist + Few clouds, Mist\n",
    "\t\t- 3: Light Snow, Light Rain + Thunderstorm + Scattered clouds, Light Rain + Scattered clouds\n",
    "\t\t- 4: Heavy Rain + Ice Pallets + Thunderstorm + Mist, Snow + Fog"
   ]
  },
  {
   "cell_type": "code",
   "execution_count": 25,
   "id": "abef785b",
   "metadata": {
    "execution": {
     "iopub.execute_input": "2024-10-30T09:28:02.004185Z",
     "iopub.status.busy": "2024-10-30T09:28:02.003746Z",
     "iopub.status.idle": "2024-10-30T09:28:02.010068Z",
     "shell.execute_reply": "2024-10-30T09:28:02.009063Z"
    },
    "papermill": {
     "duration": 0.03678,
     "end_time": "2024-10-30T09:28:02.012157",
     "exception": false,
     "start_time": "2024-10-30T09:28:01.975377",
     "status": "completed"
    },
    "tags": []
   },
   "outputs": [],
   "source": [
    "df['weathersit'] = df['weathersit'].astype(str)"
   ]
  },
  {
   "cell_type": "code",
   "execution_count": 26,
   "id": "93797454",
   "metadata": {
    "execution": {
     "iopub.execute_input": "2024-10-30T09:28:02.069829Z",
     "iopub.status.busy": "2024-10-30T09:28:02.069373Z",
     "iopub.status.idle": "2024-10-30T09:28:02.078741Z",
     "shell.execute_reply": "2024-10-30T09:28:02.077569Z"
    },
    "papermill": {
     "duration": 0.041486,
     "end_time": "2024-10-30T09:28:02.081141",
     "exception": false,
     "start_time": "2024-10-30T09:28:02.039655",
     "status": "completed"
    },
    "tags": []
   },
   "outputs": [
    {
     "data": {
      "text/plain": [
       "weathersit\n",
       "1    463\n",
       "2    246\n",
       "3     21\n",
       "Name: count, dtype: int64"
      ]
     },
     "execution_count": 26,
     "metadata": {},
     "output_type": "execute_result"
    }
   ],
   "source": [
    "df['weathersit'].value_counts()"
   ]
  },
  {
   "cell_type": "markdown",
   "id": "72f09a56",
   "metadata": {
    "papermill": {
     "duration": 0.02765,
     "end_time": "2024-10-30T09:28:02.137648",
     "exception": false,
     "start_time": "2024-10-30T09:28:02.109998",
     "status": "completed"
    },
    "tags": []
   },
   "source": [
    "No data related to the **4** type."
   ]
  },
  {
   "cell_type": "markdown",
   "id": "709187cd",
   "metadata": {
    "papermill": {
     "duration": 0.027239,
     "end_time": "2024-10-30T09:28:02.192505",
     "exception": false,
     "start_time": "2024-10-30T09:28:02.165266",
     "status": "completed"
    },
    "tags": []
   },
   "source": [
    "## temp : temperature in Celsius"
   ]
  },
  {
   "cell_type": "code",
   "execution_count": 27,
   "id": "c1a4c78e",
   "metadata": {
    "execution": {
     "iopub.execute_input": "2024-10-30T09:28:02.249701Z",
     "iopub.status.busy": "2024-10-30T09:28:02.248677Z",
     "iopub.status.idle": "2024-10-30T09:28:02.261759Z",
     "shell.execute_reply": "2024-10-30T09:28:02.260593Z"
    },
    "papermill": {
     "duration": 0.0441,
     "end_time": "2024-10-30T09:28:02.264136",
     "exception": false,
     "start_time": "2024-10-30T09:28:02.220036",
     "status": "completed"
    },
    "tags": []
   },
   "outputs": [
    {
     "data": {
      "text/plain": [
       "count    730.000000\n",
       "mean      20.319259\n",
       "std        7.506729\n",
       "min        2.424346\n",
       "25%       13.811885\n",
       "50%       20.465826\n",
       "75%       26.880615\n",
       "max       35.328347\n",
       "Name: temp, dtype: float64"
      ]
     },
     "execution_count": 27,
     "metadata": {},
     "output_type": "execute_result"
    }
   ],
   "source": [
    "df['temp'].describe()"
   ]
  },
  {
   "cell_type": "markdown",
   "id": "1101e5e0",
   "metadata": {
    "papermill": {
     "duration": 0.027915,
     "end_time": "2024-10-30T09:28:02.320558",
     "exception": false,
     "start_time": "2024-10-30T09:28:02.292643",
     "status": "completed"
    },
    "tags": []
   },
   "source": [
    "## atemp: feeling temperature in Celsius"
   ]
  },
  {
   "cell_type": "code",
   "execution_count": 28,
   "id": "2a8c54cb",
   "metadata": {
    "execution": {
     "iopub.execute_input": "2024-10-30T09:28:02.378765Z",
     "iopub.status.busy": "2024-10-30T09:28:02.378340Z",
     "iopub.status.idle": "2024-10-30T09:28:02.389871Z",
     "shell.execute_reply": "2024-10-30T09:28:02.388842Z"
    },
    "papermill": {
     "duration": 0.043222,
     "end_time": "2024-10-30T09:28:02.391971",
     "exception": false,
     "start_time": "2024-10-30T09:28:02.348749",
     "status": "completed"
    },
    "tags": []
   },
   "outputs": [
    {
     "data": {
      "text/plain": [
       "count    730.000000\n",
       "mean      23.726322\n",
       "std        8.150308\n",
       "min        3.953480\n",
       "25%       16.889713\n",
       "50%       24.368225\n",
       "75%       30.445775\n",
       "max       42.044800\n",
       "Name: atemp, dtype: float64"
      ]
     },
     "execution_count": 28,
     "metadata": {},
     "output_type": "execute_result"
    }
   ],
   "source": [
    "df['atemp'].describe()"
   ]
  },
  {
   "cell_type": "markdown",
   "id": "323901c9",
   "metadata": {
    "papermill": {
     "duration": 0.027229,
     "end_time": "2024-10-30T09:28:02.446938",
     "exception": false,
     "start_time": "2024-10-30T09:28:02.419709",
     "status": "completed"
    },
    "tags": []
   },
   "source": [
    "## hum: humidity"
   ]
  },
  {
   "cell_type": "code",
   "execution_count": 29,
   "id": "c65d9d2b",
   "metadata": {
    "execution": {
     "iopub.execute_input": "2024-10-30T09:28:02.503949Z",
     "iopub.status.busy": "2024-10-30T09:28:02.503504Z",
     "iopub.status.idle": "2024-10-30T09:28:02.514806Z",
     "shell.execute_reply": "2024-10-30T09:28:02.513774Z"
    },
    "papermill": {
     "duration": 0.042403,
     "end_time": "2024-10-30T09:28:02.517030",
     "exception": false,
     "start_time": "2024-10-30T09:28:02.474627",
     "status": "completed"
    },
    "tags": []
   },
   "outputs": [
    {
     "data": {
      "text/plain": [
       "count    730.000000\n",
       "mean      62.765175\n",
       "std       14.237589\n",
       "min        0.000000\n",
       "25%       52.000000\n",
       "50%       62.625000\n",
       "75%       72.989575\n",
       "max       97.250000\n",
       "Name: hum, dtype: float64"
      ]
     },
     "execution_count": 29,
     "metadata": {},
     "output_type": "execute_result"
    }
   ],
   "source": [
    "df['hum'].describe()"
   ]
  },
  {
   "cell_type": "markdown",
   "id": "ed17ba6a",
   "metadata": {
    "papermill": {
     "duration": 0.027701,
     "end_time": "2024-10-30T09:28:02.572877",
     "exception": false,
     "start_time": "2024-10-30T09:28:02.545176",
     "status": "completed"
    },
    "tags": []
   },
   "source": [
    "## windspeed: wind speed"
   ]
  },
  {
   "cell_type": "code",
   "execution_count": 30,
   "id": "d8b28372",
   "metadata": {
    "execution": {
     "iopub.execute_input": "2024-10-30T09:28:02.631231Z",
     "iopub.status.busy": "2024-10-30T09:28:02.630357Z",
     "iopub.status.idle": "2024-10-30T09:28:02.642265Z",
     "shell.execute_reply": "2024-10-30T09:28:02.641209Z"
    },
    "papermill": {
     "duration": 0.043442,
     "end_time": "2024-10-30T09:28:02.644359",
     "exception": false,
     "start_time": "2024-10-30T09:28:02.600917",
     "status": "completed"
    },
    "tags": []
   },
   "outputs": [
    {
     "data": {
      "text/plain": [
       "count    730.000000\n",
       "mean      12.763620\n",
       "std        5.195841\n",
       "min        1.500244\n",
       "25%        9.041650\n",
       "50%       12.125325\n",
       "75%       15.625589\n",
       "max       34.000021\n",
       "Name: windspeed, dtype: float64"
      ]
     },
     "execution_count": 30,
     "metadata": {},
     "output_type": "execute_result"
    }
   ],
   "source": [
    "df['windspeed'].describe()"
   ]
  },
  {
   "cell_type": "markdown",
   "id": "b2c7475e",
   "metadata": {
    "papermill": {
     "duration": 0.027488,
     "end_time": "2024-10-30T09:28:02.699827",
     "exception": false,
     "start_time": "2024-10-30T09:28:02.672339",
     "status": "completed"
    },
    "tags": []
   },
   "source": [
    "## casual: count of casual users\n",
    "\n",
    "Indicates the number casual users who have made a rental"
   ]
  },
  {
   "cell_type": "code",
   "execution_count": 31,
   "id": "c1ca18ee",
   "metadata": {
    "execution": {
     "iopub.execute_input": "2024-10-30T09:28:02.758300Z",
     "iopub.status.busy": "2024-10-30T09:28:02.757584Z",
     "iopub.status.idle": "2024-10-30T09:28:02.768168Z",
     "shell.execute_reply": "2024-10-30T09:28:02.767107Z"
    },
    "papermill": {
     "duration": 0.042877,
     "end_time": "2024-10-30T09:28:02.770417",
     "exception": false,
     "start_time": "2024-10-30T09:28:02.727540",
     "status": "completed"
    },
    "tags": []
   },
   "outputs": [
    {
     "data": {
      "text/plain": [
       "count     730.000000\n",
       "mean      849.249315\n",
       "std       686.479875\n",
       "min         2.000000\n",
       "25%       316.250000\n",
       "50%       717.000000\n",
       "75%      1096.500000\n",
       "max      3410.000000\n",
       "Name: casual, dtype: float64"
      ]
     },
     "execution_count": 31,
     "metadata": {},
     "output_type": "execute_result"
    }
   ],
   "source": [
    "df['casual'].describe()"
   ]
  },
  {
   "cell_type": "markdown",
   "id": "53d4e15f",
   "metadata": {
    "papermill": {
     "duration": 0.027436,
     "end_time": "2024-10-30T09:28:02.825892",
     "exception": false,
     "start_time": "2024-10-30T09:28:02.798456",
     "status": "completed"
    },
    "tags": []
   },
   "source": [
    "## registered: count of registered users\n",
    "\n",
    "The total number of registered users who have made a booking on a given day"
   ]
  },
  {
   "cell_type": "code",
   "execution_count": 32,
   "id": "d96e54ab",
   "metadata": {
    "execution": {
     "iopub.execute_input": "2024-10-30T09:28:02.883705Z",
     "iopub.status.busy": "2024-10-30T09:28:02.882793Z",
     "iopub.status.idle": "2024-10-30T09:28:02.893166Z",
     "shell.execute_reply": "2024-10-30T09:28:02.892092Z"
    },
    "papermill": {
     "duration": 0.041517,
     "end_time": "2024-10-30T09:28:02.895272",
     "exception": false,
     "start_time": "2024-10-30T09:28:02.853755",
     "status": "completed"
    },
    "tags": []
   },
   "outputs": [
    {
     "data": {
      "text/plain": [
       "count     730.000000\n",
       "mean     3658.757534\n",
       "std      1559.758728\n",
       "min        20.000000\n",
       "25%      2502.250000\n",
       "50%      3664.500000\n",
       "75%      4783.250000\n",
       "max      6946.000000\n",
       "Name: registered, dtype: float64"
      ]
     },
     "execution_count": 32,
     "metadata": {},
     "output_type": "execute_result"
    }
   ],
   "source": [
    "df['registered'].describe()"
   ]
  },
  {
   "cell_type": "markdown",
   "id": "faadb743",
   "metadata": {
    "papermill": {
     "duration": 0.0286,
     "end_time": "2024-10-30T09:28:02.951989",
     "exception": false,
     "start_time": "2024-10-30T09:28:02.923389",
     "status": "completed"
    },
    "tags": []
   },
   "source": [
    "## cnt: count of total rental bikes including both casual and registered\n",
    "\n",
    "Target Variable"
   ]
  },
  {
   "cell_type": "code",
   "execution_count": 33,
   "id": "e3a71d44",
   "metadata": {
    "execution": {
     "iopub.execute_input": "2024-10-30T09:28:03.010314Z",
     "iopub.status.busy": "2024-10-30T09:28:03.009487Z",
     "iopub.status.idle": "2024-10-30T09:28:03.019992Z",
     "shell.execute_reply": "2024-10-30T09:28:03.018939Z"
    },
    "papermill": {
     "duration": 0.042074,
     "end_time": "2024-10-30T09:28:03.022178",
     "exception": false,
     "start_time": "2024-10-30T09:28:02.980104",
     "status": "completed"
    },
    "tags": []
   },
   "outputs": [
    {
     "data": {
      "text/plain": [
       "count     730.000000\n",
       "mean     4508.006849\n",
       "std      1936.011647\n",
       "min        22.000000\n",
       "25%      3169.750000\n",
       "50%      4548.500000\n",
       "75%      5966.000000\n",
       "max      8714.000000\n",
       "Name: cnt, dtype: float64"
      ]
     },
     "execution_count": 33,
     "metadata": {},
     "output_type": "execute_result"
    }
   ],
   "source": [
    "df['cnt'].describe()"
   ]
  },
  {
   "cell_type": "code",
   "execution_count": 34,
   "id": "6af1efe9",
   "metadata": {
    "execution": {
     "iopub.execute_input": "2024-10-30T09:28:03.082663Z",
     "iopub.status.busy": "2024-10-30T09:28:03.082248Z",
     "iopub.status.idle": "2024-10-30T09:28:03.094929Z",
     "shell.execute_reply": "2024-10-30T09:28:03.093802Z"
    },
    "papermill": {
     "duration": 0.046143,
     "end_time": "2024-10-30T09:28:03.097312",
     "exception": false,
     "start_time": "2024-10-30T09:28:03.051169",
     "status": "completed"
    },
    "tags": []
   },
   "outputs": [
    {
     "name": "stdout",
     "output_type": "stream",
     "text": [
      "<class 'pandas.core.frame.DataFrame'>\n",
      "RangeIndex: 730 entries, 0 to 729\n",
      "Data columns (total 16 columns):\n",
      " #   Column      Non-Null Count  Dtype         \n",
      "---  ------      --------------  -----         \n",
      " 0   instant     730 non-null    int64         \n",
      " 1   dteday      730 non-null    datetime64[ns]\n",
      " 2   season      730 non-null    object        \n",
      " 3   yr          730 non-null    object        \n",
      " 4   mnth        730 non-null    object        \n",
      " 5   holiday     730 non-null    object        \n",
      " 6   weekday     730 non-null    object        \n",
      " 7   workingday  730 non-null    object        \n",
      " 8   weathersit  730 non-null    object        \n",
      " 9   temp        730 non-null    float64       \n",
      " 10  atemp       730 non-null    float64       \n",
      " 11  hum         730 non-null    float64       \n",
      " 12  windspeed   730 non-null    float64       \n",
      " 13  casual      730 non-null    int64         \n",
      " 14  registered  730 non-null    int64         \n",
      " 15  cnt         730 non-null    int64         \n",
      "dtypes: datetime64[ns](1), float64(4), int64(4), object(7)\n",
      "memory usage: 91.4+ KB\n"
     ]
    }
   ],
   "source": [
    "df.info()"
   ]
  },
  {
   "cell_type": "code",
   "execution_count": 35,
   "id": "23ec9cf8",
   "metadata": {
    "execution": {
     "iopub.execute_input": "2024-10-30T09:28:03.159085Z",
     "iopub.status.busy": "2024-10-30T09:28:03.158319Z",
     "iopub.status.idle": "2024-10-30T09:28:03.165976Z",
     "shell.execute_reply": "2024-10-30T09:28:03.164996Z"
    },
    "papermill": {
     "duration": 0.041872,
     "end_time": "2024-10-30T09:28:03.168153",
     "exception": false,
     "start_time": "2024-10-30T09:28:03.126281",
     "status": "completed"
    },
    "tags": []
   },
   "outputs": [
    {
     "data": {
      "text/plain": [
       "['season', 'yr', 'mnth', 'holiday', 'weekday', 'workingday', 'weathersit']"
      ]
     },
     "execution_count": 35,
     "metadata": {},
     "output_type": "execute_result"
    }
   ],
   "source": [
    "cat_cols = [col for col in df.columns if df[col].dtype == 'O']\n",
    "cat_cols"
   ]
  },
  {
   "cell_type": "code",
   "execution_count": 36,
   "id": "28072b01",
   "metadata": {
    "execution": {
     "iopub.execute_input": "2024-10-30T09:28:03.228310Z",
     "iopub.status.busy": "2024-10-30T09:28:03.227895Z",
     "iopub.status.idle": "2024-10-30T09:28:03.236060Z",
     "shell.execute_reply": "2024-10-30T09:28:03.234842Z"
    },
    "papermill": {
     "duration": 0.040986,
     "end_time": "2024-10-30T09:28:03.238282",
     "exception": false,
     "start_time": "2024-10-30T09:28:03.197296",
     "status": "completed"
    },
    "tags": []
   },
   "outputs": [
    {
     "data": {
      "text/plain": [
       "['temp', 'atemp', 'hum', 'windspeed', 'casual', 'registered']"
      ]
     },
     "execution_count": 36,
     "metadata": {},
     "output_type": "execute_result"
    }
   ],
   "source": [
    "num_cols = [col for col in df.columns if df[col].dtype != 'O']\n",
    "num_cols.remove('instant')\n",
    "num_cols.remove('dteday')\n",
    "num_cols.remove('cnt')\n",
    "num_cols"
   ]
  },
  {
   "cell_type": "markdown",
   "id": "b63147db",
   "metadata": {
    "papermill": {
     "duration": 0.029107,
     "end_time": "2024-10-30T09:28:03.296239",
     "exception": false,
     "start_time": "2024-10-30T09:28:03.267132",
     "status": "completed"
    },
    "tags": []
   },
   "source": [
    "## categorical columns v/s cnt"
   ]
  },
  {
   "cell_type": "code",
   "execution_count": 37,
   "id": "066c62f0",
   "metadata": {
    "execution": {
     "iopub.execute_input": "2024-10-30T09:28:03.355695Z",
     "iopub.status.busy": "2024-10-30T09:28:03.355254Z",
     "iopub.status.idle": "2024-10-30T09:28:04.632109Z",
     "shell.execute_reply": "2024-10-30T09:28:04.630974Z"
    },
    "papermill": {
     "duration": 1.309204,
     "end_time": "2024-10-30T09:28:04.634278",
     "exception": false,
     "start_time": "2024-10-30T09:28:03.325074",
     "status": "completed"
    },
    "tags": []
   },
   "outputs": [
    {
     "data": {
      "image/png": "[encoded data removed]",
      "text/plain": [
       "<Figure size 1500x1000 with 7 Axes>"
      ]
     },
     "metadata": {},
     "output_type": "display_data"
    }
   ],
   "source": [
    "plt.figure(figsize = (15, 10))\n",
    "for i,col in enumerate(cat_cols):\n",
    "    plt.subplot(3, 3, i + 1)\n",
    "    sns.boxplot(x = col, y = 'cnt', data = df)"
   ]
  },
  {
   "cell_type": "markdown",
   "id": "5a6358dc",
   "metadata": {
    "papermill": {
     "duration": 0.029223,
     "end_time": "2024-10-30T09:28:04.693237",
     "exception": false,
     "start_time": "2024-10-30T09:28:04.664014",
     "status": "completed"
    },
    "tags": []
   },
   "source": [
    "* We have outliers in season and yr attribute.\n",
    "* count is least in spring season\n",
    "* count increases from 2018 to 2019. We have one outlier in 2019 where sales is too less. maybe it was the start of pandemic. \n",
    "* count keeps on increasing from the start of year and then decreases at the end of the year.\n",
    "* count median is lower on holidays than non-holidays.\n",
    "* count distribution is almost similar for all weekdays.\n",
    "* count distribution is almost similar for both working day and non-working day.\n",
    "* count is least for 3 of weathersit"
   ]
  },
  {
   "cell_type": "markdown",
   "id": "c2dc4da3",
   "metadata": {
    "papermill": {
     "duration": 0.029954,
     "end_time": "2024-10-30T09:28:04.752627",
     "exception": false,
     "start_time": "2024-10-30T09:28:04.722673",
     "status": "completed"
    },
    "tags": []
   },
   "source": [
    "## numerical columns v/s cnt"
   ]
  },
  {
   "cell_type": "code",
   "execution_count": 38,
   "id": "0752f26f",
   "metadata": {
    "execution": {
     "iopub.execute_input": "2024-10-30T09:28:04.813620Z",
     "iopub.status.busy": "2024-10-30T09:28:04.813160Z",
     "iopub.status.idle": "2024-10-30T09:28:06.196917Z",
     "shell.execute_reply": "2024-10-30T09:28:06.195625Z"
    },
    "papermill": {
     "duration": 1.418997,
     "end_time": "2024-10-30T09:28:06.201167",
     "exception": false,
     "start_time": "2024-10-30T09:28:04.782170",
     "status": "completed"
    },
    "tags": []
   },
   "outputs": [
    {
     "data": {
      "image/png": "[encoded data removed]",
      "text/plain": [
       "<Figure size 1500x1000 with 6 Axes>"
      ]
     },
     "metadata": {},
     "output_type": "display_data"
    }
   ],
   "source": [
    "plt.figure(figsize = (15, 10))\n",
    "for i,col in enumerate(num_cols):\n",
    "    plt.subplot(3, 2, i + 1)\n",
    "    sns.scatterplot(x = col, y = 'cnt', data = df)"
   ]
  },
  {
   "cell_type": "markdown",
   "id": "406d9977",
   "metadata": {
    "papermill": {
     "duration": 0.032809,
     "end_time": "2024-10-30T09:28:06.268131",
     "exception": false,
     "start_time": "2024-10-30T09:28:06.235322",
     "status": "completed"
    },
    "tags": []
   },
   "source": [
    "* weak linear relationship exists between temp,atemp and cnt\n",
    "* no linear relationship exists between hum,windspeed and cnt\n",
    "* strong linear relationship exist between casual,registered and cnt"
   ]
  },
  {
   "cell_type": "markdown",
   "id": "3772b2b2",
   "metadata": {
    "papermill": {
     "duration": 0.032479,
     "end_time": "2024-10-30T09:28:06.333775",
     "exception": false,
     "start_time": "2024-10-30T09:28:06.301296",
     "status": "completed"
    },
    "tags": []
   },
   "source": [
    "# Outlier Analysis"
   ]
  },
  {
   "cell_type": "markdown",
   "id": "5110f76e",
   "metadata": {
    "papermill": {
     "duration": 0.032714,
     "end_time": "2024-10-30T09:28:06.399340",
     "exception": false,
     "start_time": "2024-10-30T09:28:06.366626",
     "status": "completed"
    },
    "tags": []
   },
   "source": [
    "### yr column"
   ]
  },
  {
   "cell_type": "code",
   "execution_count": 39,
   "id": "b8c04f58",
   "metadata": {
    "execution": {
     "iopub.execute_input": "2024-10-30T09:28:06.467349Z",
     "iopub.status.busy": "2024-10-30T09:28:06.466936Z",
     "iopub.status.idle": "2024-10-30T09:28:06.476023Z",
     "shell.execute_reply": "2024-10-30T09:28:06.474848Z"
    },
    "papermill": {
     "duration": 0.046257,
     "end_time": "2024-10-30T09:28:06.478309",
     "exception": false,
     "start_time": "2024-10-30T09:28:06.432052",
     "status": "completed"
    },
    "tags": []
   },
   "outputs": [],
   "source": [
    "df_2019 = df[df['yr'] == '1']"
   ]
  },
  {
   "cell_type": "code",
   "execution_count": 40,
   "id": "e079764c",
   "metadata": {
    "execution": {
     "iopub.execute_input": "2024-10-30T09:28:06.548086Z",
     "iopub.status.busy": "2024-10-30T09:28:06.547273Z",
     "iopub.status.idle": "2024-10-30T09:28:06.556033Z",
     "shell.execute_reply": "2024-10-30T09:28:06.555060Z"
    },
    "papermill": {
     "duration": 0.046588,
     "end_time": "2024-10-30T09:28:06.558191",
     "exception": false,
     "start_time": "2024-10-30T09:28:06.511603",
     "status": "completed"
    },
    "tags": []
   },
   "outputs": [
    {
     "data": {
      "text/plain": [
       "418.0"
      ]
     },
     "execution_count": 40,
     "metadata": {},
     "output_type": "execute_result"
    }
   ],
   "source": [
    "q1 = np.percentile(df_2019['cnt'], 25)\n",
    "q3 = np.percentile(df_2019['cnt'], 75)\n",
    "iqr = q3 - q1\n",
    "lower_limit = q1 - 1.5*iqr\n",
    "lower_limit"
   ]
  },
  {
   "cell_type": "code",
   "execution_count": 41,
   "id": "3a7c1cf0",
   "metadata": {
    "execution": {
     "iopub.execute_input": "2024-10-30T09:28:06.627651Z",
     "iopub.status.busy": "2024-10-30T09:28:06.626658Z",
     "iopub.status.idle": "2024-10-30T09:28:06.644578Z",
     "shell.execute_reply": "2024-10-30T09:28:06.643549Z"
    },
    "papermill": {
     "duration": 0.055314,
     "end_time": "2024-10-30T09:28:06.647070",
     "exception": false,
     "start_time": "2024-10-30T09:28:06.591756",
     "status": "completed"
    },
    "tags": []
   },
   "outputs": [
    {
     "data": {
      "text/html": [
       "<div>\n",
       "<style scoped>\n",
       "    .dataframe tbody tr th:only-of-type {\n",
       "        vertical-align: middle;\n",
       "    }\n",
       "\n",
       "    .dataframe tbody tr th {\n",
       "        vertical-align: top;\n",
       "    }\n",
       "\n",
       "    .dataframe thead th {\n",
       "        text-align: right;\n",
       "    }\n",
       "</style>\n",
       "<table border=\"1\" class=\"dataframe\">\n",
       "  <thead>\n",
       "    <tr style=\"text-align: right;\">\n",
       "      <th></th>\n",
       "      <th>instant</th>\n",
       "      <th>dteday</th>\n",
       "      <th>season</th>\n",
       "      <th>yr</th>\n",
       "      <th>mnth</th>\n",
       "      <th>holiday</th>\n",
       "      <th>weekday</th>\n",
       "      <th>workingday</th>\n",
       "      <th>weathersit</th>\n",
       "      <th>temp</th>\n",
       "      <th>atemp</th>\n",
       "      <th>hum</th>\n",
       "      <th>windspeed</th>\n",
       "      <th>casual</th>\n",
       "      <th>registered</th>\n",
       "      <th>cnt</th>\n",
       "    </tr>\n",
       "  </thead>\n",
       "  <tbody>\n",
       "    <tr>\n",
       "      <th>666</th>\n",
       "      <td>667</td>\n",
       "      <td>2019-10-29</td>\n",
       "      <td>4</td>\n",
       "      <td>1</td>\n",
       "      <td>10</td>\n",
       "      <td>0</td>\n",
       "      <td>1</td>\n",
       "      <td>1</td>\n",
       "      <td>3</td>\n",
       "      <td>18.04</td>\n",
       "      <td>21.97</td>\n",
       "      <td>88.0</td>\n",
       "      <td>23.9994</td>\n",
       "      <td>2</td>\n",
       "      <td>20</td>\n",
       "      <td>22</td>\n",
       "    </tr>\n",
       "  </tbody>\n",
       "</table>\n",
       "</div>"
      ],
      "text/plain": [
       "     instant     dteday season yr mnth holiday weekday workingday weathersit  \\\n",
       "666      667 2019-10-29      4  1   10       0       1          1          3   \n",
       "\n",
       "      temp  atemp   hum  windspeed  casual  registered  cnt  \n",
       "666  18.04  21.97  88.0    23.9994       2          20   22  "
      ]
     },
     "execution_count": 41,
     "metadata": {},
     "output_type": "execute_result"
    }
   ],
   "source": [
    "df_2019[df_2019['cnt'] < lower_limit]"
   ]
  },
  {
   "cell_type": "markdown",
   "id": "176fb4bf",
   "metadata": {
    "papermill": {
     "duration": 0.033091,
     "end_time": "2024-10-30T09:28:06.713593",
     "exception": false,
     "start_time": "2024-10-30T09:28:06.680502",
     "status": "completed"
    },
    "tags": []
   },
   "source": [
    "### season column"
   ]
  },
  {
   "cell_type": "code",
   "execution_count": 42,
   "id": "f5204148",
   "metadata": {
    "execution": {
     "iopub.execute_input": "2024-10-30T09:28:06.789250Z",
     "iopub.status.busy": "2024-10-30T09:28:06.788290Z",
     "iopub.status.idle": "2024-10-30T09:28:06.795177Z",
     "shell.execute_reply": "2024-10-30T09:28:06.794115Z"
    },
    "papermill": {
     "duration": 0.047932,
     "end_time": "2024-10-30T09:28:06.797477",
     "exception": false,
     "start_time": "2024-10-30T09:28:06.749545",
     "status": "completed"
    },
    "tags": []
   },
   "outputs": [],
   "source": [
    "df_spring = df[df['season'] == '1']"
   ]
  },
  {
   "cell_type": "code",
   "execution_count": 43,
   "id": "40ae69b6",
   "metadata": {
    "execution": {
     "iopub.execute_input": "2024-10-30T09:28:06.867028Z",
     "iopub.status.busy": "2024-10-30T09:28:06.866159Z",
     "iopub.status.idle": "2024-10-30T09:28:06.875469Z",
     "shell.execute_reply": "2024-10-30T09:28:06.874449Z"
    },
    "papermill": {
     "duration": 0.046516,
     "end_time": "2024-10-30T09:28:06.877715",
     "exception": false,
     "start_time": "2024-10-30T09:28:06.831199",
     "status": "completed"
    },
    "tags": []
   },
   "outputs": [
    {
     "data": {
      "text/plain": [
       "6355.375"
      ]
     },
     "execution_count": 43,
     "metadata": {},
     "output_type": "execute_result"
    }
   ],
   "source": [
    "q1 = np.percentile(df_spring['cnt'], 25)\n",
    "q3 = np.percentile(df_spring['cnt'], 75)\n",
    "iqr = q3 - q1\n",
    "upper_limit = q3 + 1.5*iqr\n",
    "upper_limit"
   ]
  },
  {
   "cell_type": "code",
   "execution_count": 44,
   "id": "0ce29a3e",
   "metadata": {
    "execution": {
     "iopub.execute_input": "2024-10-30T09:28:06.946851Z",
     "iopub.status.busy": "2024-10-30T09:28:06.946372Z",
     "iopub.status.idle": "2024-10-30T09:28:06.964771Z",
     "shell.execute_reply": "2024-10-30T09:28:06.963585Z"
    },
    "papermill": {
     "duration": 0.055566,
     "end_time": "2024-10-30T09:28:06.966864",
     "exception": false,
     "start_time": "2024-10-30T09:28:06.911298",
     "status": "completed"
    },
    "tags": []
   },
   "outputs": [
    {
     "data": {
      "text/html": [
       "<div>\n",
       "<style scoped>\n",
       "    .dataframe tbody tr th:only-of-type {\n",
       "        vertical-align: middle;\n",
       "    }\n",
       "\n",
       "    .dataframe tbody tr th {\n",
       "        vertical-align: top;\n",
       "    }\n",
       "\n",
       "    .dataframe thead th {\n",
       "        text-align: right;\n",
       "    }\n",
       "</style>\n",
       "<table border=\"1\" class=\"dataframe\">\n",
       "  <thead>\n",
       "    <tr style=\"text-align: right;\">\n",
       "      <th></th>\n",
       "      <th>instant</th>\n",
       "      <th>dteday</th>\n",
       "      <th>season</th>\n",
       "      <th>yr</th>\n",
       "      <th>mnth</th>\n",
       "      <th>holiday</th>\n",
       "      <th>weekday</th>\n",
       "      <th>workingday</th>\n",
       "      <th>weathersit</th>\n",
       "      <th>temp</th>\n",
       "      <th>atemp</th>\n",
       "      <th>hum</th>\n",
       "      <th>windspeed</th>\n",
       "      <th>casual</th>\n",
       "      <th>registered</th>\n",
       "      <th>cnt</th>\n",
       "    </tr>\n",
       "  </thead>\n",
       "  <tbody>\n",
       "    <tr>\n",
       "      <th>440</th>\n",
       "      <td>441</td>\n",
       "      <td>2019-03-17</td>\n",
       "      <td>1</td>\n",
       "      <td>1</td>\n",
       "      <td>3</td>\n",
       "      <td>0</td>\n",
       "      <td>6</td>\n",
       "      <td>0</td>\n",
       "      <td>2</td>\n",
       "      <td>21.080847</td>\n",
       "      <td>25.2523</td>\n",
       "      <td>75.5833</td>\n",
       "      <td>7.417168</td>\n",
       "      <td>3155</td>\n",
       "      <td>4681</td>\n",
       "      <td>7836</td>\n",
       "    </tr>\n",
       "  </tbody>\n",
       "</table>\n",
       "</div>"
      ],
      "text/plain": [
       "     instant     dteday season yr mnth holiday weekday workingday weathersit  \\\n",
       "440      441 2019-03-17      1  1    3       0       6          0          2   \n",
       "\n",
       "          temp    atemp      hum  windspeed  casual  registered   cnt  \n",
       "440  21.080847  25.2523  75.5833   7.417168    3155        4681  7836  "
      ]
     },
     "execution_count": 44,
     "metadata": {},
     "output_type": "execute_result"
    }
   ],
   "source": [
    "df_spring[df_spring['cnt'] > upper_limit]"
   ]
  },
  {
   "cell_type": "code",
   "execution_count": 45,
   "id": "6b18048f",
   "metadata": {
    "execution": {
     "iopub.execute_input": "2024-10-30T09:28:07.036042Z",
     "iopub.status.busy": "2024-10-30T09:28:07.035377Z",
     "iopub.status.idle": "2024-10-30T09:28:07.041917Z",
     "shell.execute_reply": "2024-10-30T09:28:07.040809Z"
    },
    "papermill": {
     "duration": 0.043613,
     "end_time": "2024-10-30T09:28:07.044024",
     "exception": false,
     "start_time": "2024-10-30T09:28:07.000411",
     "status": "completed"
    },
    "tags": []
   },
   "outputs": [],
   "source": [
    "df_winter = df[df['season'] == '4']"
   ]
  },
  {
   "cell_type": "code",
   "execution_count": 46,
   "id": "74f9a6c4",
   "metadata": {
    "execution": {
     "iopub.execute_input": "2024-10-30T09:28:07.114488Z",
     "iopub.status.busy": "2024-10-30T09:28:07.113381Z",
     "iopub.status.idle": "2024-10-30T09:28:07.122416Z",
     "shell.execute_reply": "2024-10-30T09:28:07.121404Z"
    },
    "papermill": {
     "duration": 0.04576,
     "end_time": "2024-10-30T09:28:07.124554",
     "exception": false,
     "start_time": "2024-10-30T09:28:07.078794",
     "status": "completed"
    },
    "tags": []
   },
   "outputs": [
    {
     "data": {
      "text/plain": [
       "602.0"
      ]
     },
     "execution_count": 46,
     "metadata": {},
     "output_type": "execute_result"
    }
   ],
   "source": [
    "q1 = np.percentile(df_winter['cnt'], 25)\n",
    "q3 = np.percentile(df_winter['cnt'], 75)\n",
    "iqr = q3 - q1\n",
    "lower_limit = q1 - 1.5*iqr\n",
    "lower_limit"
   ]
  },
  {
   "cell_type": "code",
   "execution_count": 47,
   "id": "584256e4",
   "metadata": {
    "execution": {
     "iopub.execute_input": "2024-10-30T09:28:07.194281Z",
     "iopub.status.busy": "2024-10-30T09:28:07.193136Z",
     "iopub.status.idle": "2024-10-30T09:28:07.211961Z",
     "shell.execute_reply": "2024-10-30T09:28:07.210838Z"
    },
    "papermill": {
     "duration": 0.056176,
     "end_time": "2024-10-30T09:28:07.214366",
     "exception": false,
     "start_time": "2024-10-30T09:28:07.158190",
     "status": "completed"
    },
    "tags": []
   },
   "outputs": [
    {
     "data": {
      "text/html": [
       "<div>\n",
       "<style scoped>\n",
       "    .dataframe tbody tr th:only-of-type {\n",
       "        vertical-align: middle;\n",
       "    }\n",
       "\n",
       "    .dataframe tbody tr th {\n",
       "        vertical-align: top;\n",
       "    }\n",
       "\n",
       "    .dataframe thead th {\n",
       "        text-align: right;\n",
       "    }\n",
       "</style>\n",
       "<table border=\"1\" class=\"dataframe\">\n",
       "  <thead>\n",
       "    <tr style=\"text-align: right;\">\n",
       "      <th></th>\n",
       "      <th>instant</th>\n",
       "      <th>dteday</th>\n",
       "      <th>season</th>\n",
       "      <th>yr</th>\n",
       "      <th>mnth</th>\n",
       "      <th>holiday</th>\n",
       "      <th>weekday</th>\n",
       "      <th>workingday</th>\n",
       "      <th>weathersit</th>\n",
       "      <th>temp</th>\n",
       "      <th>atemp</th>\n",
       "      <th>hum</th>\n",
       "      <th>windspeed</th>\n",
       "      <th>casual</th>\n",
       "      <th>registered</th>\n",
       "      <th>cnt</th>\n",
       "    </tr>\n",
       "  </thead>\n",
       "  <tbody>\n",
       "    <tr>\n",
       "      <th>666</th>\n",
       "      <td>667</td>\n",
       "      <td>2019-10-29</td>\n",
       "      <td>4</td>\n",
       "      <td>1</td>\n",
       "      <td>10</td>\n",
       "      <td>0</td>\n",
       "      <td>1</td>\n",
       "      <td>1</td>\n",
       "      <td>3</td>\n",
       "      <td>18.04</td>\n",
       "      <td>21.97</td>\n",
       "      <td>88.0</td>\n",
       "      <td>23.9994</td>\n",
       "      <td>2</td>\n",
       "      <td>20</td>\n",
       "      <td>22</td>\n",
       "    </tr>\n",
       "  </tbody>\n",
       "</table>\n",
       "</div>"
      ],
      "text/plain": [
       "     instant     dteday season yr mnth holiday weekday workingday weathersit  \\\n",
       "666      667 2019-10-29      4  1   10       0       1          1          3   \n",
       "\n",
       "      temp  atemp   hum  windspeed  casual  registered  cnt  \n",
       "666  18.04  21.97  88.0    23.9994       2          20   22  "
      ]
     },
     "execution_count": 47,
     "metadata": {},
     "output_type": "execute_result"
    }
   ],
   "source": [
    "df_winter[df_winter['cnt'] < lower_limit]"
   ]
  },
  {
   "cell_type": "code",
   "execution_count": 48,
   "id": "d308d244",
   "metadata": {
    "execution": {
     "iopub.execute_input": "2024-10-30T09:28:07.284710Z",
     "iopub.status.busy": "2024-10-30T09:28:07.284265Z",
     "iopub.status.idle": "2024-10-30T09:28:07.319995Z",
     "shell.execute_reply": "2024-10-30T09:28:07.318873Z"
    },
    "papermill": {
     "duration": 0.07395,
     "end_time": "2024-10-30T09:28:07.322345",
     "exception": false,
     "start_time": "2024-10-30T09:28:07.248395",
     "status": "completed"
    },
    "tags": []
   },
   "outputs": [
    {
     "data": {
      "text/html": [
       "<div>\n",
       "<style scoped>\n",
       "    .dataframe tbody tr th:only-of-type {\n",
       "        vertical-align: middle;\n",
       "    }\n",
       "\n",
       "    .dataframe tbody tr th {\n",
       "        vertical-align: top;\n",
       "    }\n",
       "\n",
       "    .dataframe thead th {\n",
       "        text-align: right;\n",
       "    }\n",
       "</style>\n",
       "<table border=\"1\" class=\"dataframe\">\n",
       "  <thead>\n",
       "    <tr style=\"text-align: right;\">\n",
       "      <th></th>\n",
       "      <th>instant</th>\n",
       "      <th>dteday</th>\n",
       "      <th>temp</th>\n",
       "      <th>atemp</th>\n",
       "      <th>hum</th>\n",
       "      <th>windspeed</th>\n",
       "      <th>casual</th>\n",
       "      <th>registered</th>\n",
       "      <th>cnt</th>\n",
       "    </tr>\n",
       "  </thead>\n",
       "  <tbody>\n",
       "    <tr>\n",
       "      <th>count</th>\n",
       "      <td>730.000000</td>\n",
       "      <td>730</td>\n",
       "      <td>730.000000</td>\n",
       "      <td>730.000000</td>\n",
       "      <td>730.000000</td>\n",
       "      <td>730.000000</td>\n",
       "      <td>730.000000</td>\n",
       "      <td>730.000000</td>\n",
       "      <td>730.000000</td>\n",
       "    </tr>\n",
       "    <tr>\n",
       "      <th>mean</th>\n",
       "      <td>365.500000</td>\n",
       "      <td>2018-12-31 12:00:00</td>\n",
       "      <td>20.319259</td>\n",
       "      <td>23.726322</td>\n",
       "      <td>62.765175</td>\n",
       "      <td>12.763620</td>\n",
       "      <td>849.249315</td>\n",
       "      <td>3658.757534</td>\n",
       "      <td>4508.006849</td>\n",
       "    </tr>\n",
       "    <tr>\n",
       "      <th>min</th>\n",
       "      <td>1.000000</td>\n",
       "      <td>2018-01-01 00:00:00</td>\n",
       "      <td>2.424346</td>\n",
       "      <td>3.953480</td>\n",
       "      <td>0.000000</td>\n",
       "      <td>1.500244</td>\n",
       "      <td>2.000000</td>\n",
       "      <td>20.000000</td>\n",
       "      <td>22.000000</td>\n",
       "    </tr>\n",
       "    <tr>\n",
       "      <th>25%</th>\n",
       "      <td>183.250000</td>\n",
       "      <td>2018-07-02 06:00:00</td>\n",
       "      <td>13.811885</td>\n",
       "      <td>16.889713</td>\n",
       "      <td>52.000000</td>\n",
       "      <td>9.041650</td>\n",
       "      <td>316.250000</td>\n",
       "      <td>2502.250000</td>\n",
       "      <td>3169.750000</td>\n",
       "    </tr>\n",
       "    <tr>\n",
       "      <th>50%</th>\n",
       "      <td>365.500000</td>\n",
       "      <td>2018-12-31 12:00:00</td>\n",
       "      <td>20.465826</td>\n",
       "      <td>24.368225</td>\n",
       "      <td>62.625000</td>\n",
       "      <td>12.125325</td>\n",
       "      <td>717.000000</td>\n",
       "      <td>3664.500000</td>\n",
       "      <td>4548.500000</td>\n",
       "    </tr>\n",
       "    <tr>\n",
       "      <th>75%</th>\n",
       "      <td>547.750000</td>\n",
       "      <td>2019-07-01 18:00:00</td>\n",
       "      <td>26.880615</td>\n",
       "      <td>30.445775</td>\n",
       "      <td>72.989575</td>\n",
       "      <td>15.625589</td>\n",
       "      <td>1096.500000</td>\n",
       "      <td>4783.250000</td>\n",
       "      <td>5966.000000</td>\n",
       "    </tr>\n",
       "    <tr>\n",
       "      <th>max</th>\n",
       "      <td>730.000000</td>\n",
       "      <td>2019-12-31 00:00:00</td>\n",
       "      <td>35.328347</td>\n",
       "      <td>42.044800</td>\n",
       "      <td>97.250000</td>\n",
       "      <td>34.000021</td>\n",
       "      <td>3410.000000</td>\n",
       "      <td>6946.000000</td>\n",
       "      <td>8714.000000</td>\n",
       "    </tr>\n",
       "    <tr>\n",
       "      <th>std</th>\n",
       "      <td>210.877136</td>\n",
       "      <td>NaN</td>\n",
       "      <td>7.506729</td>\n",
       "      <td>8.150308</td>\n",
       "      <td>14.237589</td>\n",
       "      <td>5.195841</td>\n",
       "      <td>686.479875</td>\n",
       "      <td>1559.758728</td>\n",
       "      <td>1936.011647</td>\n",
       "    </tr>\n",
       "  </tbody>\n",
       "</table>\n",
       "</div>"
      ],
      "text/plain": [
       "          instant               dteday        temp       atemp         hum  \\\n",
       "count  730.000000                  730  730.000000  730.000000  730.000000   \n",
       "mean   365.500000  2018-12-31 12:00:00   20.319259   23.726322   62.765175   \n",
       "min      1.000000  2018-01-01 00:00:00    2.424346    3.953480    0.000000   \n",
       "25%    183.250000  2018-07-02 06:00:00   13.811885   16.889713   52.000000   \n",
       "50%    365.500000  2018-12-31 12:00:00   20.465826   24.368225   62.625000   \n",
       "75%    547.750000  2019-07-01 18:00:00   26.880615   30.445775   72.989575   \n",
       "max    730.000000  2019-12-31 00:00:00   35.328347   42.044800   97.250000   \n",
       "std    210.877136                  NaN    7.506729    8.150308   14.237589   \n",
       "\n",
       "        windspeed       casual   registered          cnt  \n",
       "count  730.000000   730.000000   730.000000   730.000000  \n",
       "mean    12.763620   849.249315  3658.757534  4508.006849  \n",
       "min      1.500244     2.000000    20.000000    22.000000  \n",
       "25%      9.041650   316.250000  2502.250000  3169.750000  \n",
       "50%     12.125325   717.000000  3664.500000  4548.500000  \n",
       "75%     15.625589  1096.500000  4783.250000  5966.000000  \n",
       "max     34.000021  3410.000000  6946.000000  8714.000000  \n",
       "std      5.195841   686.479875  1559.758728  1936.011647  "
      ]
     },
     "execution_count": 48,
     "metadata": {},
     "output_type": "execute_result"
    }
   ],
   "source": [
    "df.describe()"
   ]
  },
  {
   "cell_type": "markdown",
   "id": "00b63fd2",
   "metadata": {
    "papermill": {
     "duration": 0.034279,
     "end_time": "2024-10-30T09:28:07.390810",
     "exception": false,
     "start_time": "2024-10-30T09:28:07.356531",
     "status": "completed"
    },
    "tags": []
   },
   "source": [
    "* outliers are natural variations."
   ]
  },
  {
   "cell_type": "markdown",
   "id": "81176dca",
   "metadata": {
    "papermill": {
     "duration": 0.033741,
     "end_time": "2024-10-30T09:28:07.458421",
     "exception": false,
     "start_time": "2024-10-30T09:28:07.424680",
     "status": "completed"
    },
    "tags": []
   },
   "source": [
    "# Data Preparation"
   ]
  },
  {
   "cell_type": "markdown",
   "id": "e3571f36",
   "metadata": {
    "papermill": {
     "duration": 0.033641,
     "end_time": "2024-10-30T09:28:07.526140",
     "exception": false,
     "start_time": "2024-10-30T09:28:07.492499",
     "status": "completed"
    },
    "tags": []
   },
   "source": [
    "We will drop these below columns -\n",
    "\n",
    "* **instant**- index variable  \n",
    "* **dteday** - date, as we have already have date features (yr, mnth, weekday)"
   ]
  },
  {
   "cell_type": "code",
   "execution_count": 49,
   "id": "2b8ac0a0",
   "metadata": {
    "execution": {
     "iopub.execute_input": "2024-10-30T09:28:07.595865Z",
     "iopub.status.busy": "2024-10-30T09:28:07.595404Z",
     "iopub.status.idle": "2024-10-30T09:28:07.602121Z",
     "shell.execute_reply": "2024-10-30T09:28:07.601091Z"
    },
    "papermill": {
     "duration": 0.04398,
     "end_time": "2024-10-30T09:28:07.604192",
     "exception": false,
     "start_time": "2024-10-30T09:28:07.560212",
     "status": "completed"
    },
    "tags": []
   },
   "outputs": [],
   "source": [
    "df.drop(['instant', 'dteday'], axis = 1, inplace = True)"
   ]
  },
  {
   "cell_type": "markdown",
   "id": "3feac510",
   "metadata": {
    "papermill": {
     "duration": 0.033836,
     "end_time": "2024-10-30T09:28:07.671988",
     "exception": false,
     "start_time": "2024-10-30T09:28:07.638152",
     "status": "completed"
    },
    "tags": []
   },
   "source": [
    "df_copy - we will use for the final model"
   ]
  },
  {
   "cell_type": "code",
   "execution_count": 50,
   "id": "7cea162f",
   "metadata": {
    "execution": {
     "iopub.execute_input": "2024-10-30T09:28:07.742108Z",
     "iopub.status.busy": "2024-10-30T09:28:07.741163Z",
     "iopub.status.idle": "2024-10-30T09:28:07.747564Z",
     "shell.execute_reply": "2024-10-30T09:28:07.746310Z"
    },
    "papermill": {
     "duration": 0.043998,
     "end_time": "2024-10-30T09:28:07.749855",
     "exception": false,
     "start_time": "2024-10-30T09:28:07.705857",
     "status": "completed"
    },
    "tags": []
   },
   "outputs": [],
   "source": [
    "df_copy = df.copy()"
   ]
  },
  {
   "cell_type": "code",
   "execution_count": 51,
   "id": "fa9beed0",
   "metadata": {
    "execution": {
     "iopub.execute_input": "2024-10-30T09:28:07.820950Z",
     "iopub.status.busy": "2024-10-30T09:28:07.820147Z",
     "iopub.status.idle": "2024-10-30T09:28:07.838847Z",
     "shell.execute_reply": "2024-10-30T09:28:07.837721Z"
    },
    "papermill": {
     "duration": 0.056298,
     "end_time": "2024-10-30T09:28:07.841015",
     "exception": false,
     "start_time": "2024-10-30T09:28:07.784717",
     "status": "completed"
    },
    "tags": []
   },
   "outputs": [
    {
     "data": {
      "text/html": [
       "<div>\n",
       "<style scoped>\n",
       "    .dataframe tbody tr th:only-of-type {\n",
       "        vertical-align: middle;\n",
       "    }\n",
       "\n",
       "    .dataframe tbody tr th {\n",
       "        vertical-align: top;\n",
       "    }\n",
       "\n",
       "    .dataframe thead th {\n",
       "        text-align: right;\n",
       "    }\n",
       "</style>\n",
       "<table border=\"1\" class=\"dataframe\">\n",
       "  <thead>\n",
       "    <tr style=\"text-align: right;\">\n",
       "      <th></th>\n",
       "      <th>season</th>\n",
       "      <th>yr</th>\n",
       "      <th>mnth</th>\n",
       "      <th>holiday</th>\n",
       "      <th>weekday</th>\n",
       "      <th>workingday</th>\n",
       "      <th>weathersit</th>\n",
       "      <th>temp</th>\n",
       "      <th>atemp</th>\n",
       "      <th>hum</th>\n",
       "      <th>windspeed</th>\n",
       "      <th>casual</th>\n",
       "      <th>registered</th>\n",
       "      <th>cnt</th>\n",
       "    </tr>\n",
       "  </thead>\n",
       "  <tbody>\n",
       "    <tr>\n",
       "      <th>0</th>\n",
       "      <td>1</td>\n",
       "      <td>0</td>\n",
       "      <td>1</td>\n",
       "      <td>0</td>\n",
       "      <td>6</td>\n",
       "      <td>0</td>\n",
       "      <td>2</td>\n",
       "      <td>14.110847</td>\n",
       "      <td>18.18125</td>\n",
       "      <td>80.5833</td>\n",
       "      <td>10.749882</td>\n",
       "      <td>331</td>\n",
       "      <td>654</td>\n",
       "      <td>985</td>\n",
       "    </tr>\n",
       "    <tr>\n",
       "      <th>1</th>\n",
       "      <td>1</td>\n",
       "      <td>0</td>\n",
       "      <td>1</td>\n",
       "      <td>0</td>\n",
       "      <td>0</td>\n",
       "      <td>0</td>\n",
       "      <td>2</td>\n",
       "      <td>14.902598</td>\n",
       "      <td>17.68695</td>\n",
       "      <td>69.6087</td>\n",
       "      <td>16.652113</td>\n",
       "      <td>131</td>\n",
       "      <td>670</td>\n",
       "      <td>801</td>\n",
       "    </tr>\n",
       "    <tr>\n",
       "      <th>2</th>\n",
       "      <td>1</td>\n",
       "      <td>0</td>\n",
       "      <td>1</td>\n",
       "      <td>0</td>\n",
       "      <td>1</td>\n",
       "      <td>1</td>\n",
       "      <td>1</td>\n",
       "      <td>8.050924</td>\n",
       "      <td>9.47025</td>\n",
       "      <td>43.7273</td>\n",
       "      <td>16.636703</td>\n",
       "      <td>120</td>\n",
       "      <td>1229</td>\n",
       "      <td>1349</td>\n",
       "    </tr>\n",
       "    <tr>\n",
       "      <th>3</th>\n",
       "      <td>1</td>\n",
       "      <td>0</td>\n",
       "      <td>1</td>\n",
       "      <td>0</td>\n",
       "      <td>2</td>\n",
       "      <td>1</td>\n",
       "      <td>1</td>\n",
       "      <td>8.200000</td>\n",
       "      <td>10.60610</td>\n",
       "      <td>59.0435</td>\n",
       "      <td>10.739832</td>\n",
       "      <td>108</td>\n",
       "      <td>1454</td>\n",
       "      <td>1562</td>\n",
       "    </tr>\n",
       "    <tr>\n",
       "      <th>4</th>\n",
       "      <td>1</td>\n",
       "      <td>0</td>\n",
       "      <td>1</td>\n",
       "      <td>0</td>\n",
       "      <td>3</td>\n",
       "      <td>1</td>\n",
       "      <td>1</td>\n",
       "      <td>9.305237</td>\n",
       "      <td>11.46350</td>\n",
       "      <td>43.6957</td>\n",
       "      <td>12.522300</td>\n",
       "      <td>82</td>\n",
       "      <td>1518</td>\n",
       "      <td>1600</td>\n",
       "    </tr>\n",
       "  </tbody>\n",
       "</table>\n",
       "</div>"
      ],
      "text/plain": [
       "  season yr mnth holiday weekday workingday weathersit       temp     atemp  \\\n",
       "0      1  0    1       0       6          0          2  14.110847  18.18125   \n",
       "1      1  0    1       0       0          0          2  14.902598  17.68695   \n",
       "2      1  0    1       0       1          1          1   8.050924   9.47025   \n",
       "3      1  0    1       0       2          1          1   8.200000  10.60610   \n",
       "4      1  0    1       0       3          1          1   9.305237  11.46350   \n",
       "\n",
       "       hum  windspeed  casual  registered   cnt  \n",
       "0  80.5833  10.749882     331         654   985  \n",
       "1  69.6087  16.652113     131         670   801  \n",
       "2  43.7273  16.636703     120        1229  1349  \n",
       "3  59.0435  10.739832     108        1454  1562  \n",
       "4  43.6957  12.522300      82        1518  1600  "
      ]
     },
     "execution_count": 51,
     "metadata": {},
     "output_type": "execute_result"
    }
   ],
   "source": [
    "df_copy.head()"
   ]
  },
  {
   "cell_type": "markdown",
   "id": "ac2f3273",
   "metadata": {
    "papermill": {
     "duration": 0.03426,
     "end_time": "2024-10-30T09:28:07.909589",
     "exception": false,
     "start_time": "2024-10-30T09:28:07.875329",
     "status": "completed"
    },
    "tags": []
   },
   "source": [
    "## Create Dummy Variables"
   ]
  },
  {
   "cell_type": "code",
   "execution_count": 52,
   "id": "8b2adde1",
   "metadata": {
    "execution": {
     "iopub.execute_input": "2024-10-30T09:28:07.980356Z",
     "iopub.status.busy": "2024-10-30T09:28:07.979938Z",
     "iopub.status.idle": "2024-10-30T09:28:07.986799Z",
     "shell.execute_reply": "2024-10-30T09:28:07.985622Z"
    },
    "papermill": {
     "duration": 0.045014,
     "end_time": "2024-10-30T09:28:07.989046",
     "exception": false,
     "start_time": "2024-10-30T09:28:07.944032",
     "status": "completed"
    },
    "tags": []
   },
   "outputs": [
    {
     "data": {
      "text/plain": [
       "['season', 'yr', 'mnth', 'holiday', 'weekday', 'workingday', 'weathersit']"
      ]
     },
     "execution_count": 52,
     "metadata": {},
     "output_type": "execute_result"
    }
   ],
   "source": [
    "cat_cols"
   ]
  },
  {
   "cell_type": "code",
   "execution_count": 53,
   "id": "dc50ef07",
   "metadata": {
    "execution": {
     "iopub.execute_input": "2024-10-30T09:28:08.063054Z",
     "iopub.status.busy": "2024-10-30T09:28:08.062610Z",
     "iopub.status.idle": "2024-10-30T09:28:08.079028Z",
     "shell.execute_reply": "2024-10-30T09:28:08.077861Z"
    },
    "papermill": {
     "duration": 0.055361,
     "end_time": "2024-10-30T09:28:08.081714",
     "exception": false,
     "start_time": "2024-10-30T09:28:08.026353",
     "status": "completed"
    },
    "tags": []
   },
   "outputs": [],
   "source": [
    "df = pd.concat([df, pd.get_dummies(df[cat_cols], drop_first = True).astype(int)], axis = 1)"
   ]
  },
  {
   "cell_type": "code",
   "execution_count": 54,
   "id": "351d1dcb",
   "metadata": {
    "execution": {
     "iopub.execute_input": "2024-10-30T09:28:08.161189Z",
     "iopub.status.busy": "2024-10-30T09:28:08.160735Z",
     "iopub.status.idle": "2024-10-30T09:28:08.167696Z",
     "shell.execute_reply": "2024-10-30T09:28:08.166450Z"
    },
    "papermill": {
     "duration": 0.054743,
     "end_time": "2024-10-30T09:28:08.171150",
     "exception": false,
     "start_time": "2024-10-30T09:28:08.116407",
     "status": "completed"
    },
    "tags": []
   },
   "outputs": [],
   "source": [
    "df.drop(cat_cols, axis = 1, inplace = True)"
   ]
  },
  {
   "cell_type": "code",
   "execution_count": 55,
   "id": "57baa446",
   "metadata": {
    "execution": {
     "iopub.execute_input": "2024-10-30T09:28:08.251111Z",
     "iopub.status.busy": "2024-10-30T09:28:08.250684Z",
     "iopub.status.idle": "2024-10-30T09:28:08.271399Z",
     "shell.execute_reply": "2024-10-30T09:28:08.270339Z"
    },
    "papermill": {
     "duration": 0.05991,
     "end_time": "2024-10-30T09:28:08.273823",
     "exception": false,
     "start_time": "2024-10-30T09:28:08.213913",
     "status": "completed"
    },
    "tags": []
   },
   "outputs": [
    {
     "data": {
      "text/html": [
       "<div>\n",
       "<style scoped>\n",
       "    .dataframe tbody tr th:only-of-type {\n",
       "        vertical-align: middle;\n",
       "    }\n",
       "\n",
       "    .dataframe tbody tr th {\n",
       "        vertical-align: top;\n",
       "    }\n",
       "\n",
       "    .dataframe thead th {\n",
       "        text-align: right;\n",
       "    }\n",
       "</style>\n",
       "<table border=\"1\" class=\"dataframe\">\n",
       "  <thead>\n",
       "    <tr style=\"text-align: right;\">\n",
       "      <th></th>\n",
       "      <th>temp</th>\n",
       "      <th>atemp</th>\n",
       "      <th>hum</th>\n",
       "      <th>windspeed</th>\n",
       "      <th>casual</th>\n",
       "      <th>registered</th>\n",
       "      <th>cnt</th>\n",
       "      <th>season_2</th>\n",
       "      <th>season_3</th>\n",
       "      <th>season_4</th>\n",
       "      <th>...</th>\n",
       "      <th>holiday_1</th>\n",
       "      <th>weekday_1</th>\n",
       "      <th>weekday_2</th>\n",
       "      <th>weekday_3</th>\n",
       "      <th>weekday_4</th>\n",
       "      <th>weekday_5</th>\n",
       "      <th>weekday_6</th>\n",
       "      <th>workingday_1</th>\n",
       "      <th>weathersit_2</th>\n",
       "      <th>weathersit_3</th>\n",
       "    </tr>\n",
       "  </thead>\n",
       "  <tbody>\n",
       "    <tr>\n",
       "      <th>0</th>\n",
       "      <td>14.110847</td>\n",
       "      <td>18.18125</td>\n",
       "      <td>80.5833</td>\n",
       "      <td>10.749882</td>\n",
       "      <td>331</td>\n",
       "      <td>654</td>\n",
       "      <td>985</td>\n",
       "      <td>0</td>\n",
       "      <td>0</td>\n",
       "      <td>0</td>\n",
       "      <td>...</td>\n",
       "      <td>0</td>\n",
       "      <td>0</td>\n",
       "      <td>0</td>\n",
       "      <td>0</td>\n",
       "      <td>0</td>\n",
       "      <td>0</td>\n",
       "      <td>1</td>\n",
       "      <td>0</td>\n",
       "      <td>1</td>\n",
       "      <td>0</td>\n",
       "    </tr>\n",
       "    <tr>\n",
       "      <th>1</th>\n",
       "      <td>14.902598</td>\n",
       "      <td>17.68695</td>\n",
       "      <td>69.6087</td>\n",
       "      <td>16.652113</td>\n",
       "      <td>131</td>\n",
       "      <td>670</td>\n",
       "      <td>801</td>\n",
       "      <td>0</td>\n",
       "      <td>0</td>\n",
       "      <td>0</td>\n",
       "      <td>...</td>\n",
       "      <td>0</td>\n",
       "      <td>0</td>\n",
       "      <td>0</td>\n",
       "      <td>0</td>\n",
       "      <td>0</td>\n",
       "      <td>0</td>\n",
       "      <td>0</td>\n",
       "      <td>0</td>\n",
       "      <td>1</td>\n",
       "      <td>0</td>\n",
       "    </tr>\n",
       "    <tr>\n",
       "      <th>2</th>\n",
       "      <td>8.050924</td>\n",
       "      <td>9.47025</td>\n",
       "      <td>43.7273</td>\n",
       "      <td>16.636703</td>\n",
       "      <td>120</td>\n",
       "      <td>1229</td>\n",
       "      <td>1349</td>\n",
       "      <td>0</td>\n",
       "      <td>0</td>\n",
       "      <td>0</td>\n",
       "      <td>...</td>\n",
       "      <td>0</td>\n",
       "      <td>1</td>\n",
       "      <td>0</td>\n",
       "      <td>0</td>\n",
       "      <td>0</td>\n",
       "      <td>0</td>\n",
       "      <td>0</td>\n",
       "      <td>1</td>\n",
       "      <td>0</td>\n",
       "      <td>0</td>\n",
       "    </tr>\n",
       "    <tr>\n",
       "      <th>3</th>\n",
       "      <td>8.200000</td>\n",
       "      <td>10.60610</td>\n",
       "      <td>59.0435</td>\n",
       "      <td>10.739832</td>\n",
       "      <td>108</td>\n",
       "      <td>1454</td>\n",
       "      <td>1562</td>\n",
       "      <td>0</td>\n",
       "      <td>0</td>\n",
       "      <td>0</td>\n",
       "      <td>...</td>\n",
       "      <td>0</td>\n",
       "      <td>0</td>\n",
       "      <td>1</td>\n",
       "      <td>0</td>\n",
       "      <td>0</td>\n",
       "      <td>0</td>\n",
       "      <td>0</td>\n",
       "      <td>1</td>\n",
       "      <td>0</td>\n",
       "      <td>0</td>\n",
       "    </tr>\n",
       "    <tr>\n",
       "      <th>4</th>\n",
       "      <td>9.305237</td>\n",
       "      <td>11.46350</td>\n",
       "      <td>43.6957</td>\n",
       "      <td>12.522300</td>\n",
       "      <td>82</td>\n",
       "      <td>1518</td>\n",
       "      <td>1600</td>\n",
       "      <td>0</td>\n",
       "      <td>0</td>\n",
       "      <td>0</td>\n",
       "      <td>...</td>\n",
       "      <td>0</td>\n",
       "      <td>0</td>\n",
       "      <td>0</td>\n",
       "      <td>1</td>\n",
       "      <td>0</td>\n",
       "      <td>0</td>\n",
       "      <td>0</td>\n",
       "      <td>1</td>\n",
       "      <td>0</td>\n",
       "      <td>0</td>\n",
       "    </tr>\n",
       "  </tbody>\n",
       "</table>\n",
       "<p>5 rows × 32 columns</p>\n",
       "</div>"
      ],
      "text/plain": [
       "        temp     atemp      hum  windspeed  casual  registered   cnt  \\\n",
       "0  14.110847  18.18125  80.5833  10.749882     331         654   985   \n",
       "1  14.902598  17.68695  69.6087  16.652113     131         670   801   \n",
       "2   8.050924   9.47025  43.7273  16.636703     120        1229  1349   \n",
       "3   8.200000  10.60610  59.0435  10.739832     108        1454  1562   \n",
       "4   9.305237  11.46350  43.6957  12.522300      82        1518  1600   \n",
       "\n",
       "   season_2  season_3  season_4  ...  holiday_1  weekday_1  weekday_2  \\\n",
       "0         0         0         0  ...          0          0          0   \n",
       "1         0         0         0  ...          0          0          0   \n",
       "2         0         0         0  ...          0          1          0   \n",
       "3         0         0         0  ...          0          0          1   \n",
       "4         0         0         0  ...          0          0          0   \n",
       "\n",
       "   weekday_3  weekday_4  weekday_5  weekday_6  workingday_1  weathersit_2  \\\n",
       "0          0          0          0          1             0             1   \n",
       "1          0          0          0          0             0             1   \n",
       "2          0          0          0          0             1             0   \n",
       "3          0          0          0          0             1             0   \n",
       "4          1          0          0          0             1             0   \n",
       "\n",
       "   weathersit_3  \n",
       "0             0  \n",
       "1             0  \n",
       "2             0  \n",
       "3             0  \n",
       "4             0  \n",
       "\n",
       "[5 rows x 32 columns]"
      ]
     },
     "execution_count": 55,
     "metadata": {},
     "output_type": "execute_result"
    }
   ],
   "source": [
    "df.head()"
   ]
  },
  {
   "cell_type": "markdown",
   "id": "c0f722a5",
   "metadata": {
    "papermill": {
     "duration": 0.036984,
     "end_time": "2024-10-30T09:28:08.346988",
     "exception": false,
     "start_time": "2024-10-30T09:28:08.310004",
     "status": "completed"
    },
    "tags": []
   },
   "source": [
    "# Train-Test Split"
   ]
  },
  {
   "cell_type": "code",
   "execution_count": 56,
   "id": "35dc3376",
   "metadata": {
    "execution": {
     "iopub.execute_input": "2024-10-30T09:28:08.419900Z",
     "iopub.status.busy": "2024-10-30T09:28:08.419473Z",
     "iopub.status.idle": "2024-10-30T09:28:08.428533Z",
     "shell.execute_reply": "2024-10-30T09:28:08.427210Z"
    },
    "papermill": {
     "duration": 0.048181,
     "end_time": "2024-10-30T09:28:08.430790",
     "exception": false,
     "start_time": "2024-10-30T09:28:08.382609",
     "status": "completed"
    },
    "tags": []
   },
   "outputs": [],
   "source": [
    "df_train, df_test = train_test_split(df, test_size = 0.3, random_state = 8)"
   ]
  },
  {
   "cell_type": "code",
   "execution_count": 57,
   "id": "22d19f13",
   "metadata": {
    "execution": {
     "iopub.execute_input": "2024-10-30T09:28:08.504283Z",
     "iopub.status.busy": "2024-10-30T09:28:08.503856Z",
     "iopub.status.idle": "2024-10-30T09:28:08.510572Z",
     "shell.execute_reply": "2024-10-30T09:28:08.509537Z"
    },
    "papermill": {
     "duration": 0.045997,
     "end_time": "2024-10-30T09:28:08.512791",
     "exception": false,
     "start_time": "2024-10-30T09:28:08.466794",
     "status": "completed"
    },
    "tags": []
   },
   "outputs": [
    {
     "data": {
      "text/plain": [
       "(511, 32)"
      ]
     },
     "execution_count": 57,
     "metadata": {},
     "output_type": "execute_result"
    }
   ],
   "source": [
    "df_train.shape"
   ]
  },
  {
   "cell_type": "code",
   "execution_count": 58,
   "id": "ede40997",
   "metadata": {
    "execution": {
     "iopub.execute_input": "2024-10-30T09:28:08.586460Z",
     "iopub.status.busy": "2024-10-30T09:28:08.586041Z",
     "iopub.status.idle": "2024-10-30T09:28:08.592561Z",
     "shell.execute_reply": "2024-10-30T09:28:08.591579Z"
    },
    "papermill": {
     "duration": 0.045799,
     "end_time": "2024-10-30T09:28:08.594603",
     "exception": false,
     "start_time": "2024-10-30T09:28:08.548804",
     "status": "completed"
    },
    "tags": []
   },
   "outputs": [
    {
     "data": {
      "text/plain": [
       "(219, 32)"
      ]
     },
     "execution_count": 58,
     "metadata": {},
     "output_type": "execute_result"
    }
   ],
   "source": [
    "df_test.shape"
   ]
  },
  {
   "cell_type": "markdown",
   "id": "7d239773",
   "metadata": {
    "papermill": {
     "duration": 0.035565,
     "end_time": "2024-10-30T09:28:08.666119",
     "exception": false,
     "start_time": "2024-10-30T09:28:08.630554",
     "status": "completed"
    },
    "tags": []
   },
   "source": [
    "# Feature Scaling"
   ]
  },
  {
   "cell_type": "code",
   "execution_count": 59,
   "id": "0fb9e95c",
   "metadata": {
    "execution": {
     "iopub.execute_input": "2024-10-30T09:28:08.739505Z",
     "iopub.status.busy": "2024-10-30T09:28:08.739083Z",
     "iopub.status.idle": "2024-10-30T09:28:08.746150Z",
     "shell.execute_reply": "2024-10-30T09:28:08.745033Z"
    },
    "papermill": {
     "duration": 0.046353,
     "end_time": "2024-10-30T09:28:08.748261",
     "exception": false,
     "start_time": "2024-10-30T09:28:08.701908",
     "status": "completed"
    },
    "tags": []
   },
   "outputs": [
    {
     "data": {
      "text/plain": [
       "['temp', 'atemp', 'hum', 'windspeed', 'casual', 'registered']"
      ]
     },
     "execution_count": 59,
     "metadata": {},
     "output_type": "execute_result"
    }
   ],
   "source": [
    "num_cols"
   ]
  },
  {
   "cell_type": "code",
   "execution_count": 60,
   "id": "943726d8",
   "metadata": {
    "execution": {
     "iopub.execute_input": "2024-10-30T09:28:08.822975Z",
     "iopub.status.busy": "2024-10-30T09:28:08.822493Z",
     "iopub.status.idle": "2024-10-30T09:28:08.838052Z",
     "shell.execute_reply": "2024-10-30T09:28:08.837122Z"
    },
    "papermill": {
     "duration": 0.055316,
     "end_time": "2024-10-30T09:28:08.840320",
     "exception": false,
     "start_time": "2024-10-30T09:28:08.785004",
     "status": "completed"
    },
    "tags": []
   },
   "outputs": [],
   "source": [
    "scaler = MinMaxScaler()\n",
    "df_train[num_cols] = scaler.fit_transform(df_train[num_cols])\n",
    "df_test[num_cols] = scaler.transform(df_test[num_cols])"
   ]
  },
  {
   "cell_type": "markdown",
   "id": "63acb32f",
   "metadata": {
    "papermill": {
     "duration": 0.035855,
     "end_time": "2024-10-30T09:28:08.912301",
     "exception": false,
     "start_time": "2024-10-30T09:28:08.876446",
     "status": "completed"
    },
    "tags": []
   },
   "source": [
    "# Recursive Feature Elimination"
   ]
  },
  {
   "cell_type": "code",
   "execution_count": 61,
   "id": "24987c19",
   "metadata": {
    "execution": {
     "iopub.execute_input": "2024-10-30T09:28:08.986335Z",
     "iopub.status.busy": "2024-10-30T09:28:08.985616Z",
     "iopub.status.idle": "2024-10-30T09:28:08.992970Z",
     "shell.execute_reply": "2024-10-30T09:28:08.991865Z"
    },
    "papermill": {
     "duration": 0.047002,
     "end_time": "2024-10-30T09:28:08.995322",
     "exception": false,
     "start_time": "2024-10-30T09:28:08.948320",
     "status": "completed"
    },
    "tags": []
   },
   "outputs": [],
   "source": [
    "X_train = df_train.drop(['cnt'], axis = 1)\n",
    "y_train = df_train['cnt']\n",
    "\n",
    "X_test = df_test.drop(['cnt'], axis = 1)\n",
    "y_test = df_test['cnt']"
   ]
  },
  {
   "cell_type": "markdown",
   "id": "d1379a4f",
   "metadata": {
    "papermill": {
     "duration": 0.03575,
     "end_time": "2024-10-30T09:28:09.067445",
     "exception": false,
     "start_time": "2024-10-30T09:28:09.031695",
     "status": "completed"
    },
    "tags": []
   },
   "source": [
    "Checking r2 score and rmse by taking each variable at a time"
   ]
  },
  {
   "cell_type": "code",
   "execution_count": 62,
   "id": "d0a4760f",
   "metadata": {
    "execution": {
     "iopub.execute_input": "2024-10-30T09:28:09.144386Z",
     "iopub.status.busy": "2024-10-30T09:28:09.143976Z",
     "iopub.status.idle": "2024-10-30T09:28:10.552497Z",
     "shell.execute_reply": "2024-10-30T09:28:10.551487Z"
    },
    "papermill": {
     "duration": 1.449133,
     "end_time": "2024-10-30T09:28:10.555392",
     "exception": false,
     "start_time": "2024-10-30T09:28:09.106259",
     "status": "completed"
    },
    "tags": []
   },
   "outputs": [],
   "source": [
    "r2_score_dict = {}\n",
    "rmse_dict = {}\n",
    "\n",
    "for i in range(len(X_train.columns)):\n",
    "    model = LinearRegression()\n",
    "    rfe = RFE(model, n_features_to_select = i + 1)\n",
    "    rfe.fit(X_train, y_train)\n",
    "    selected_features = X_train.columns[rfe.support_]\n",
    "    \n",
    "    X_train_rfe = X_train[selected_features]\n",
    "    X_test_rfe = X_test[selected_features]\n",
    "\n",
    "    model.fit(X_train_rfe, y_train)\n",
    "\n",
    "    y_pred = model.predict(X_test_rfe)\n",
    "    \n",
    "    r2_score_dict[i + 1] = r2_score(y_test, y_pred)\n",
    "    rmse_dict[i + 1] = np.sqrt(mean_squared_error(y_test, y_pred))"
   ]
  },
  {
   "cell_type": "code",
   "execution_count": 63,
   "id": "de0a7f0d",
   "metadata": {
    "execution": {
     "iopub.execute_input": "2024-10-30T09:28:10.667044Z",
     "iopub.status.busy": "2024-10-30T09:28:10.666393Z",
     "iopub.status.idle": "2024-10-30T09:28:10.673298Z",
     "shell.execute_reply": "2024-10-30T09:28:10.672540Z"
    },
    "papermill": {
     "duration": 0.064774,
     "end_time": "2024-10-30T09:28:10.675280",
     "exception": false,
     "start_time": "2024-10-30T09:28:10.610506",
     "status": "completed"
    },
    "tags": []
   },
   "outputs": [
    {
     "data": {
      "text/plain": [
       "{1: 0.8841743837281003,\n",
       " 2: 1.0,\n",
       " 3: 1.0,\n",
       " 4: 1.0,\n",
       " 5: 1.0,\n",
       " 6: 1.0,\n",
       " 7: 1.0,\n",
       " 8: 1.0,\n",
       " 9: 1.0,\n",
       " 10: 1.0,\n",
       " 11: 1.0,\n",
       " 12: 1.0,\n",
       " 13: 1.0,\n",
       " 14: 1.0,\n",
       " 15: 1.0,\n",
       " 16: 1.0,\n",
       " 17: 1.0,\n",
       " 18: 1.0,\n",
       " 19: 1.0,\n",
       " 20: 1.0,\n",
       " 21: 1.0,\n",
       " 22: 1.0,\n",
       " 23: 1.0,\n",
       " 24: 1.0,\n",
       " 25: 1.0,\n",
       " 26: 1.0,\n",
       " 27: 1.0,\n",
       " 28: 1.0,\n",
       " 29: 1.0,\n",
       " 30: 1.0,\n",
       " 31: 1.0}"
      ]
     },
     "execution_count": 63,
     "metadata": {},
     "output_type": "execute_result"
    }
   ],
   "source": [
    "r2_score_dict"
   ]
  },
  {
   "cell_type": "code",
   "execution_count": 64,
   "id": "fbc92bcc",
   "metadata": {
    "execution": {
     "iopub.execute_input": "2024-10-30T09:28:10.750994Z",
     "iopub.status.busy": "2024-10-30T09:28:10.749890Z",
     "iopub.status.idle": "2024-10-30T09:28:10.757637Z",
     "shell.execute_reply": "2024-10-30T09:28:10.756573Z"
    },
    "papermill": {
     "duration": 0.047561,
     "end_time": "2024-10-30T09:28:10.759841",
     "exception": false,
     "start_time": "2024-10-30T09:28:10.712280",
     "status": "completed"
    },
    "tags": []
   },
   "outputs": [
    {
     "data": {
      "text/plain": [
       "{1: 678.7883712425985,\n",
       " 2: 1.0958311906607022e-12,\n",
       " 3: 1.3282065445134462e-12,\n",
       " 4: 9.709609545049971e-13,\n",
       " 5: 1.4788869515077213e-12,\n",
       " 6: 1.4220714536344335e-12,\n",
       " 7: 2.202075573444843e-12,\n",
       " 8: 1.8223605465400128e-12,\n",
       " 9: 1.6476444674426742e-12,\n",
       " 10: 1.935910388540669e-12,\n",
       " 11: 2.5656741720568937e-12,\n",
       " 12: 1.640447049304395e-12,\n",
       " 13: 2.487908869424862e-12,\n",
       " 14: 2.550239080865655e-12,\n",
       " 15: 3.382888411294608e-12,\n",
       " 16: 2.268360772384548e-12,\n",
       " 17: 2.0224338680472397e-12,\n",
       " 18: 2.2018779103662362e-12,\n",
       " 19: 2.4962034909289878e-12,\n",
       " 20: 3.312366139484505e-12,\n",
       " 21: 3.622457324169159e-12,\n",
       " 22: 2.7944263614115387e-12,\n",
       " 23: 3.7141884813228e-12,\n",
       " 24: 5.535702247668585e-12,\n",
       " 25: 3.515155791517535e-12,\n",
       " 26: 2.771004358009972e-12,\n",
       " 27: 2.8447471962058776e-12,\n",
       " 28: 3.432115304989882e-12,\n",
       " 29: 4.115260175389135e-12,\n",
       " 30: 2.2761104801370787e-12,\n",
       " 31: 3.198264286268552e-12}"
      ]
     },
     "execution_count": 64,
     "metadata": {},
     "output_type": "execute_result"
    }
   ],
   "source": [
    "rmse_dict"
   ]
  },
  {
   "cell_type": "markdown",
   "id": "f900dd8a",
   "metadata": {
    "papermill": {
     "duration": 0.038451,
     "end_time": "2024-10-30T09:28:10.836906",
     "exception": false,
     "start_time": "2024-10-30T09:28:10.798455",
     "status": "completed"
    },
    "tags": []
   },
   "source": [
    "# Final Model"
   ]
  },
  {
   "cell_type": "code",
   "execution_count": 65,
   "id": "928a30c1",
   "metadata": {
    "execution": {
     "iopub.execute_input": "2024-10-30T09:28:10.911673Z",
     "iopub.status.busy": "2024-10-30T09:28:10.911256Z",
     "iopub.status.idle": "2024-10-30T09:28:10.917829Z",
     "shell.execute_reply": "2024-10-30T09:28:10.916707Z"
    },
    "papermill": {
     "duration": 0.046878,
     "end_time": "2024-10-30T09:28:10.920221",
     "exception": false,
     "start_time": "2024-10-30T09:28:10.873343",
     "status": "completed"
    },
    "tags": []
   },
   "outputs": [],
   "source": [
    "# selected features\n",
    "df_copy = df_copy[['yr', 'registered', 'casual', 'temp', 'cnt', 'season', 'workingday', 'weathersit']]"
   ]
  },
  {
   "cell_type": "code",
   "execution_count": 66,
   "id": "87390511",
   "metadata": {
    "execution": {
     "iopub.execute_input": "2024-10-30T09:28:10.997809Z",
     "iopub.status.busy": "2024-10-30T09:28:10.996800Z",
     "iopub.status.idle": "2024-10-30T09:28:11.002093Z",
     "shell.execute_reply": "2024-10-30T09:28:11.000792Z"
    },
    "papermill": {
     "duration": 0.046268,
     "end_time": "2024-10-30T09:28:11.004235",
     "exception": false,
     "start_time": "2024-10-30T09:28:10.957967",
     "status": "completed"
    },
    "tags": []
   },
   "outputs": [],
   "source": [
    "cat_cols = ['yr', 'season', 'workingday', 'weathersit']"
   ]
  },
  {
   "cell_type": "code",
   "execution_count": 67,
   "id": "56008f22",
   "metadata": {
    "execution": {
     "iopub.execute_input": "2024-10-30T09:28:11.079455Z",
     "iopub.status.busy": "2024-10-30T09:28:11.079035Z",
     "iopub.status.idle": "2024-10-30T09:28:11.092723Z",
     "shell.execute_reply": "2024-10-30T09:28:11.091428Z"
    },
    "papermill": {
     "duration": 0.054284,
     "end_time": "2024-10-30T09:28:11.095330",
     "exception": false,
     "start_time": "2024-10-30T09:28:11.041046",
     "status": "completed"
    },
    "tags": []
   },
   "outputs": [],
   "source": [
    "df_copy = pd.concat([df_copy, pd.get_dummies(df_copy[cat_cols], drop_first = True).astype(int)], axis = 1)"
   ]
  },
  {
   "cell_type": "code",
   "execution_count": 68,
   "id": "0d87349c",
   "metadata": {
    "execution": {
     "iopub.execute_input": "2024-10-30T09:28:11.170286Z",
     "iopub.status.busy": "2024-10-30T09:28:11.169550Z",
     "iopub.status.idle": "2024-10-30T09:28:11.175658Z",
     "shell.execute_reply": "2024-10-30T09:28:11.174569Z"
    },
    "papermill": {
     "duration": 0.046094,
     "end_time": "2024-10-30T09:28:11.177939",
     "exception": false,
     "start_time": "2024-10-30T09:28:11.131845",
     "status": "completed"
    },
    "tags": []
   },
   "outputs": [],
   "source": [
    "df_copy.drop(cat_cols, axis = 1, inplace = True)"
   ]
  },
  {
   "cell_type": "code",
   "execution_count": 69,
   "id": "e0ec7188",
   "metadata": {
    "execution": {
     "iopub.execute_input": "2024-10-30T09:28:11.304291Z",
     "iopub.status.busy": "2024-10-30T09:28:11.303908Z",
     "iopub.status.idle": "2024-10-30T09:28:11.317274Z",
     "shell.execute_reply": "2024-10-30T09:28:11.316198Z"
    },
    "papermill": {
     "duration": 0.105109,
     "end_time": "2024-10-30T09:28:11.319448",
     "exception": false,
     "start_time": "2024-10-30T09:28:11.214339",
     "status": "completed"
    },
    "tags": []
   },
   "outputs": [
    {
     "data": {
      "text/html": [
       "<div>\n",
       "<style scoped>\n",
       "    .dataframe tbody tr th:only-of-type {\n",
       "        vertical-align: middle;\n",
       "    }\n",
       "\n",
       "    .dataframe tbody tr th {\n",
       "        vertical-align: top;\n",
       "    }\n",
       "\n",
       "    .dataframe thead th {\n",
       "        text-align: right;\n",
       "    }\n",
       "</style>\n",
       "<table border=\"1\" class=\"dataframe\">\n",
       "  <thead>\n",
       "    <tr style=\"text-align: right;\">\n",
       "      <th></th>\n",
       "      <th>registered</th>\n",
       "      <th>casual</th>\n",
       "      <th>temp</th>\n",
       "      <th>cnt</th>\n",
       "      <th>yr_1</th>\n",
       "      <th>season_2</th>\n",
       "      <th>season_3</th>\n",
       "      <th>season_4</th>\n",
       "      <th>workingday_1</th>\n",
       "      <th>weathersit_2</th>\n",
       "      <th>weathersit_3</th>\n",
       "    </tr>\n",
       "  </thead>\n",
       "  <tbody>\n",
       "    <tr>\n",
       "      <th>0</th>\n",
       "      <td>654</td>\n",
       "      <td>331</td>\n",
       "      <td>14.110847</td>\n",
       "      <td>985</td>\n",
       "      <td>0</td>\n",
       "      <td>0</td>\n",
       "      <td>0</td>\n",
       "      <td>0</td>\n",
       "      <td>0</td>\n",
       "      <td>1</td>\n",
       "      <td>0</td>\n",
       "    </tr>\n",
       "    <tr>\n",
       "      <th>1</th>\n",
       "      <td>670</td>\n",
       "      <td>131</td>\n",
       "      <td>14.902598</td>\n",
       "      <td>801</td>\n",
       "      <td>0</td>\n",
       "      <td>0</td>\n",
       "      <td>0</td>\n",
       "      <td>0</td>\n",
       "      <td>0</td>\n",
       "      <td>1</td>\n",
       "      <td>0</td>\n",
       "    </tr>\n",
       "    <tr>\n",
       "      <th>2</th>\n",
       "      <td>1229</td>\n",
       "      <td>120</td>\n",
       "      <td>8.050924</td>\n",
       "      <td>1349</td>\n",
       "      <td>0</td>\n",
       "      <td>0</td>\n",
       "      <td>0</td>\n",
       "      <td>0</td>\n",
       "      <td>1</td>\n",
       "      <td>0</td>\n",
       "      <td>0</td>\n",
       "    </tr>\n",
       "    <tr>\n",
       "      <th>3</th>\n",
       "      <td>1454</td>\n",
       "      <td>108</td>\n",
       "      <td>8.200000</td>\n",
       "      <td>1562</td>\n",
       "      <td>0</td>\n",
       "      <td>0</td>\n",
       "      <td>0</td>\n",
       "      <td>0</td>\n",
       "      <td>1</td>\n",
       "      <td>0</td>\n",
       "      <td>0</td>\n",
       "    </tr>\n",
       "    <tr>\n",
       "      <th>4</th>\n",
       "      <td>1518</td>\n",
       "      <td>82</td>\n",
       "      <td>9.305237</td>\n",
       "      <td>1600</td>\n",
       "      <td>0</td>\n",
       "      <td>0</td>\n",
       "      <td>0</td>\n",
       "      <td>0</td>\n",
       "      <td>1</td>\n",
       "      <td>0</td>\n",
       "      <td>0</td>\n",
       "    </tr>\n",
       "  </tbody>\n",
       "</table>\n",
       "</div>"
      ],
      "text/plain": [
       "   registered  casual       temp   cnt  yr_1  season_2  season_3  season_4  \\\n",
       "0         654     331  14.110847   985     0         0         0         0   \n",
       "1         670     131  14.902598   801     0         0         0         0   \n",
       "2        1229     120   8.050924  1349     0         0         0         0   \n",
       "3        1454     108   8.200000  1562     0         0         0         0   \n",
       "4        1518      82   9.305237  1600     0         0         0         0   \n",
       "\n",
       "   workingday_1  weathersit_2  weathersit_3  \n",
       "0             0             1             0  \n",
       "1             0             1             0  \n",
       "2             1             0             0  \n",
       "3             1             0             0  \n",
       "4             1             0             0  "
      ]
     },
     "execution_count": 69,
     "metadata": {},
     "output_type": "execute_result"
    }
   ],
   "source": [
    "df_copy.head()"
   ]
  },
  {
   "cell_type": "code",
   "execution_count": 70,
   "id": "92063824",
   "metadata": {
    "execution": {
     "iopub.execute_input": "2024-10-30T09:28:11.395683Z",
     "iopub.status.busy": "2024-10-30T09:28:11.394866Z",
     "iopub.status.idle": "2024-10-30T09:28:11.402319Z",
     "shell.execute_reply": "2024-10-30T09:28:11.401208Z"
    },
    "papermill": {
     "duration": 0.048161,
     "end_time": "2024-10-30T09:28:11.404707",
     "exception": false,
     "start_time": "2024-10-30T09:28:11.356546",
     "status": "completed"
    },
    "tags": []
   },
   "outputs": [],
   "source": [
    "df_train, df_test = train_test_split(df_copy, test_size = 0.3, random_state = 8)"
   ]
  },
  {
   "cell_type": "code",
   "execution_count": 71,
   "id": "4a11942f",
   "metadata": {
    "execution": {
     "iopub.execute_input": "2024-10-30T09:28:11.481506Z",
     "iopub.status.busy": "2024-10-30T09:28:11.481096Z",
     "iopub.status.idle": "2024-10-30T09:28:11.486173Z",
     "shell.execute_reply": "2024-10-30T09:28:11.484991Z"
    },
    "papermill": {
     "duration": 0.046278,
     "end_time": "2024-10-30T09:28:11.488767",
     "exception": false,
     "start_time": "2024-10-30T09:28:11.442489",
     "status": "completed"
    },
    "tags": []
   },
   "outputs": [],
   "source": [
    "num_cols = ['registered', 'casual', 'temp']"
   ]
  },
  {
   "cell_type": "code",
   "execution_count": 72,
   "id": "e0420ceb",
   "metadata": {
    "execution": {
     "iopub.execute_input": "2024-10-30T09:28:11.565651Z",
     "iopub.status.busy": "2024-10-30T09:28:11.565246Z",
     "iopub.status.idle": "2024-10-30T09:28:11.579233Z",
     "shell.execute_reply": "2024-10-30T09:28:11.578090Z"
    },
    "papermill": {
     "duration": 0.054445,
     "end_time": "2024-10-30T09:28:11.581556",
     "exception": false,
     "start_time": "2024-10-30T09:28:11.527111",
     "status": "completed"
    },
    "tags": []
   },
   "outputs": [],
   "source": [
    "scaler = MinMaxScaler()\n",
    "df_train[num_cols] = scaler.fit_transform(df_train[num_cols])\n",
    "df_test[num_cols] = scaler.transform(df_test[num_cols])"
   ]
  },
  {
   "cell_type": "code",
   "execution_count": 73,
   "id": "3dd2239a",
   "metadata": {
    "execution": {
     "iopub.execute_input": "2024-10-30T09:28:11.657019Z",
     "iopub.status.busy": "2024-10-30T09:28:11.656560Z",
     "iopub.status.idle": "2024-10-30T09:28:11.664488Z",
     "shell.execute_reply": "2024-10-30T09:28:11.663356Z"
    },
    "papermill": {
     "duration": 0.048161,
     "end_time": "2024-10-30T09:28:11.666703",
     "exception": false,
     "start_time": "2024-10-30T09:28:11.618542",
     "status": "completed"
    },
    "tags": []
   },
   "outputs": [],
   "source": [
    "X_train = df_train.drop(['cnt'], axis = 1)\n",
    "y_train = df_train['cnt']\n",
    "\n",
    "X_test = df_test.drop(['cnt'], axis = 1)\n",
    "y_test = df_test['cnt']"
   ]
  },
  {
   "cell_type": "code",
   "execution_count": 74,
   "id": "5b81b1d7",
   "metadata": {
    "execution": {
     "iopub.execute_input": "2024-10-30T09:28:11.742265Z",
     "iopub.status.busy": "2024-10-30T09:28:11.741878Z",
     "iopub.status.idle": "2024-10-30T09:28:11.752483Z",
     "shell.execute_reply": "2024-10-30T09:28:11.751629Z"
    },
    "papermill": {
     "duration": 0.051283,
     "end_time": "2024-10-30T09:28:11.754911",
     "exception": false,
     "start_time": "2024-10-30T09:28:11.703628",
     "status": "completed"
    },
    "tags": []
   },
   "outputs": [],
   "source": [
    "lr_model = LinearRegression()\n",
    "lr_model.fit(X_train, y_train)\n",
    "y_pred = lr_model.predict(X_test)"
   ]
  },
  {
   "cell_type": "code",
   "execution_count": 75,
   "id": "06a92bef",
   "metadata": {
    "execution": {
     "iopub.execute_input": "2024-10-30T09:28:11.831357Z",
     "iopub.status.busy": "2024-10-30T09:28:11.830943Z",
     "iopub.status.idle": "2024-10-30T09:28:11.837812Z",
     "shell.execute_reply": "2024-10-30T09:28:11.836758Z"
    },
    "papermill": {
     "duration": 0.048272,
     "end_time": "2024-10-30T09:28:11.839981",
     "exception": false,
     "start_time": "2024-10-30T09:28:11.791709",
     "status": "completed"
    },
    "tags": []
   },
   "outputs": [],
   "source": [
    "y_train_pred = lr_model.predict(X_train)"
   ]
  },
  {
   "cell_type": "code",
   "execution_count": 76,
   "id": "13fff725",
   "metadata": {
    "execution": {
     "iopub.execute_input": "2024-10-30T09:28:11.915438Z",
     "iopub.status.busy": "2024-10-30T09:28:11.914750Z",
     "iopub.status.idle": "2024-10-30T09:28:11.921917Z",
     "shell.execute_reply": "2024-10-30T09:28:11.920864Z"
    },
    "papermill": {
     "duration": 0.048149,
     "end_time": "2024-10-30T09:28:11.924981",
     "exception": false,
     "start_time": "2024-10-30T09:28:11.876832",
     "status": "completed"
    },
    "tags": []
   },
   "outputs": [
    {
     "name": "stdout",
     "output_type": "stream",
     "text": [
      "1.0\n",
      "1.14630956687962e-12\n"
     ]
    }
   ],
   "source": [
    "print(r2_score(y_test, y_pred))\n",
    "print(np.sqrt(mean_squared_error(y_test, y_pred)))"
   ]
  },
  {
   "cell_type": "markdown",
   "id": "d95edc54",
   "metadata": {
    "papermill": {
     "duration": 0.036334,
     "end_time": "2024-10-30T09:28:11.998357",
     "exception": false,
     "start_time": "2024-10-30T09:28:11.962023",
     "status": "completed"
    },
    "tags": []
   },
   "source": [
    "Assessing the model using stats module"
   ]
  },
  {
   "cell_type": "code",
   "execution_count": 77,
   "id": "435918c9",
   "metadata": {
    "execution": {
     "iopub.execute_input": "2024-10-30T09:28:12.073950Z",
     "iopub.status.busy": "2024-10-30T09:28:12.072753Z",
     "iopub.status.idle": "2024-10-30T09:28:12.086874Z",
     "shell.execute_reply": "2024-10-30T09:28:12.085620Z"
    },
    "papermill": {
     "duration": 0.055645,
     "end_time": "2024-10-30T09:28:12.090634",
     "exception": false,
     "start_time": "2024-10-30T09:28:12.034989",
     "status": "completed"
    },
    "tags": []
   },
   "outputs": [],
   "source": [
    "X_train_lm = sm.add_constant(X_train)\n",
    "\n",
    "lm = sm.OLS(y_train,X_train_lm).fit()"
   ]
  },
  {
   "cell_type": "code",
   "execution_count": 78,
   "id": "e4959e28",
   "metadata": {
    "execution": {
     "iopub.execute_input": "2024-10-30T09:28:12.167065Z",
     "iopub.status.busy": "2024-10-30T09:28:12.166141Z",
     "iopub.status.idle": "2024-10-30T09:28:12.187797Z",
     "shell.execute_reply": "2024-10-30T09:28:12.186622Z"
    },
    "papermill": {
     "duration": 0.062286,
     "end_time": "2024-10-30T09:28:12.190165",
     "exception": false,
     "start_time": "2024-10-30T09:28:12.127879",
     "status": "completed"
    },
    "tags": []
   },
   "outputs": [
    {
     "name": "stdout",
     "output_type": "stream",
     "text": [
      "                            OLS Regression Results                            \n",
      "==============================================================================\n",
      "Dep. Variable:                    cnt   R-squared:                       1.000\n",
      "Model:                            OLS   Adj. R-squared:                  1.000\n",
      "Method:                 Least Squares   F-statistic:                 4.633e+31\n",
      "Date:                Wed, 30 Oct 2024   Prob (F-statistic):               0.00\n",
      "Time:                        09:28:12   Log-Likelihood:                 13045.\n",
      "No. Observations:                 511   AIC:                        -2.607e+04\n",
      "Df Residuals:                     500   BIC:                        -2.602e+04\n",
      "Df Model:                          10                                         \n",
      "Covariance Type:            nonrobust                                         \n",
      "================================================================================\n",
      "                   coef    std err          t      P>|t|      [0.025      0.975]\n",
      "--------------------------------------------------------------------------------\n",
      "const           22.0000   3.26e-13   6.74e+13      0.000      22.000      22.000\n",
      "registered    6926.0000   9.96e-13   6.95e+15      0.000    6926.000    6926.000\n",
      "casual        3408.0000   8.67e-13   3.93e+15      0.000    3408.000    3408.000\n",
      "temp         -3.588e-12   8.24e-13     -4.356      0.000   -5.21e-12   -1.97e-12\n",
      "yr_1         -8.811e-13   2.97e-13     -2.967      0.003   -1.46e-12   -2.98e-13\n",
      "season_2     -1.819e-12   3.38e-13     -5.384      0.000   -2.48e-12   -1.16e-12\n",
      "season_3     -1.034e-12    4.4e-13     -2.352      0.019    -1.9e-12    -1.7e-13\n",
      "season_4      4.992e-13   3.28e-13      1.521      0.129   -1.45e-13    1.14e-12\n",
      "workingday_1  2.597e-12   3.38e-13      7.675      0.000    1.93e-12    3.26e-12\n",
      "weathersit_2   2.22e-12      2e-13     11.124      0.000    1.83e-12    2.61e-12\n",
      "weathersit_3  1.091e-12      6e-13      1.818      0.070   -8.78e-14    2.27e-12\n",
      "==============================================================================\n",
      "Omnibus:                       14.092   Durbin-Watson:                   1.384\n",
      "Prob(Omnibus):                  0.001   Jarque-Bera (JB):               10.516\n",
      "Skew:                          -0.247   Prob(JB):                      0.00521\n",
      "Kurtosis:                       2.499   Cond. No.                         22.2\n",
      "==============================================================================\n",
      "\n",
      "Notes:\n",
      "[1] Standard Errors assume that the covariance matrix of the errors is correctly specified.\n"
     ]
    }
   ],
   "source": [
    "print(lm.summary())"
   ]
  },
  {
   "cell_type": "code",
   "execution_count": 79,
   "id": "06e22e3c",
   "metadata": {
    "execution": {
     "iopub.execute_input": "2024-10-30T09:28:12.266475Z",
     "iopub.status.busy": "2024-10-30T09:28:12.266048Z",
     "iopub.status.idle": "2024-10-30T09:28:12.289986Z",
     "shell.execute_reply": "2024-10-30T09:28:12.288688Z"
    },
    "papermill": {
     "duration": 0.065148,
     "end_time": "2024-10-30T09:28:12.292289",
     "exception": false,
     "start_time": "2024-10-30T09:28:12.227141",
     "status": "completed"
    },
    "tags": []
   },
   "outputs": [
    {
     "data": {
      "text/html": [
       "<div>\n",
       "<style scoped>\n",
       "    .dataframe tbody tr th:only-of-type {\n",
       "        vertical-align: middle;\n",
       "    }\n",
       "\n",
       "    .dataframe tbody tr th {\n",
       "        vertical-align: top;\n",
       "    }\n",
       "\n",
       "    .dataframe thead th {\n",
       "        text-align: right;\n",
       "    }\n",
       "</style>\n",
       "<table border=\"1\" class=\"dataframe\">\n",
       "  <thead>\n",
       "    <tr style=\"text-align: right;\">\n",
       "      <th></th>\n",
       "      <th>Features</th>\n",
       "      <th>VIF</th>\n",
       "    </tr>\n",
       "  </thead>\n",
       "  <tbody>\n",
       "    <tr>\n",
       "      <th>0</th>\n",
       "      <td>registered</td>\n",
       "      <td>41.19</td>\n",
       "    </tr>\n",
       "    <tr>\n",
       "      <th>2</th>\n",
       "      <td>temp</td>\n",
       "      <td>25.54</td>\n",
       "    </tr>\n",
       "    <tr>\n",
       "      <th>7</th>\n",
       "      <td>workingday_1</td>\n",
       "      <td>9.08</td>\n",
       "    </tr>\n",
       "    <tr>\n",
       "      <th>1</th>\n",
       "      <td>casual</td>\n",
       "      <td>8.82</td>\n",
       "    </tr>\n",
       "    <tr>\n",
       "      <th>5</th>\n",
       "      <td>season_3</td>\n",
       "      <td>5.68</td>\n",
       "    </tr>\n",
       "    <tr>\n",
       "      <th>3</th>\n",
       "      <td>yr_1</td>\n",
       "      <td>5.60</td>\n",
       "    </tr>\n",
       "    <tr>\n",
       "      <th>4</th>\n",
       "      <td>season_2</td>\n",
       "      <td>3.69</td>\n",
       "    </tr>\n",
       "    <tr>\n",
       "      <th>6</th>\n",
       "      <td>season_4</td>\n",
       "      <td>3.34</td>\n",
       "    </tr>\n",
       "    <tr>\n",
       "      <th>8</th>\n",
       "      <td>weathersit_2</td>\n",
       "      <td>1.59</td>\n",
       "    </tr>\n",
       "    <tr>\n",
       "      <th>9</th>\n",
       "      <td>weathersit_3</td>\n",
       "      <td>1.31</td>\n",
       "    </tr>\n",
       "  </tbody>\n",
       "</table>\n",
       "</div>"
      ],
      "text/plain": [
       "       Features    VIF\n",
       "0    registered  41.19\n",
       "2          temp  25.54\n",
       "7  workingday_1   9.08\n",
       "1        casual   8.82\n",
       "5      season_3   5.68\n",
       "3          yr_1   5.60\n",
       "4      season_2   3.69\n",
       "6      season_4   3.34\n",
       "8  weathersit_2   1.59\n",
       "9  weathersit_3   1.31"
      ]
     },
     "execution_count": 79,
     "metadata": {},
     "output_type": "execute_result"
    }
   ],
   "source": [
    "vif = pd.DataFrame()\n",
    "vif['Features'] = X_train.columns\n",
    "vif['VIF'] = [variance_inflation_factor(X_train.values, i) for i in range(X_train.shape[1])]\n",
    "vif['VIF'] = round(vif['VIF'], 2)\n",
    "vif = vif.sort_values(by = 'VIF', ascending = False)\n",
    "vif"
   ]
  },
  {
   "cell_type": "markdown",
   "id": "cf18d6d6",
   "metadata": {
    "papermill": {
     "duration": 0.037388,
     "end_time": "2024-10-30T09:28:12.368120",
     "exception": false,
     "start_time": "2024-10-30T09:28:12.330732",
     "status": "completed"
    },
    "tags": []
   },
   "source": [
    "# Residual Analysis"
   ]
  },
  {
   "cell_type": "code",
   "execution_count": 80,
   "id": "45ff1790",
   "metadata": {
    "execution": {
     "iopub.execute_input": "2024-10-30T09:28:12.445215Z",
     "iopub.status.busy": "2024-10-30T09:28:12.444794Z",
     "iopub.status.idle": "2024-10-30T09:28:12.450339Z",
     "shell.execute_reply": "2024-10-30T09:28:12.449227Z"
    },
    "papermill": {
     "duration": 0.047124,
     "end_time": "2024-10-30T09:28:12.452587",
     "exception": false,
     "start_time": "2024-10-30T09:28:12.405463",
     "status": "completed"
    },
    "tags": []
   },
   "outputs": [],
   "source": [
    "residuals = y_train - y_train_pred"
   ]
  },
  {
   "cell_type": "code",
   "execution_count": 81,
   "id": "8ac83f78",
   "metadata": {
    "execution": {
     "iopub.execute_input": "2024-10-30T09:28:12.529038Z",
     "iopub.status.busy": "2024-10-30T09:28:12.527882Z",
     "iopub.status.idle": "2024-10-30T09:28:12.825400Z",
     "shell.execute_reply": "2024-10-30T09:28:12.824312Z"
    },
    "papermill": {
     "duration": 0.338404,
     "end_time": "2024-10-30T09:28:12.827997",
     "exception": false,
     "start_time": "2024-10-30T09:28:12.489593",
     "status": "completed"
    },
    "tags": []
   },
   "outputs": [
    {
     "name": "stderr",
     "output_type": "stream",
     "text": [
      "/opt/conda/lib/python3.10/site-packages/seaborn/_oldcore.py:1119: FutureWarning: use_inf_as_na option is deprecated and will be removed in a future version. Convert inf values to NaN before operating instead.\n",
      "  with pd.option_context('mode.use_inf_as_na', True):\n"
     ]
    },
    {
     "data": {
      "text/plain": [
       "<Axes: xlabel='cnt', ylabel='Count'>"
      ]
     },
     "execution_count": 81,
     "metadata": {},
     "output_type": "execute_result"
    },
    {
     "data": {
      "image/png": "[encoded data removed]",
      "text/plain": [
       "<Figure size 640x480 with 1 Axes>"
      ]
     },
     "metadata": {},
     "output_type": "display_data"
    }
   ],
   "source": [
    "sns.histplot(residuals, kde = True)"
   ]
  },
  {
   "cell_type": "code",
   "execution_count": 82,
   "id": "f360e2f9",
   "metadata": {
    "execution": {
     "iopub.execute_input": "2024-10-30T09:28:12.906135Z",
     "iopub.status.busy": "2024-10-30T09:28:12.905689Z",
     "iopub.status.idle": "2024-10-30T09:28:13.181882Z",
     "shell.execute_reply": "2024-10-30T09:28:13.180794Z"
    },
    "papermill": {
     "duration": 0.317896,
     "end_time": "2024-10-30T09:28:13.184024",
     "exception": false,
     "start_time": "2024-10-30T09:28:12.866128",
     "status": "completed"
    },
    "tags": []
   },
   "outputs": [
    {
     "data": {
      "image/png": "[encoded data removed]",
      "text/plain": [
       "<Figure size 1000x600 with 1 Axes>"
      ]
     },
     "metadata": {},
     "output_type": "display_data"
    }
   ],
   "source": [
    "plt.figure(figsize=(10, 6))\n",
    "plt.scatter(y_train_pred, residuals)\n",
    "plt.axhline(0, color='red', linestyle='--')\n",
    "plt.xlabel('Predicted Values')\n",
    "plt.ylabel('Residuals')\n",
    "plt.title('Residuals vs Predicted Values')\n",
    "plt.show()"
   ]
  }
 ],
 "metadata": {
  "kaggle": {
   "accelerator": "none",
   "dataSources": [
    {
     "datasetId": 5959801,
     "sourceId": 9737387,
     "sourceType": "datasetVersion"
    }
   ],
   "dockerImageVersionId": 30786,
   "isGpuEnabled": false,
   "isInternetEnabled": true,
   "language": "python",
   "sourceType": "notebook"
  },
  "kernelspec": {
   "display_name": "Python 3",
   "language": "python",
   "name": "python3"
  },
  "language_info": {
   "codemirror_mode": {
    "name": "ipython",
    "version": 3
   },
   "file_extension": ".py",
   "mimetype": "text/x-python",
   "name": "python",
   "nbconvert_exporter": "python",
   "pygments_lexer": "ipython3",
   "version": "3.10.14"
  },
  "papermill": {
   "default_parameters": {},
   "duration": 24.220182,
   "end_time": "2024-10-30T09:28:14.044678",
   "environment_variables": {},
   "exception": null,
   "input_path": "__notebook__.ipynb",
   "output_path": "__notebook__.ipynb",
   "parameters": {},
   "start_time": "2024-10-30T09:27:49.824496",
   "version": "2.6.0"
  }
 },
 "nbformat": 4,
 "nbformat_minor": 5
}
