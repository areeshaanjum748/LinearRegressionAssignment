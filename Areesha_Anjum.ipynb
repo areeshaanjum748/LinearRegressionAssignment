{
 "cells": [
  {
   "cell_type": "markdown",
   "id": "e45b1e38",
   "metadata": {
    "papermill": {
     "duration": 0.041892,
     "end_time": "2024-11-10T02:58:56.585815",
     "exception": false,
     "start_time": "2024-11-10T02:58:56.543923",
     "status": "completed"
    },
    "tags": []
   },
   "source": [
    "# Importing Libraries"
   ]
  },
  {
   "cell_type": "code",
   "execution_count": 1,
   "id": "5c8b9e29",
   "metadata": {
    "execution": {
     "iopub.execute_input": "2024-11-10T02:58:56.668348Z",
     "iopub.status.busy": "2024-11-10T02:58:56.667882Z",
     "iopub.status.idle": "2024-11-10T02:59:03.062992Z",
     "shell.execute_reply": "2024-11-10T02:59:03.061397Z"
    },
    "papermill": {
     "duration": 6.439634,
     "end_time": "2024-11-10T02:59:03.066024",
     "exception": false,
     "start_time": "2024-11-10T02:58:56.626390",
     "status": "completed"
    },
    "tags": []
   },
   "outputs": [],
   "source": [
    "import numpy as np\n",
    "\n",
    "import pandas as pd\n",
    "\n",
    "import seaborn as sns\n",
    "import matplotlib.pyplot as plt\n",
    "\n",
    "from sklearn.preprocessing import MinMaxScaler\n",
    "from sklearn.model_selection import train_test_split\n",
    "\n",
    "import statsmodels.api as sm\n",
    "from statsmodels.stats.outliers_influence import variance_inflation_factor\n",
    "\n",
    "from sklearn.linear_model import LinearRegression\n",
    "\n",
    "from sklearn.feature_selection import RFE\n",
    "\n",
    "from sklearn.metrics import mean_squared_error, r2_score"
   ]
  },
  {
   "cell_type": "markdown",
   "id": "8306839a",
   "metadata": {
    "papermill": {
     "duration": 0.040457,
     "end_time": "2024-11-10T02:59:03.151106",
     "exception": false,
     "start_time": "2024-11-10T02:59:03.110649",
     "status": "completed"
    },
    "tags": []
   },
   "source": [
    "# Dataset Description"
   ]
  },
  {
   "cell_type": "code",
   "execution_count": 2,
   "id": "27a707ae",
   "metadata": {
    "execution": {
     "iopub.execute_input": "2024-11-10T02:59:03.242979Z",
     "iopub.status.busy": "2024-11-10T02:59:03.242228Z",
     "iopub.status.idle": "2024-11-10T02:59:03.294278Z",
     "shell.execute_reply": "2024-11-10T02:59:03.293047Z"
    },
    "papermill": {
     "duration": 0.102695,
     "end_time": "2024-11-10T02:59:03.297610",
     "exception": false,
     "start_time": "2024-11-10T02:59:03.194915",
     "status": "completed"
    },
    "tags": []
   },
   "outputs": [],
   "source": [
    "df = pd.read_csv('/kaggle/input/day-dataset/day.csv')"
   ]
  },
  {
   "cell_type": "code",
   "execution_count": 3,
   "id": "9a4102b2",
   "metadata": {
    "execution": {
     "iopub.execute_input": "2024-11-10T02:59:03.380507Z",
     "iopub.status.busy": "2024-11-10T02:59:03.380021Z",
     "iopub.status.idle": "2024-11-10T02:59:03.389526Z",
     "shell.execute_reply": "2024-11-10T02:59:03.388072Z"
    },
    "papermill": {
     "duration": 0.054241,
     "end_time": "2024-11-10T02:59:03.392627",
     "exception": false,
     "start_time": "2024-11-10T02:59:03.338386",
     "status": "completed"
    },
    "tags": []
   },
   "outputs": [
    {
     "data": {
      "text/plain": [
       "(730, 16)"
      ]
     },
     "execution_count": 3,
     "metadata": {},
     "output_type": "execute_result"
    }
   ],
   "source": [
    "df.shape"
   ]
  },
  {
   "cell_type": "code",
   "execution_count": 4,
   "id": "80d6a9d3",
   "metadata": {
    "execution": {
     "iopub.execute_input": "2024-11-10T02:59:03.477203Z",
     "iopub.status.busy": "2024-11-10T02:59:03.476708Z",
     "iopub.status.idle": "2024-11-10T02:59:03.528200Z",
     "shell.execute_reply": "2024-11-10T02:59:03.526922Z"
    },
    "papermill": {
     "duration": 0.095997,
     "end_time": "2024-11-10T02:59:03.531262",
     "exception": false,
     "start_time": "2024-11-10T02:59:03.435265",
     "status": "completed"
    },
    "tags": []
   },
   "outputs": [
    {
     "name": "stdout",
     "output_type": "stream",
     "text": [
      "<class 'pandas.core.frame.DataFrame'>\n",
      "RangeIndex: 730 entries, 0 to 729\n",
      "Data columns (total 16 columns):\n",
      " #   Column      Non-Null Count  Dtype  \n",
      "---  ------      --------------  -----  \n",
      " 0   instant     730 non-null    int64  \n",
      " 1   dteday      730 non-null    object \n",
      " 2   season      730 non-null    int64  \n",
      " 3   yr          730 non-null    int64  \n",
      " 4   mnth        730 non-null    int64  \n",
      " 5   holiday     730 non-null    int64  \n",
      " 6   weekday     730 non-null    int64  \n",
      " 7   workingday  730 non-null    int64  \n",
      " 8   weathersit  730 non-null    int64  \n",
      " 9   temp        730 non-null    float64\n",
      " 10  atemp       730 non-null    float64\n",
      " 11  hum         730 non-null    float64\n",
      " 12  windspeed   730 non-null    float64\n",
      " 13  casual      730 non-null    int64  \n",
      " 14  registered  730 non-null    int64  \n",
      " 15  cnt         730 non-null    int64  \n",
      "dtypes: float64(4), int64(11), object(1)\n",
      "memory usage: 91.4+ KB\n"
     ]
    }
   ],
   "source": [
    "df.info()"
   ]
  },
  {
   "cell_type": "markdown",
   "id": "ee463659",
   "metadata": {
    "papermill": {
     "duration": 0.0406,
     "end_time": "2024-11-10T02:59:03.613249",
     "exception": false,
     "start_time": "2024-11-10T02:59:03.572649",
     "status": "completed"
    },
    "tags": []
   },
   "source": [
    "* No null values exist in the data"
   ]
  },
  {
   "cell_type": "markdown",
   "id": "a548a0c6",
   "metadata": {
    "papermill": {
     "duration": 0.039896,
     "end_time": "2024-11-10T02:59:03.693197",
     "exception": false,
     "start_time": "2024-11-10T02:59:03.653301",
     "status": "completed"
    },
    "tags": []
   },
   "source": [
    "Since, there are less number of columns we can explore each one by one."
   ]
  },
  {
   "cell_type": "code",
   "execution_count": 5,
   "id": "81a54f83",
   "metadata": {
    "execution": {
     "iopub.execute_input": "2024-11-10T02:59:03.776122Z",
     "iopub.status.busy": "2024-11-10T02:59:03.775650Z",
     "iopub.status.idle": "2024-11-10T02:59:03.801963Z",
     "shell.execute_reply": "2024-11-10T02:59:03.800696Z"
    },
    "papermill": {
     "duration": 0.070506,
     "end_time": "2024-11-10T02:59:03.804661",
     "exception": false,
     "start_time": "2024-11-10T02:59:03.734155",
     "status": "completed"
    },
    "tags": []
   },
   "outputs": [
    {
     "data": {
      "text/html": [
       "<div>\n",
       "<style scoped>\n",
       "    .dataframe tbody tr th:only-of-type {\n",
       "        vertical-align: middle;\n",
       "    }\n",
       "\n",
       "    .dataframe tbody tr th {\n",
       "        vertical-align: top;\n",
       "    }\n",
       "\n",
       "    .dataframe thead th {\n",
       "        text-align: right;\n",
       "    }\n",
       "</style>\n",
       "<table border=\"1\" class=\"dataframe\">\n",
       "  <thead>\n",
       "    <tr style=\"text-align: right;\">\n",
       "      <th></th>\n",
       "      <th>instant</th>\n",
       "      <th>dteday</th>\n",
       "      <th>season</th>\n",
       "      <th>yr</th>\n",
       "      <th>mnth</th>\n",
       "      <th>holiday</th>\n",
       "      <th>weekday</th>\n",
       "      <th>workingday</th>\n",
       "      <th>weathersit</th>\n",
       "      <th>temp</th>\n",
       "      <th>atemp</th>\n",
       "      <th>hum</th>\n",
       "      <th>windspeed</th>\n",
       "      <th>casual</th>\n",
       "      <th>registered</th>\n",
       "      <th>cnt</th>\n",
       "    </tr>\n",
       "  </thead>\n",
       "  <tbody>\n",
       "    <tr>\n",
       "      <th>0</th>\n",
       "      <td>1</td>\n",
       "      <td>01-01-2018</td>\n",
       "      <td>1</td>\n",
       "      <td>0</td>\n",
       "      <td>1</td>\n",
       "      <td>0</td>\n",
       "      <td>6</td>\n",
       "      <td>0</td>\n",
       "      <td>2</td>\n",
       "      <td>14.110847</td>\n",
       "      <td>18.18125</td>\n",
       "      <td>80.5833</td>\n",
       "      <td>10.749882</td>\n",
       "      <td>331</td>\n",
       "      <td>654</td>\n",
       "      <td>985</td>\n",
       "    </tr>\n",
       "    <tr>\n",
       "      <th>1</th>\n",
       "      <td>2</td>\n",
       "      <td>02-01-2018</td>\n",
       "      <td>1</td>\n",
       "      <td>0</td>\n",
       "      <td>1</td>\n",
       "      <td>0</td>\n",
       "      <td>0</td>\n",
       "      <td>0</td>\n",
       "      <td>2</td>\n",
       "      <td>14.902598</td>\n",
       "      <td>17.68695</td>\n",
       "      <td>69.6087</td>\n",
       "      <td>16.652113</td>\n",
       "      <td>131</td>\n",
       "      <td>670</td>\n",
       "      <td>801</td>\n",
       "    </tr>\n",
       "    <tr>\n",
       "      <th>2</th>\n",
       "      <td>3</td>\n",
       "      <td>03-01-2018</td>\n",
       "      <td>1</td>\n",
       "      <td>0</td>\n",
       "      <td>1</td>\n",
       "      <td>0</td>\n",
       "      <td>1</td>\n",
       "      <td>1</td>\n",
       "      <td>1</td>\n",
       "      <td>8.050924</td>\n",
       "      <td>9.47025</td>\n",
       "      <td>43.7273</td>\n",
       "      <td>16.636703</td>\n",
       "      <td>120</td>\n",
       "      <td>1229</td>\n",
       "      <td>1349</td>\n",
       "    </tr>\n",
       "    <tr>\n",
       "      <th>3</th>\n",
       "      <td>4</td>\n",
       "      <td>04-01-2018</td>\n",
       "      <td>1</td>\n",
       "      <td>0</td>\n",
       "      <td>1</td>\n",
       "      <td>0</td>\n",
       "      <td>2</td>\n",
       "      <td>1</td>\n",
       "      <td>1</td>\n",
       "      <td>8.200000</td>\n",
       "      <td>10.60610</td>\n",
       "      <td>59.0435</td>\n",
       "      <td>10.739832</td>\n",
       "      <td>108</td>\n",
       "      <td>1454</td>\n",
       "      <td>1562</td>\n",
       "    </tr>\n",
       "    <tr>\n",
       "      <th>4</th>\n",
       "      <td>5</td>\n",
       "      <td>05-01-2018</td>\n",
       "      <td>1</td>\n",
       "      <td>0</td>\n",
       "      <td>1</td>\n",
       "      <td>0</td>\n",
       "      <td>3</td>\n",
       "      <td>1</td>\n",
       "      <td>1</td>\n",
       "      <td>9.305237</td>\n",
       "      <td>11.46350</td>\n",
       "      <td>43.6957</td>\n",
       "      <td>12.522300</td>\n",
       "      <td>82</td>\n",
       "      <td>1518</td>\n",
       "      <td>1600</td>\n",
       "    </tr>\n",
       "  </tbody>\n",
       "</table>\n",
       "</div>"
      ],
      "text/plain": [
       "   instant      dteday  season  yr  mnth  holiday  weekday  workingday  \\\n",
       "0        1  01-01-2018       1   0     1        0        6           0   \n",
       "1        2  02-01-2018       1   0     1        0        0           0   \n",
       "2        3  03-01-2018       1   0     1        0        1           1   \n",
       "3        4  04-01-2018       1   0     1        0        2           1   \n",
       "4        5  05-01-2018       1   0     1        0        3           1   \n",
       "\n",
       "   weathersit       temp     atemp      hum  windspeed  casual  registered  \\\n",
       "0           2  14.110847  18.18125  80.5833  10.749882     331         654   \n",
       "1           2  14.902598  17.68695  69.6087  16.652113     131         670   \n",
       "2           1   8.050924   9.47025  43.7273  16.636703     120        1229   \n",
       "3           1   8.200000  10.60610  59.0435  10.739832     108        1454   \n",
       "4           1   9.305237  11.46350  43.6957  12.522300      82        1518   \n",
       "\n",
       "    cnt  \n",
       "0   985  \n",
       "1   801  \n",
       "2  1349  \n",
       "3  1562  \n",
       "4  1600  "
      ]
     },
     "execution_count": 5,
     "metadata": {},
     "output_type": "execute_result"
    }
   ],
   "source": [
    "df.head()"
   ]
  },
  {
   "cell_type": "markdown",
   "id": "5accf3b6",
   "metadata": {
    "papermill": {
     "duration": 0.040674,
     "end_time": "2024-11-10T02:59:03.886269",
     "exception": false,
     "start_time": "2024-11-10T02:59:03.845595",
     "status": "completed"
    },
    "tags": []
   },
   "source": [
    "# Exploratory Data Analysis"
   ]
  },
  {
   "cell_type": "markdown",
   "id": "e6bd581d",
   "metadata": {
    "papermill": {
     "duration": 0.039935,
     "end_time": "2024-11-10T02:59:03.968679",
     "exception": false,
     "start_time": "2024-11-10T02:59:03.928744",
     "status": "completed"
    },
    "tags": []
   },
   "source": [
    "Forming the correlation map now, as later we will convert the columns to string dtype."
   ]
  },
  {
   "cell_type": "code",
   "execution_count": 6,
   "id": "3a5ef2e5",
   "metadata": {
    "execution": {
     "iopub.execute_input": "2024-11-10T02:59:04.052780Z",
     "iopub.status.busy": "2024-11-10T02:59:04.052285Z",
     "iopub.status.idle": "2024-11-10T02:59:04.073939Z",
     "shell.execute_reply": "2024-11-10T02:59:04.072183Z"
    },
    "papermill": {
     "duration": 0.067534,
     "end_time": "2024-11-10T02:59:04.076789",
     "exception": false,
     "start_time": "2024-11-10T02:59:04.009255",
     "status": "completed"
    },
    "tags": []
   },
   "outputs": [
    {
     "data": {
      "text/html": [
       "<div>\n",
       "<style scoped>\n",
       "    .dataframe tbody tr th:only-of-type {\n",
       "        vertical-align: middle;\n",
       "    }\n",
       "\n",
       "    .dataframe tbody tr th {\n",
       "        vertical-align: top;\n",
       "    }\n",
       "\n",
       "    .dataframe thead th {\n",
       "        text-align: right;\n",
       "    }\n",
       "</style>\n",
       "<table border=\"1\" class=\"dataframe\">\n",
       "  <thead>\n",
       "    <tr style=\"text-align: right;\">\n",
       "      <th></th>\n",
       "      <th>instant</th>\n",
       "      <th>dteday</th>\n",
       "      <th>season</th>\n",
       "      <th>yr</th>\n",
       "      <th>mnth</th>\n",
       "      <th>holiday</th>\n",
       "      <th>weekday</th>\n",
       "      <th>workingday</th>\n",
       "      <th>weathersit</th>\n",
       "      <th>temp</th>\n",
       "      <th>atemp</th>\n",
       "      <th>hum</th>\n",
       "      <th>windspeed</th>\n",
       "      <th>casual</th>\n",
       "      <th>registered</th>\n",
       "      <th>cnt</th>\n",
       "    </tr>\n",
       "  </thead>\n",
       "  <tbody>\n",
       "    <tr>\n",
       "      <th>0</th>\n",
       "      <td>1</td>\n",
       "      <td>01-01-2018</td>\n",
       "      <td>1</td>\n",
       "      <td>0</td>\n",
       "      <td>1</td>\n",
       "      <td>0</td>\n",
       "      <td>6</td>\n",
       "      <td>0</td>\n",
       "      <td>2</td>\n",
       "      <td>14.110847</td>\n",
       "      <td>18.18125</td>\n",
       "      <td>80.5833</td>\n",
       "      <td>10.749882</td>\n",
       "      <td>331</td>\n",
       "      <td>654</td>\n",
       "      <td>985</td>\n",
       "    </tr>\n",
       "    <tr>\n",
       "      <th>1</th>\n",
       "      <td>2</td>\n",
       "      <td>02-01-2018</td>\n",
       "      <td>1</td>\n",
       "      <td>0</td>\n",
       "      <td>1</td>\n",
       "      <td>0</td>\n",
       "      <td>0</td>\n",
       "      <td>0</td>\n",
       "      <td>2</td>\n",
       "      <td>14.902598</td>\n",
       "      <td>17.68695</td>\n",
       "      <td>69.6087</td>\n",
       "      <td>16.652113</td>\n",
       "      <td>131</td>\n",
       "      <td>670</td>\n",
       "      <td>801</td>\n",
       "    </tr>\n",
       "    <tr>\n",
       "      <th>2</th>\n",
       "      <td>3</td>\n",
       "      <td>03-01-2018</td>\n",
       "      <td>1</td>\n",
       "      <td>0</td>\n",
       "      <td>1</td>\n",
       "      <td>0</td>\n",
       "      <td>1</td>\n",
       "      <td>1</td>\n",
       "      <td>1</td>\n",
       "      <td>8.050924</td>\n",
       "      <td>9.47025</td>\n",
       "      <td>43.7273</td>\n",
       "      <td>16.636703</td>\n",
       "      <td>120</td>\n",
       "      <td>1229</td>\n",
       "      <td>1349</td>\n",
       "    </tr>\n",
       "    <tr>\n",
       "      <th>3</th>\n",
       "      <td>4</td>\n",
       "      <td>04-01-2018</td>\n",
       "      <td>1</td>\n",
       "      <td>0</td>\n",
       "      <td>1</td>\n",
       "      <td>0</td>\n",
       "      <td>2</td>\n",
       "      <td>1</td>\n",
       "      <td>1</td>\n",
       "      <td>8.200000</td>\n",
       "      <td>10.60610</td>\n",
       "      <td>59.0435</td>\n",
       "      <td>10.739832</td>\n",
       "      <td>108</td>\n",
       "      <td>1454</td>\n",
       "      <td>1562</td>\n",
       "    </tr>\n",
       "    <tr>\n",
       "      <th>4</th>\n",
       "      <td>5</td>\n",
       "      <td>05-01-2018</td>\n",
       "      <td>1</td>\n",
       "      <td>0</td>\n",
       "      <td>1</td>\n",
       "      <td>0</td>\n",
       "      <td>3</td>\n",
       "      <td>1</td>\n",
       "      <td>1</td>\n",
       "      <td>9.305237</td>\n",
       "      <td>11.46350</td>\n",
       "      <td>43.6957</td>\n",
       "      <td>12.522300</td>\n",
       "      <td>82</td>\n",
       "      <td>1518</td>\n",
       "      <td>1600</td>\n",
       "    </tr>\n",
       "  </tbody>\n",
       "</table>\n",
       "</div>"
      ],
      "text/plain": [
       "   instant      dteday  season  yr  mnth  holiday  weekday  workingday  \\\n",
       "0        1  01-01-2018       1   0     1        0        6           0   \n",
       "1        2  02-01-2018       1   0     1        0        0           0   \n",
       "2        3  03-01-2018       1   0     1        0        1           1   \n",
       "3        4  04-01-2018       1   0     1        0        2           1   \n",
       "4        5  05-01-2018       1   0     1        0        3           1   \n",
       "\n",
       "   weathersit       temp     atemp      hum  windspeed  casual  registered  \\\n",
       "0           2  14.110847  18.18125  80.5833  10.749882     331         654   \n",
       "1           2  14.902598  17.68695  69.6087  16.652113     131         670   \n",
       "2           1   8.050924   9.47025  43.7273  16.636703     120        1229   \n",
       "3           1   8.200000  10.60610  59.0435  10.739832     108        1454   \n",
       "4           1   9.305237  11.46350  43.6957  12.522300      82        1518   \n",
       "\n",
       "    cnt  \n",
       "0   985  \n",
       "1   801  \n",
       "2  1349  \n",
       "3  1562  \n",
       "4  1600  "
      ]
     },
     "execution_count": 6,
     "metadata": {},
     "output_type": "execute_result"
    }
   ],
   "source": [
    "df.head()"
   ]
  },
  {
   "cell_type": "code",
   "execution_count": 7,
   "id": "3793959a",
   "metadata": {
    "execution": {
     "iopub.execute_input": "2024-11-10T02:59:04.162897Z",
     "iopub.status.busy": "2024-11-10T02:59:04.162381Z",
     "iopub.status.idle": "2024-11-10T02:59:05.649334Z",
     "shell.execute_reply": "2024-11-10T02:59:05.648079Z"
    },
    "papermill": {
     "duration": 1.535012,
     "end_time": "2024-11-10T02:59:05.654057",
     "exception": false,
     "start_time": "2024-11-10T02:59:04.119045",
     "status": "completed"
    },
    "tags": []
   },
   "outputs": [
    {
     "data": {
      "text/plain": [
       "<Axes: >"
      ]
     },
     "execution_count": 7,
     "metadata": {},
     "output_type": "execute_result"
    },
    {
     "data": {
      "image/png": "[encoded data removed]",
      "text/plain": [
       "<Figure size 1500x1000 with 2 Axes>"
      ]
     },
     "metadata": {},
     "output_type": "display_data"
    }
   ],
   "source": [
    "plt.figure(figsize = (15, 10))\n",
    "sns.heatmap(df.drop(['dteday'], axis = 1).corr(), annot = True)"
   ]
  },
  {
   "cell_type": "markdown",
   "id": "78635c75",
   "metadata": {
    "papermill": {
     "duration": 0.043429,
     "end_time": "2024-11-10T02:59:05.741437",
     "exception": false,
     "start_time": "2024-11-10T02:59:05.698008",
     "status": "completed"
    },
    "tags": []
   },
   "source": [
    "* high positive correlation between temp and atemp with 0.99\n",
    "* high positive correlation between season and mnth with 0.83\n",
    "* high positive correlation between registered and cnt with 0.95\n",
    "* high negative correlation between weathersit and cnt with -0.3"
   ]
  },
  {
   "cell_type": "markdown",
   "id": "3fa4d437",
   "metadata": {
    "papermill": {
     "duration": 0.04342,
     "end_time": "2024-11-10T02:59:05.829189",
     "exception": false,
     "start_time": "2024-11-10T02:59:05.785769",
     "status": "completed"
    },
    "tags": []
   },
   "source": [
    "## instant: record index"
   ]
  },
  {
   "cell_type": "code",
   "execution_count": 8,
   "id": "e45fff9e",
   "metadata": {
    "execution": {
     "iopub.execute_input": "2024-11-10T02:59:05.922177Z",
     "iopub.status.busy": "2024-11-10T02:59:05.921655Z",
     "iopub.status.idle": "2024-11-10T02:59:05.933203Z",
     "shell.execute_reply": "2024-11-10T02:59:05.931740Z"
    },
    "papermill": {
     "duration": 0.060826,
     "end_time": "2024-11-10T02:59:05.936061",
     "exception": false,
     "start_time": "2024-11-10T02:59:05.875235",
     "status": "completed"
    },
    "tags": []
   },
   "outputs": [
    {
     "data": {
      "text/plain": [
       "730"
      ]
     },
     "execution_count": 8,
     "metadata": {},
     "output_type": "execute_result"
    }
   ],
   "source": [
    "df['instant'].nunique()"
   ]
  },
  {
   "cell_type": "markdown",
   "id": "8fe5ca57",
   "metadata": {
    "papermill": {
     "duration": 0.044761,
     "end_time": "2024-11-10T02:59:06.027868",
     "exception": false,
     "start_time": "2024-11-10T02:59:05.983107",
     "status": "completed"
    },
    "tags": []
   },
   "source": [
    "We can drop **'instant'** for model building as it is a index variable and holds unique value for each row."
   ]
  },
  {
   "cell_type": "markdown",
   "id": "7a4068e6",
   "metadata": {
    "papermill": {
     "duration": 0.044171,
     "end_time": "2024-11-10T02:59:06.116222",
     "exception": false,
     "start_time": "2024-11-10T02:59:06.072051",
     "status": "completed"
    },
    "tags": []
   },
   "source": [
    "## dteday : date"
   ]
  },
  {
   "cell_type": "code",
   "execution_count": 9,
   "id": "d90ccdf7",
   "metadata": {
    "execution": {
     "iopub.execute_input": "2024-11-10T02:59:06.209767Z",
     "iopub.status.busy": "2024-11-10T02:59:06.209309Z",
     "iopub.status.idle": "2024-11-10T02:59:06.217465Z",
     "shell.execute_reply": "2024-11-10T02:59:06.216071Z"
    },
    "papermill": {
     "duration": 0.058061,
     "end_time": "2024-11-10T02:59:06.220680",
     "exception": false,
     "start_time": "2024-11-10T02:59:06.162619",
     "status": "completed"
    },
    "tags": []
   },
   "outputs": [
    {
     "data": {
      "text/plain": [
       "dtype('O')"
      ]
     },
     "execution_count": 9,
     "metadata": {},
     "output_type": "execute_result"
    }
   ],
   "source": [
    "df['dteday'].dtype"
   ]
  },
  {
   "cell_type": "markdown",
   "id": "5e38bd76",
   "metadata": {
    "papermill": {
     "duration": 0.047062,
     "end_time": "2024-11-10T02:59:06.312844",
     "exception": false,
     "start_time": "2024-11-10T02:59:06.265782",
     "status": "completed"
    },
    "tags": []
   },
   "source": [
    "Datetime conversion"
   ]
  },
  {
   "cell_type": "code",
   "execution_count": 10,
   "id": "275a3a60",
   "metadata": {
    "execution": {
     "iopub.execute_input": "2024-11-10T02:59:06.408698Z",
     "iopub.status.busy": "2024-11-10T02:59:06.408186Z",
     "iopub.status.idle": "2024-11-10T02:59:06.425136Z",
     "shell.execute_reply": "2024-11-10T02:59:06.423506Z"
    },
    "papermill": {
     "duration": 0.069062,
     "end_time": "2024-11-10T02:59:06.428181",
     "exception": false,
     "start_time": "2024-11-10T02:59:06.359119",
     "status": "completed"
    },
    "tags": []
   },
   "outputs": [],
   "source": [
    "df['dteday'] = pd.to_datetime(df['dteday'], format = \"%d-%m-%Y\")"
   ]
  },
  {
   "cell_type": "code",
   "execution_count": 11,
   "id": "5e329409",
   "metadata": {
    "execution": {
     "iopub.execute_input": "2024-11-10T02:59:06.519916Z",
     "iopub.status.busy": "2024-11-10T02:59:06.518586Z",
     "iopub.status.idle": "2024-11-10T02:59:06.529196Z",
     "shell.execute_reply": "2024-11-10T02:59:06.527054Z"
    },
    "papermill": {
     "duration": 0.059892,
     "end_time": "2024-11-10T02:59:06.532764",
     "exception": false,
     "start_time": "2024-11-10T02:59:06.472872",
     "status": "completed"
    },
    "tags": []
   },
   "outputs": [
    {
     "data": {
      "text/plain": [
       "Timestamp('2018-01-01 00:00:00')"
      ]
     },
     "execution_count": 11,
     "metadata": {},
     "output_type": "execute_result"
    }
   ],
   "source": [
    "min_value = df['dteday'].min()\n",
    "min_value"
   ]
  },
  {
   "cell_type": "code",
   "execution_count": 12,
   "id": "caa6b470",
   "metadata": {
    "execution": {
     "iopub.execute_input": "2024-11-10T02:59:06.625605Z",
     "iopub.status.busy": "2024-11-10T02:59:06.625134Z",
     "iopub.status.idle": "2024-11-10T02:59:06.634936Z",
     "shell.execute_reply": "2024-11-10T02:59:06.633551Z"
    },
    "papermill": {
     "duration": 0.059078,
     "end_time": "2024-11-10T02:59:06.637692",
     "exception": false,
     "start_time": "2024-11-10T02:59:06.578614",
     "status": "completed"
    },
    "tags": []
   },
   "outputs": [
    {
     "data": {
      "text/plain": [
       "Timestamp('2019-12-31 00:00:00')"
      ]
     },
     "execution_count": 12,
     "metadata": {},
     "output_type": "execute_result"
    }
   ],
   "source": [
    "max_value = df['dteday'].max()\n",
    "max_value"
   ]
  },
  {
   "cell_type": "markdown",
   "id": "7ab496ed",
   "metadata": {
    "papermill": {
     "duration": 0.045513,
     "end_time": "2024-11-10T02:59:06.728061",
     "exception": false,
     "start_time": "2024-11-10T02:59:06.682548",
     "status": "completed"
    },
    "tags": []
   },
   "source": [
    "We have data from '**2018-01-01**' to '**2019-12-31**'."
   ]
  },
  {
   "cell_type": "markdown",
   "id": "b610404f",
   "metadata": {
    "papermill": {
     "duration": 0.04513,
     "end_time": "2024-11-10T02:59:06.819952",
     "exception": false,
     "start_time": "2024-11-10T02:59:06.774822",
     "status": "completed"
    },
    "tags": []
   },
   "source": [
    "## season : season (1:spring, 2:summer, 3:fall, 4:winter)"
   ]
  },
  {
   "cell_type": "markdown",
   "id": "d4666bca",
   "metadata": {
    "papermill": {
     "duration": 0.044862,
     "end_time": "2024-11-10T02:59:06.909595",
     "exception": false,
     "start_time": "2024-11-10T02:59:06.864733",
     "status": "completed"
    },
    "tags": []
   },
   "source": [
    "Since, dtype of **season** is int and the values could suggest some order which is not the case. Hence, we will map these values to their labels and create dummy variables at the time of model building. Labels will also be useful for visualization."
   ]
  },
  {
   "cell_type": "code",
   "execution_count": 13,
   "id": "d73b4ec6",
   "metadata": {
    "execution": {
     "iopub.execute_input": "2024-11-10T02:59:07.006036Z",
     "iopub.status.busy": "2024-11-10T02:59:07.005489Z",
     "iopub.status.idle": "2024-11-10T02:59:07.015417Z",
     "shell.execute_reply": "2024-11-10T02:59:07.013895Z"
    },
    "papermill": {
     "duration": 0.064355,
     "end_time": "2024-11-10T02:59:07.018718",
     "exception": false,
     "start_time": "2024-11-10T02:59:06.954363",
     "status": "completed"
    },
    "tags": []
   },
   "outputs": [],
   "source": [
    "df['season'] = df['season'].astype(str)"
   ]
  },
  {
   "cell_type": "code",
   "execution_count": 14,
   "id": "ec91b028",
   "metadata": {
    "execution": {
     "iopub.execute_input": "2024-11-10T02:59:07.125260Z",
     "iopub.status.busy": "2024-11-10T02:59:07.123837Z",
     "iopub.status.idle": "2024-11-10T02:59:07.135660Z",
     "shell.execute_reply": "2024-11-10T02:59:07.134356Z"
    },
    "papermill": {
     "duration": 0.068608,
     "end_time": "2024-11-10T02:59:07.138825",
     "exception": false,
     "start_time": "2024-11-10T02:59:07.070217",
     "status": "completed"
    },
    "tags": []
   },
   "outputs": [
    {
     "data": {
      "text/plain": [
       "season\n",
       "3    188\n",
       "2    184\n",
       "1    180\n",
       "4    178\n",
       "Name: count, dtype: int64"
      ]
     },
     "execution_count": 14,
     "metadata": {},
     "output_type": "execute_result"
    }
   ],
   "source": [
    "df['season'].value_counts()"
   ]
  },
  {
   "cell_type": "markdown",
   "id": "6a9f946c",
   "metadata": {
    "papermill": {
     "duration": 0.048617,
     "end_time": "2024-11-10T02:59:07.234116",
     "exception": false,
     "start_time": "2024-11-10T02:59:07.185499",
     "status": "completed"
    },
    "tags": []
   },
   "source": [
    "## yr : year (0: 2018, 1:2019)"
   ]
  },
  {
   "cell_type": "code",
   "execution_count": 15,
   "id": "c34d92ae",
   "metadata": {
    "execution": {
     "iopub.execute_input": "2024-11-10T02:59:07.330817Z",
     "iopub.status.busy": "2024-11-10T02:59:07.330231Z",
     "iopub.status.idle": "2024-11-10T02:59:07.338286Z",
     "shell.execute_reply": "2024-11-10T02:59:07.336669Z"
    },
    "papermill": {
     "duration": 0.059911,
     "end_time": "2024-11-10T02:59:07.341015",
     "exception": false,
     "start_time": "2024-11-10T02:59:07.281104",
     "status": "completed"
    },
    "tags": []
   },
   "outputs": [],
   "source": [
    "df['yr'] = df['yr'].astype(str)"
   ]
  },
  {
   "cell_type": "code",
   "execution_count": 16,
   "id": "df5293f3",
   "metadata": {
    "execution": {
     "iopub.execute_input": "2024-11-10T02:59:07.501960Z",
     "iopub.status.busy": "2024-11-10T02:59:07.501306Z",
     "iopub.status.idle": "2024-11-10T02:59:07.512198Z",
     "shell.execute_reply": "2024-11-10T02:59:07.510906Z"
    },
    "papermill": {
     "duration": 0.062364,
     "end_time": "2024-11-10T02:59:07.514951",
     "exception": false,
     "start_time": "2024-11-10T02:59:07.452587",
     "status": "completed"
    },
    "tags": []
   },
   "outputs": [
    {
     "data": {
      "text/plain": [
       "yr\n",
       "0    365\n",
       "1    365\n",
       "Name: count, dtype: int64"
      ]
     },
     "execution_count": 16,
     "metadata": {},
     "output_type": "execute_result"
    }
   ],
   "source": [
    "df['yr'].value_counts()"
   ]
  },
  {
   "cell_type": "markdown",
   "id": "3fc953e2",
   "metadata": {
    "papermill": {
     "duration": 0.046419,
     "end_time": "2024-11-10T02:59:07.609200",
     "exception": false,
     "start_time": "2024-11-10T02:59:07.562781",
     "status": "completed"
    },
    "tags": []
   },
   "source": [
    "## mnth : month ( 1 to 12)"
   ]
  },
  {
   "cell_type": "markdown",
   "id": "d946ff0b",
   "metadata": {
    "papermill": {
     "duration": 0.064087,
     "end_time": "2024-11-10T02:59:07.730198",
     "exception": false,
     "start_time": "2024-11-10T02:59:07.666111",
     "status": "completed"
    },
    "tags": []
   },
   "source": [
    "We will convert the column to **str** dtype."
   ]
  },
  {
   "cell_type": "code",
   "execution_count": 17,
   "id": "b599fb10",
   "metadata": {
    "execution": {
     "iopub.execute_input": "2024-11-10T02:59:07.827741Z",
     "iopub.status.busy": "2024-11-10T02:59:07.827238Z",
     "iopub.status.idle": "2024-11-10T02:59:07.835322Z",
     "shell.execute_reply": "2024-11-10T02:59:07.833814Z"
    },
    "papermill": {
     "duration": 0.060926,
     "end_time": "2024-11-10T02:59:07.838154",
     "exception": false,
     "start_time": "2024-11-10T02:59:07.777228",
     "status": "completed"
    },
    "tags": []
   },
   "outputs": [],
   "source": [
    "df['mnth'] = df['mnth'].astype(str)"
   ]
  },
  {
   "cell_type": "code",
   "execution_count": 18,
   "id": "94388a27",
   "metadata": {
    "execution": {
     "iopub.execute_input": "2024-11-10T02:59:07.935419Z",
     "iopub.status.busy": "2024-11-10T02:59:07.934923Z",
     "iopub.status.idle": "2024-11-10T02:59:07.946250Z",
     "shell.execute_reply": "2024-11-10T02:59:07.944920Z"
    },
    "papermill": {
     "duration": 0.062862,
     "end_time": "2024-11-10T02:59:07.949134",
     "exception": false,
     "start_time": "2024-11-10T02:59:07.886272",
     "status": "completed"
    },
    "tags": []
   },
   "outputs": [
    {
     "data": {
      "text/plain": [
       "mnth\n",
       "1     62\n",
       "3     62\n",
       "5     62\n",
       "7     62\n",
       "8     62\n",
       "10    62\n",
       "12    62\n",
       "4     60\n",
       "6     60\n",
       "9     60\n",
       "11    60\n",
       "2     56\n",
       "Name: count, dtype: int64"
      ]
     },
     "execution_count": 18,
     "metadata": {},
     "output_type": "execute_result"
    }
   ],
   "source": [
    "df['mnth'].value_counts()"
   ]
  },
  {
   "cell_type": "markdown",
   "id": "abceeae2",
   "metadata": {
    "papermill": {
     "duration": 0.046759,
     "end_time": "2024-11-10T02:59:08.042662",
     "exception": false,
     "start_time": "2024-11-10T02:59:07.995903",
     "status": "completed"
    },
    "tags": []
   },
   "source": [
    "## holiday : whether day is a holiday or not"
   ]
  },
  {
   "cell_type": "code",
   "execution_count": 19,
   "id": "43eae8cd",
   "metadata": {
    "execution": {
     "iopub.execute_input": "2024-11-10T02:59:08.139010Z",
     "iopub.status.busy": "2024-11-10T02:59:08.138500Z",
     "iopub.status.idle": "2024-11-10T02:59:08.146078Z",
     "shell.execute_reply": "2024-11-10T02:59:08.144531Z"
    },
    "papermill": {
     "duration": 0.059937,
     "end_time": "2024-11-10T02:59:08.149279",
     "exception": false,
     "start_time": "2024-11-10T02:59:08.089342",
     "status": "completed"
    },
    "tags": []
   },
   "outputs": [],
   "source": [
    "df['holiday'] = df['holiday'].astype(str)"
   ]
  },
  {
   "cell_type": "code",
   "execution_count": 20,
   "id": "b95885e3",
   "metadata": {
    "execution": {
     "iopub.execute_input": "2024-11-10T02:59:08.248713Z",
     "iopub.status.busy": "2024-11-10T02:59:08.248249Z",
     "iopub.status.idle": "2024-11-10T02:59:08.258875Z",
     "shell.execute_reply": "2024-11-10T02:59:08.257568Z"
    },
    "papermill": {
     "duration": 0.061847,
     "end_time": "2024-11-10T02:59:08.261563",
     "exception": false,
     "start_time": "2024-11-10T02:59:08.199716",
     "status": "completed"
    },
    "tags": []
   },
   "outputs": [
    {
     "data": {
      "text/plain": [
       "holiday\n",
       "0    709\n",
       "1     21\n",
       "Name: count, dtype: int64"
      ]
     },
     "execution_count": 20,
     "metadata": {},
     "output_type": "execute_result"
    }
   ],
   "source": [
    "df['holiday'].value_counts()"
   ]
  },
  {
   "cell_type": "markdown",
   "id": "7bba9019",
   "metadata": {
    "papermill": {
     "duration": 0.045675,
     "end_time": "2024-11-10T02:59:08.354128",
     "exception": false,
     "start_time": "2024-11-10T02:59:08.308453",
     "status": "completed"
    },
    "tags": []
   },
   "source": [
    "## weekday : day of the week"
   ]
  },
  {
   "cell_type": "code",
   "execution_count": 21,
   "id": "71aabb3d",
   "metadata": {
    "execution": {
     "iopub.execute_input": "2024-11-10T02:59:08.449028Z",
     "iopub.status.busy": "2024-11-10T02:59:08.448513Z",
     "iopub.status.idle": "2024-11-10T02:59:08.456006Z",
     "shell.execute_reply": "2024-11-10T02:59:08.454387Z"
    },
    "papermill": {
     "duration": 0.058794,
     "end_time": "2024-11-10T02:59:08.458644",
     "exception": false,
     "start_time": "2024-11-10T02:59:08.399850",
     "status": "completed"
    },
    "tags": []
   },
   "outputs": [],
   "source": [
    "df['weekday'] = df['weekday'].astype(str)"
   ]
  },
  {
   "cell_type": "code",
   "execution_count": 22,
   "id": "5fdfc1e3",
   "metadata": {
    "execution": {
     "iopub.execute_input": "2024-11-10T02:59:08.555783Z",
     "iopub.status.busy": "2024-11-10T02:59:08.555214Z",
     "iopub.status.idle": "2024-11-10T02:59:08.566615Z",
     "shell.execute_reply": "2024-11-10T02:59:08.564938Z"
    },
    "papermill": {
     "duration": 0.064869,
     "end_time": "2024-11-10T02:59:08.569594",
     "exception": false,
     "start_time": "2024-11-10T02:59:08.504725",
     "status": "completed"
    },
    "tags": []
   },
   "outputs": [
    {
     "data": {
      "text/plain": [
       "weekday\n",
       "6    105\n",
       "0    105\n",
       "1    105\n",
       "2    104\n",
       "4    104\n",
       "5    104\n",
       "3    103\n",
       "Name: count, dtype: int64"
      ]
     },
     "execution_count": 22,
     "metadata": {},
     "output_type": "execute_result"
    }
   ],
   "source": [
    "df['weekday'].value_counts()"
   ]
  },
  {
   "cell_type": "markdown",
   "id": "06182d7c",
   "metadata": {
    "papermill": {
     "duration": 0.046194,
     "end_time": "2024-11-10T02:59:08.662041",
     "exception": false,
     "start_time": "2024-11-10T02:59:08.615847",
     "status": "completed"
    },
    "tags": []
   },
   "source": [
    "## workingday : if day is neither weekend nor holiday is 1, otherwise is 0."
   ]
  },
  {
   "cell_type": "code",
   "execution_count": 23,
   "id": "845a0f2f",
   "metadata": {
    "execution": {
     "iopub.execute_input": "2024-11-10T02:59:08.757136Z",
     "iopub.status.busy": "2024-11-10T02:59:08.755771Z",
     "iopub.status.idle": "2024-11-10T02:59:08.764235Z",
     "shell.execute_reply": "2024-11-10T02:59:08.762903Z"
    },
    "papermill": {
     "duration": 0.058596,
     "end_time": "2024-11-10T02:59:08.767063",
     "exception": false,
     "start_time": "2024-11-10T02:59:08.708467",
     "status": "completed"
    },
    "tags": []
   },
   "outputs": [],
   "source": [
    "df['workingday'] = df['workingday'].astype(str)"
   ]
  },
  {
   "cell_type": "code",
   "execution_count": 24,
   "id": "32c92526",
   "metadata": {
    "execution": {
     "iopub.execute_input": "2024-11-10T02:59:08.863274Z",
     "iopub.status.busy": "2024-11-10T02:59:08.862791Z",
     "iopub.status.idle": "2024-11-10T02:59:08.873825Z",
     "shell.execute_reply": "2024-11-10T02:59:08.872168Z"
    },
    "papermill": {
     "duration": 0.061952,
     "end_time": "2024-11-10T02:59:08.876403",
     "exception": false,
     "start_time": "2024-11-10T02:59:08.814451",
     "status": "completed"
    },
    "tags": []
   },
   "outputs": [
    {
     "data": {
      "text/plain": [
       "workingday\n",
       "1    499\n",
       "0    231\n",
       "Name: count, dtype: int64"
      ]
     },
     "execution_count": 24,
     "metadata": {},
     "output_type": "execute_result"
    }
   ],
   "source": [
    "df['workingday'].value_counts()"
   ]
  },
  {
   "cell_type": "markdown",
   "id": "c991caff",
   "metadata": {
    "papermill": {
     "duration": 0.047495,
     "end_time": "2024-11-10T02:59:08.970520",
     "exception": false,
     "start_time": "2024-11-10T02:59:08.923025",
     "status": "completed"
    },
    "tags": []
   },
   "source": [
    "## weathersit : \n",
    "\n",
    "\t\t- 1: Clear, Few clouds, Partly cloudy, Partly cloudy\n",
    "\t\t- 2: Mist + Cloudy, Mist + Broken clouds, Mist + Few clouds, Mist\n",
    "\t\t- 3: Light Snow, Light Rain + Thunderstorm + Scattered clouds, Light Rain + Scattered clouds\n",
    "\t\t- 4: Heavy Rain + Ice Pallets + Thunderstorm + Mist, Snow + Fog"
   ]
  },
  {
   "cell_type": "code",
   "execution_count": 25,
   "id": "9ac8ee9c",
   "metadata": {
    "execution": {
     "iopub.execute_input": "2024-11-10T02:59:09.066491Z",
     "iopub.status.busy": "2024-11-10T02:59:09.066002Z",
     "iopub.status.idle": "2024-11-10T02:59:09.073932Z",
     "shell.execute_reply": "2024-11-10T02:59:09.072627Z"
    },
    "papermill": {
     "duration": 0.058685,
     "end_time": "2024-11-10T02:59:09.076639",
     "exception": false,
     "start_time": "2024-11-10T02:59:09.017954",
     "status": "completed"
    },
    "tags": []
   },
   "outputs": [],
   "source": [
    "df['weathersit'] = df['weathersit'].astype(str)"
   ]
  },
  {
   "cell_type": "code",
   "execution_count": 26,
   "id": "e0b362d6",
   "metadata": {
    "execution": {
     "iopub.execute_input": "2024-11-10T02:59:09.172907Z",
     "iopub.status.busy": "2024-11-10T02:59:09.172403Z",
     "iopub.status.idle": "2024-11-10T02:59:09.183267Z",
     "shell.execute_reply": "2024-11-10T02:59:09.181889Z"
    },
    "papermill": {
     "duration": 0.061221,
     "end_time": "2024-11-10T02:59:09.186257",
     "exception": false,
     "start_time": "2024-11-10T02:59:09.125036",
     "status": "completed"
    },
    "tags": []
   },
   "outputs": [
    {
     "data": {
      "text/plain": [
       "weathersit\n",
       "1    463\n",
       "2    246\n",
       "3     21\n",
       "Name: count, dtype: int64"
      ]
     },
     "execution_count": 26,
     "metadata": {},
     "output_type": "execute_result"
    }
   ],
   "source": [
    "df['weathersit'].value_counts()"
   ]
  },
  {
   "cell_type": "markdown",
   "id": "f01e5101",
   "metadata": {
    "papermill": {
     "duration": 0.046007,
     "end_time": "2024-11-10T02:59:09.278736",
     "exception": false,
     "start_time": "2024-11-10T02:59:09.232729",
     "status": "completed"
    },
    "tags": []
   },
   "source": [
    "No data related to the **4** type."
   ]
  },
  {
   "cell_type": "markdown",
   "id": "9db3b44c",
   "metadata": {
    "papermill": {
     "duration": 0.061308,
     "end_time": "2024-11-10T02:59:09.387598",
     "exception": false,
     "start_time": "2024-11-10T02:59:09.326290",
     "status": "completed"
    },
    "tags": []
   },
   "source": [
    "## temp : temperature in Celsius"
   ]
  },
  {
   "cell_type": "code",
   "execution_count": 27,
   "id": "84c2c947",
   "metadata": {
    "execution": {
     "iopub.execute_input": "2024-11-10T02:59:09.488918Z",
     "iopub.status.busy": "2024-11-10T02:59:09.487628Z",
     "iopub.status.idle": "2024-11-10T02:59:09.510280Z",
     "shell.execute_reply": "2024-11-10T02:59:09.508693Z"
    },
    "papermill": {
     "duration": 0.07644,
     "end_time": "2024-11-10T02:59:09.513369",
     "exception": false,
     "start_time": "2024-11-10T02:59:09.436929",
     "status": "completed"
    },
    "tags": []
   },
   "outputs": [
    {
     "data": {
      "text/plain": [
       "count    730.000000\n",
       "mean      20.319259\n",
       "std        7.506729\n",
       "min        2.424346\n",
       "25%       13.811885\n",
       "50%       20.465826\n",
       "75%       26.880615\n",
       "max       35.328347\n",
       "Name: temp, dtype: float64"
      ]
     },
     "execution_count": 27,
     "metadata": {},
     "output_type": "execute_result"
    }
   ],
   "source": [
    "df['temp'].describe()"
   ]
  },
  {
   "cell_type": "markdown",
   "id": "b453f518",
   "metadata": {
    "papermill": {
     "duration": 0.047071,
     "end_time": "2024-11-10T02:59:09.611359",
     "exception": false,
     "start_time": "2024-11-10T02:59:09.564288",
     "status": "completed"
    },
    "tags": []
   },
   "source": [
    "## atemp: feeling temperature in Celsius"
   ]
  },
  {
   "cell_type": "code",
   "execution_count": 28,
   "id": "42870e0f",
   "metadata": {
    "execution": {
     "iopub.execute_input": "2024-11-10T02:59:09.712898Z",
     "iopub.status.busy": "2024-11-10T02:59:09.711746Z",
     "iopub.status.idle": "2024-11-10T02:59:09.725078Z",
     "shell.execute_reply": "2024-11-10T02:59:09.723732Z"
    },
    "papermill": {
     "duration": 0.064909,
     "end_time": "2024-11-10T02:59:09.727681",
     "exception": false,
     "start_time": "2024-11-10T02:59:09.662772",
     "status": "completed"
    },
    "tags": []
   },
   "outputs": [
    {
     "data": {
      "text/plain": [
       "count    730.000000\n",
       "mean      23.726322\n",
       "std        8.150308\n",
       "min        3.953480\n",
       "25%       16.889713\n",
       "50%       24.368225\n",
       "75%       30.445775\n",
       "max       42.044800\n",
       "Name: atemp, dtype: float64"
      ]
     },
     "execution_count": 28,
     "metadata": {},
     "output_type": "execute_result"
    }
   ],
   "source": [
    "df['atemp'].describe()"
   ]
  },
  {
   "cell_type": "markdown",
   "id": "2d4b0435",
   "metadata": {
    "papermill": {
     "duration": 0.049562,
     "end_time": "2024-11-10T02:59:09.824276",
     "exception": false,
     "start_time": "2024-11-10T02:59:09.774714",
     "status": "completed"
    },
    "tags": []
   },
   "source": [
    "## hum: humidity"
   ]
  },
  {
   "cell_type": "code",
   "execution_count": 29,
   "id": "80d12a20",
   "metadata": {
    "execution": {
     "iopub.execute_input": "2024-11-10T02:59:09.928041Z",
     "iopub.status.busy": "2024-11-10T02:59:09.927327Z",
     "iopub.status.idle": "2024-11-10T02:59:09.942876Z",
     "shell.execute_reply": "2024-11-10T02:59:09.941289Z"
    },
    "papermill": {
     "duration": 0.067101,
     "end_time": "2024-11-10T02:59:09.946004",
     "exception": false,
     "start_time": "2024-11-10T02:59:09.878903",
     "status": "completed"
    },
    "tags": []
   },
   "outputs": [
    {
     "data": {
      "text/plain": [
       "count    730.000000\n",
       "mean      62.765175\n",
       "std       14.237589\n",
       "min        0.000000\n",
       "25%       52.000000\n",
       "50%       62.625000\n",
       "75%       72.989575\n",
       "max       97.250000\n",
       "Name: hum, dtype: float64"
      ]
     },
     "execution_count": 29,
     "metadata": {},
     "output_type": "execute_result"
    }
   ],
   "source": [
    "df['hum'].describe()"
   ]
  },
  {
   "cell_type": "markdown",
   "id": "d570db0f",
   "metadata": {
    "papermill": {
     "duration": 0.046489,
     "end_time": "2024-11-10T02:59:10.039511",
     "exception": false,
     "start_time": "2024-11-10T02:59:09.993022",
     "status": "completed"
    },
    "tags": []
   },
   "source": [
    "## windspeed: wind speed"
   ]
  },
  {
   "cell_type": "code",
   "execution_count": 30,
   "id": "f1b6b115",
   "metadata": {
    "execution": {
     "iopub.execute_input": "2024-11-10T02:59:10.136000Z",
     "iopub.status.busy": "2024-11-10T02:59:10.135371Z",
     "iopub.status.idle": "2024-11-10T02:59:10.151589Z",
     "shell.execute_reply": "2024-11-10T02:59:10.150123Z"
    },
    "papermill": {
     "duration": 0.067914,
     "end_time": "2024-11-10T02:59:10.154778",
     "exception": false,
     "start_time": "2024-11-10T02:59:10.086864",
     "status": "completed"
    },
    "tags": []
   },
   "outputs": [
    {
     "data": {
      "text/plain": [
       "count    730.000000\n",
       "mean      12.763620\n",
       "std        5.195841\n",
       "min        1.500244\n",
       "25%        9.041650\n",
       "50%       12.125325\n",
       "75%       15.625589\n",
       "max       34.000021\n",
       "Name: windspeed, dtype: float64"
      ]
     },
     "execution_count": 30,
     "metadata": {},
     "output_type": "execute_result"
    }
   ],
   "source": [
    "df['windspeed'].describe()"
   ]
  },
  {
   "cell_type": "markdown",
   "id": "c53e4bcb",
   "metadata": {
    "papermill": {
     "duration": 0.049564,
     "end_time": "2024-11-10T02:59:10.252287",
     "exception": false,
     "start_time": "2024-11-10T02:59:10.202723",
     "status": "completed"
    },
    "tags": []
   },
   "source": [
    "## casual: count of casual users\n",
    "\n",
    "Indicates the number casual users who have made a rental"
   ]
  },
  {
   "cell_type": "code",
   "execution_count": 31,
   "id": "249f0cae",
   "metadata": {
    "execution": {
     "iopub.execute_input": "2024-11-10T02:59:10.356314Z",
     "iopub.status.busy": "2024-11-10T02:59:10.355690Z",
     "iopub.status.idle": "2024-11-10T02:59:10.372452Z",
     "shell.execute_reply": "2024-11-10T02:59:10.370979Z"
    },
    "papermill": {
     "duration": 0.072888,
     "end_time": "2024-11-10T02:59:10.375596",
     "exception": false,
     "start_time": "2024-11-10T02:59:10.302708",
     "status": "completed"
    },
    "tags": []
   },
   "outputs": [
    {
     "data": {
      "text/plain": [
       "count     730.000000\n",
       "mean      849.249315\n",
       "std       686.479875\n",
       "min         2.000000\n",
       "25%       316.250000\n",
       "50%       717.000000\n",
       "75%      1096.500000\n",
       "max      3410.000000\n",
       "Name: casual, dtype: float64"
      ]
     },
     "execution_count": 31,
     "metadata": {},
     "output_type": "execute_result"
    }
   ],
   "source": [
    "df['casual'].describe()"
   ]
  },
  {
   "cell_type": "markdown",
   "id": "7fcb1112",
   "metadata": {
    "papermill": {
     "duration": 0.049748,
     "end_time": "2024-11-10T02:59:10.473876",
     "exception": false,
     "start_time": "2024-11-10T02:59:10.424128",
     "status": "completed"
    },
    "tags": []
   },
   "source": [
    "## registered: count of registered users\n",
    "\n",
    "The total number of registered users who have made a booking on a given day"
   ]
  },
  {
   "cell_type": "code",
   "execution_count": 32,
   "id": "d8006ed3",
   "metadata": {
    "execution": {
     "iopub.execute_input": "2024-11-10T02:59:10.577533Z",
     "iopub.status.busy": "2024-11-10T02:59:10.576960Z",
     "iopub.status.idle": "2024-11-10T02:59:10.592175Z",
     "shell.execute_reply": "2024-11-10T02:59:10.590667Z"
    },
    "papermill": {
     "duration": 0.069463,
     "end_time": "2024-11-10T02:59:10.594917",
     "exception": false,
     "start_time": "2024-11-10T02:59:10.525454",
     "status": "completed"
    },
    "tags": []
   },
   "outputs": [
    {
     "data": {
      "text/plain": [
       "count     730.000000\n",
       "mean     3658.757534\n",
       "std      1559.758728\n",
       "min        20.000000\n",
       "25%      2502.250000\n",
       "50%      3664.500000\n",
       "75%      4783.250000\n",
       "max      6946.000000\n",
       "Name: registered, dtype: float64"
      ]
     },
     "execution_count": 32,
     "metadata": {},
     "output_type": "execute_result"
    }
   ],
   "source": [
    "df['registered'].describe()"
   ]
  },
  {
   "cell_type": "markdown",
   "id": "94b20f31",
   "metadata": {
    "papermill": {
     "duration": 0.046746,
     "end_time": "2024-11-10T02:59:10.689618",
     "exception": false,
     "start_time": "2024-11-10T02:59:10.642872",
     "status": "completed"
    },
    "tags": []
   },
   "source": [
    "## cnt: count of total rental bikes including both casual and registered\n",
    "\n",
    "Target Variable"
   ]
  },
  {
   "cell_type": "code",
   "execution_count": 33,
   "id": "e6441056",
   "metadata": {
    "execution": {
     "iopub.execute_input": "2024-11-10T02:59:10.787768Z",
     "iopub.status.busy": "2024-11-10T02:59:10.786691Z",
     "iopub.status.idle": "2024-11-10T02:59:10.800714Z",
     "shell.execute_reply": "2024-11-10T02:59:10.799245Z"
    },
    "papermill": {
     "duration": 0.066334,
     "end_time": "2024-11-10T02:59:10.803541",
     "exception": false,
     "start_time": "2024-11-10T02:59:10.737207",
     "status": "completed"
    },
    "tags": []
   },
   "outputs": [
    {
     "data": {
      "text/plain": [
       "count     730.000000\n",
       "mean     4508.006849\n",
       "std      1936.011647\n",
       "min        22.000000\n",
       "25%      3169.750000\n",
       "50%      4548.500000\n",
       "75%      5966.000000\n",
       "max      8714.000000\n",
       "Name: cnt, dtype: float64"
      ]
     },
     "execution_count": 33,
     "metadata": {},
     "output_type": "execute_result"
    }
   ],
   "source": [
    "df['cnt'].describe()"
   ]
  },
  {
   "cell_type": "code",
   "execution_count": 34,
   "id": "0e8254f7",
   "metadata": {
    "execution": {
     "iopub.execute_input": "2024-11-10T02:59:10.904313Z",
     "iopub.status.busy": "2024-11-10T02:59:10.903789Z",
     "iopub.status.idle": "2024-11-10T02:59:10.920382Z",
     "shell.execute_reply": "2024-11-10T02:59:10.918700Z"
    },
    "papermill": {
     "duration": 0.068544,
     "end_time": "2024-11-10T02:59:10.923390",
     "exception": false,
     "start_time": "2024-11-10T02:59:10.854846",
     "status": "completed"
    },
    "tags": []
   },
   "outputs": [
    {
     "name": "stdout",
     "output_type": "stream",
     "text": [
      "<class 'pandas.core.frame.DataFrame'>\n",
      "RangeIndex: 730 entries, 0 to 729\n",
      "Data columns (total 16 columns):\n",
      " #   Column      Non-Null Count  Dtype         \n",
      "---  ------      --------------  -----         \n",
      " 0   instant     730 non-null    int64         \n",
      " 1   dteday      730 non-null    datetime64[ns]\n",
      " 2   season      730 non-null    object        \n",
      " 3   yr          730 non-null    object        \n",
      " 4   mnth        730 non-null    object        \n",
      " 5   holiday     730 non-null    object        \n",
      " 6   weekday     730 non-null    object        \n",
      " 7   workingday  730 non-null    object        \n",
      " 8   weathersit  730 non-null    object        \n",
      " 9   temp        730 non-null    float64       \n",
      " 10  atemp       730 non-null    float64       \n",
      " 11  hum         730 non-null    float64       \n",
      " 12  windspeed   730 non-null    float64       \n",
      " 13  casual      730 non-null    int64         \n",
      " 14  registered  730 non-null    int64         \n",
      " 15  cnt         730 non-null    int64         \n",
      "dtypes: datetime64[ns](1), float64(4), int64(4), object(7)\n",
      "memory usage: 91.4+ KB\n"
     ]
    }
   ],
   "source": [
    "df.info()"
   ]
  },
  {
   "cell_type": "code",
   "execution_count": 35,
   "id": "56f4c847",
   "metadata": {
    "execution": {
     "iopub.execute_input": "2024-11-10T02:59:11.021043Z",
     "iopub.status.busy": "2024-11-10T02:59:11.020531Z",
     "iopub.status.idle": "2024-11-10T02:59:11.029430Z",
     "shell.execute_reply": "2024-11-10T02:59:11.028218Z"
    },
    "papermill": {
     "duration": 0.061068,
     "end_time": "2024-11-10T02:59:11.032155",
     "exception": false,
     "start_time": "2024-11-10T02:59:10.971087",
     "status": "completed"
    },
    "tags": []
   },
   "outputs": [
    {
     "data": {
      "text/plain": [
       "['season', 'yr', 'mnth', 'holiday', 'weekday', 'workingday', 'weathersit']"
      ]
     },
     "execution_count": 35,
     "metadata": {},
     "output_type": "execute_result"
    }
   ],
   "source": [
    "cat_cols = [col for col in df.columns if df[col].dtype == 'O']\n",
    "cat_cols"
   ]
  },
  {
   "cell_type": "code",
   "execution_count": 36,
   "id": "7e9693e0",
   "metadata": {
    "execution": {
     "iopub.execute_input": "2024-11-10T02:59:11.129750Z",
     "iopub.status.busy": "2024-11-10T02:59:11.129259Z",
     "iopub.status.idle": "2024-11-10T02:59:11.138924Z",
     "shell.execute_reply": "2024-11-10T02:59:11.137591Z"
    },
    "papermill": {
     "duration": 0.061504,
     "end_time": "2024-11-10T02:59:11.141566",
     "exception": false,
     "start_time": "2024-11-10T02:59:11.080062",
     "status": "completed"
    },
    "tags": []
   },
   "outputs": [
    {
     "data": {
      "text/plain": [
       "['temp', 'atemp', 'hum', 'windspeed', 'casual', 'registered']"
      ]
     },
     "execution_count": 36,
     "metadata": {},
     "output_type": "execute_result"
    }
   ],
   "source": [
    "num_cols = [col for col in df.columns if df[col].dtype != 'O']\n",
    "num_cols.remove('instant')\n",
    "num_cols.remove('dteday')\n",
    "num_cols.remove('cnt')\n",
    "num_cols"
   ]
  },
  {
   "cell_type": "markdown",
   "id": "f52e1b5b",
   "metadata": {
    "papermill": {
     "duration": 0.048856,
     "end_time": "2024-11-10T02:59:11.238916",
     "exception": false,
     "start_time": "2024-11-10T02:59:11.190060",
     "status": "completed"
    },
    "tags": []
   },
   "source": [
    "## categorical columns v/s cnt"
   ]
  },
  {
   "cell_type": "code",
   "execution_count": 37,
   "id": "8047a6db",
   "metadata": {
    "execution": {
     "iopub.execute_input": "2024-11-10T02:59:11.337930Z",
     "iopub.status.busy": "2024-11-10T02:59:11.337203Z",
     "iopub.status.idle": "2024-11-10T02:59:12.905081Z",
     "shell.execute_reply": "2024-11-10T02:59:12.903876Z"
    },
    "papermill": {
     "duration": 1.620395,
     "end_time": "2024-11-10T02:59:12.907892",
     "exception": false,
     "start_time": "2024-11-10T02:59:11.287497",
     "status": "completed"
    },
    "tags": []
   },
   "outputs": [
    {
     "data": {
      "image/png": "[encoded data removed]",
      "text/plain": [
       "<Figure size 1500x1000 with 7 Axes>"
      ]
     },
     "metadata": {},
     "output_type": "display_data"
    }
   ],
   "source": [
    "plt.figure(figsize = (15, 10))\n",
    "for i,col in enumerate(cat_cols):\n",
    "    plt.subplot(3, 3, i + 1)\n",
    "    sns.boxplot(x = col, y = 'cnt', data = df)"
   ]
  },
  {
   "cell_type": "markdown",
   "id": "342184e3",
   "metadata": {
    "papermill": {
     "duration": 0.049149,
     "end_time": "2024-11-10T02:59:13.006326",
     "exception": false,
     "start_time": "2024-11-10T02:59:12.957177",
     "status": "completed"
    },
    "tags": []
   },
   "source": [
    "* We have outliers in season and yr attribute.\n",
    "* count is least in spring season\n",
    "* count increases from 2018 to 2019. We have one outlier in 2019 where sales is too less. maybe it was the start of pandemic. \n",
    "* count keeps on increasing from the start of year and then decreases at the end of the year.\n",
    "* count median is lower on holidays than non-holidays.\n",
    "* count distribution is almost similar for all weekdays.\n",
    "* count distribution is almost similar for both working day and non-working day.\n",
    "* count is least for 3 of weathersit"
   ]
  },
  {
   "cell_type": "markdown",
   "id": "88984990",
   "metadata": {
    "papermill": {
     "duration": 0.048757,
     "end_time": "2024-11-10T02:59:13.104683",
     "exception": false,
     "start_time": "2024-11-10T02:59:13.055926",
     "status": "completed"
    },
    "tags": []
   },
   "source": [
    "## numerical columns v/s cnt"
   ]
  },
  {
   "cell_type": "code",
   "execution_count": 38,
   "id": "17d109eb",
   "metadata": {
    "execution": {
     "iopub.execute_input": "2024-11-10T02:59:13.208093Z",
     "iopub.status.busy": "2024-11-10T02:59:13.207547Z",
     "iopub.status.idle": "2024-11-10T02:59:14.911398Z",
     "shell.execute_reply": "2024-11-10T02:59:14.909674Z"
    },
    "papermill": {
     "duration": 1.76197,
     "end_time": "2024-11-10T02:59:14.915958",
     "exception": false,
     "start_time": "2024-11-10T02:59:13.153988",
     "status": "completed"
    },
    "tags": []
   },
   "outputs": [
    {
     "data": {
      "image/png": "[encoded data removed]",
      "text/plain": [
       "<Figure size 1500x1000 with 6 Axes>"
      ]
     },
     "metadata": {},
     "output_type": "display_data"
    }
   ],
   "source": [
    "plt.figure(figsize = (15, 10))\n",
    "for i,col in enumerate(num_cols):\n",
    "    plt.subplot(3, 2, i + 1)\n",
    "    sns.scatterplot(x = col, y = 'cnt', data = df)"
   ]
  },
  {
   "cell_type": "markdown",
   "id": "835c8a3a",
   "metadata": {
    "papermill": {
     "duration": 0.054796,
     "end_time": "2024-11-10T02:59:15.024662",
     "exception": false,
     "start_time": "2024-11-10T02:59:14.969866",
     "status": "completed"
    },
    "tags": []
   },
   "source": [
    "* weak linear relationship exists between temp,atemp and cnt\n",
    "* no linear relationship exists between hum,windspeed and cnt\n",
    "* strong linear relationship exist between casual,registered and cnt"
   ]
  },
  {
   "cell_type": "markdown",
   "id": "aeb4b02f",
   "metadata": {
    "papermill": {
     "duration": 0.055389,
     "end_time": "2024-11-10T02:59:15.135300",
     "exception": false,
     "start_time": "2024-11-10T02:59:15.079911",
     "status": "completed"
    },
    "tags": []
   },
   "source": [
    "# Outlier Analysis"
   ]
  },
  {
   "cell_type": "markdown",
   "id": "52449ad0",
   "metadata": {
    "papermill": {
     "duration": 0.054803,
     "end_time": "2024-11-10T02:59:15.247233",
     "exception": false,
     "start_time": "2024-11-10T02:59:15.192430",
     "status": "completed"
    },
    "tags": []
   },
   "source": [
    "### yr column"
   ]
  },
  {
   "cell_type": "code",
   "execution_count": 39,
   "id": "77871f1a",
   "metadata": {
    "execution": {
     "iopub.execute_input": "2024-11-10T02:59:15.355516Z",
     "iopub.status.busy": "2024-11-10T02:59:15.354653Z",
     "iopub.status.idle": "2024-11-10T02:59:15.366929Z",
     "shell.execute_reply": "2024-11-10T02:59:15.365102Z"
    },
    "papermill": {
     "duration": 0.069681,
     "end_time": "2024-11-10T02:59:15.369894",
     "exception": false,
     "start_time": "2024-11-10T02:59:15.300213",
     "status": "completed"
    },
    "tags": []
   },
   "outputs": [],
   "source": [
    "df_2019 = df[df['yr'] == '1']"
   ]
  },
  {
   "cell_type": "code",
   "execution_count": 40,
   "id": "32b5796d",
   "metadata": {
    "execution": {
     "iopub.execute_input": "2024-11-10T02:59:15.477256Z",
     "iopub.status.busy": "2024-11-10T02:59:15.476758Z",
     "iopub.status.idle": "2024-11-10T02:59:15.489090Z",
     "shell.execute_reply": "2024-11-10T02:59:15.487516Z"
    },
    "papermill": {
     "duration": 0.069316,
     "end_time": "2024-11-10T02:59:15.491913",
     "exception": false,
     "start_time": "2024-11-10T02:59:15.422597",
     "status": "completed"
    },
    "tags": []
   },
   "outputs": [
    {
     "data": {
      "text/plain": [
       "418.0"
      ]
     },
     "execution_count": 40,
     "metadata": {},
     "output_type": "execute_result"
    }
   ],
   "source": [
    "q1 = np.percentile(df_2019['cnt'], 25)\n",
    "q3 = np.percentile(df_2019['cnt'], 75)\n",
    "iqr = q3 - q1\n",
    "lower_limit = q1 - 1.5*iqr\n",
    "lower_limit"
   ]
  },
  {
   "cell_type": "code",
   "execution_count": 41,
   "id": "3eef35e7",
   "metadata": {
    "execution": {
     "iopub.execute_input": "2024-11-10T02:59:15.603277Z",
     "iopub.status.busy": "2024-11-10T02:59:15.602782Z",
     "iopub.status.idle": "2024-11-10T02:59:15.626047Z",
     "shell.execute_reply": "2024-11-10T02:59:15.624673Z"
    },
    "papermill": {
     "duration": 0.083475,
     "end_time": "2024-11-10T02:59:15.628825",
     "exception": false,
     "start_time": "2024-11-10T02:59:15.545350",
     "status": "completed"
    },
    "tags": []
   },
   "outputs": [
    {
     "data": {
      "text/html": [
       "<div>\n",
       "<style scoped>\n",
       "    .dataframe tbody tr th:only-of-type {\n",
       "        vertical-align: middle;\n",
       "    }\n",
       "\n",
       "    .dataframe tbody tr th {\n",
       "        vertical-align: top;\n",
       "    }\n",
       "\n",
       "    .dataframe thead th {\n",
       "        text-align: right;\n",
       "    }\n",
       "</style>\n",
       "<table border=\"1\" class=\"dataframe\">\n",
       "  <thead>\n",
       "    <tr style=\"text-align: right;\">\n",
       "      <th></th>\n",
       "      <th>instant</th>\n",
       "      <th>dteday</th>\n",
       "      <th>season</th>\n",
       "      <th>yr</th>\n",
       "      <th>mnth</th>\n",
       "      <th>holiday</th>\n",
       "      <th>weekday</th>\n",
       "      <th>workingday</th>\n",
       "      <th>weathersit</th>\n",
       "      <th>temp</th>\n",
       "      <th>atemp</th>\n",
       "      <th>hum</th>\n",
       "      <th>windspeed</th>\n",
       "      <th>casual</th>\n",
       "      <th>registered</th>\n",
       "      <th>cnt</th>\n",
       "    </tr>\n",
       "  </thead>\n",
       "  <tbody>\n",
       "    <tr>\n",
       "      <th>666</th>\n",
       "      <td>667</td>\n",
       "      <td>2019-10-29</td>\n",
       "      <td>4</td>\n",
       "      <td>1</td>\n",
       "      <td>10</td>\n",
       "      <td>0</td>\n",
       "      <td>1</td>\n",
       "      <td>1</td>\n",
       "      <td>3</td>\n",
       "      <td>18.04</td>\n",
       "      <td>21.97</td>\n",
       "      <td>88.0</td>\n",
       "      <td>23.9994</td>\n",
       "      <td>2</td>\n",
       "      <td>20</td>\n",
       "      <td>22</td>\n",
       "    </tr>\n",
       "  </tbody>\n",
       "</table>\n",
       "</div>"
      ],
      "text/plain": [
       "     instant     dteday season yr mnth holiday weekday workingday weathersit  \\\n",
       "666      667 2019-10-29      4  1   10       0       1          1          3   \n",
       "\n",
       "      temp  atemp   hum  windspeed  casual  registered  cnt  \n",
       "666  18.04  21.97  88.0    23.9994       2          20   22  "
      ]
     },
     "execution_count": 41,
     "metadata": {},
     "output_type": "execute_result"
    }
   ],
   "source": [
    "df_2019[df_2019['cnt'] < lower_limit]"
   ]
  },
  {
   "cell_type": "markdown",
   "id": "3dedb183",
   "metadata": {
    "papermill": {
     "duration": 0.053092,
     "end_time": "2024-11-10T02:59:15.736253",
     "exception": false,
     "start_time": "2024-11-10T02:59:15.683161",
     "status": "completed"
    },
    "tags": []
   },
   "source": [
    "### season column"
   ]
  },
  {
   "cell_type": "code",
   "execution_count": 42,
   "id": "7a73423f",
   "metadata": {
    "execution": {
     "iopub.execute_input": "2024-11-10T02:59:15.844773Z",
     "iopub.status.busy": "2024-11-10T02:59:15.844290Z",
     "iopub.status.idle": "2024-11-10T02:59:15.852854Z",
     "shell.execute_reply": "2024-11-10T02:59:15.851623Z"
    },
    "papermill": {
     "duration": 0.065283,
     "end_time": "2024-11-10T02:59:15.855507",
     "exception": false,
     "start_time": "2024-11-10T02:59:15.790224",
     "status": "completed"
    },
    "tags": []
   },
   "outputs": [],
   "source": [
    "df_spring = df[df['season'] == '1']"
   ]
  },
  {
   "cell_type": "code",
   "execution_count": 43,
   "id": "862c44ea",
   "metadata": {
    "execution": {
     "iopub.execute_input": "2024-11-10T02:59:15.963361Z",
     "iopub.status.busy": "2024-11-10T02:59:15.962886Z",
     "iopub.status.idle": "2024-11-10T02:59:15.975074Z",
     "shell.execute_reply": "2024-11-10T02:59:15.973714Z"
    },
    "papermill": {
     "duration": 0.070235,
     "end_time": "2024-11-10T02:59:15.978278",
     "exception": false,
     "start_time": "2024-11-10T02:59:15.908043",
     "status": "completed"
    },
    "tags": []
   },
   "outputs": [
    {
     "data": {
      "text/plain": [
       "6355.375"
      ]
     },
     "execution_count": 43,
     "metadata": {},
     "output_type": "execute_result"
    }
   ],
   "source": [
    "q1 = np.percentile(df_spring['cnt'], 25)\n",
    "q3 = np.percentile(df_spring['cnt'], 75)\n",
    "iqr = q3 - q1\n",
    "upper_limit = q3 + 1.5*iqr\n",
    "upper_limit"
   ]
  },
  {
   "cell_type": "code",
   "execution_count": 44,
   "id": "f559378c",
   "metadata": {
    "execution": {
     "iopub.execute_input": "2024-11-10T02:59:16.088436Z",
     "iopub.status.busy": "2024-11-10T02:59:16.087948Z",
     "iopub.status.idle": "2024-11-10T02:59:16.109586Z",
     "shell.execute_reply": "2024-11-10T02:59:16.108187Z"
    },
    "papermill": {
     "duration": 0.079603,
     "end_time": "2024-11-10T02:59:16.112213",
     "exception": false,
     "start_time": "2024-11-10T02:59:16.032610",
     "status": "completed"
    },
    "tags": []
   },
   "outputs": [
    {
     "data": {
      "text/html": [
       "<div>\n",
       "<style scoped>\n",
       "    .dataframe tbody tr th:only-of-type {\n",
       "        vertical-align: middle;\n",
       "    }\n",
       "\n",
       "    .dataframe tbody tr th {\n",
       "        vertical-align: top;\n",
       "    }\n",
       "\n",
       "    .dataframe thead th {\n",
       "        text-align: right;\n",
       "    }\n",
       "</style>\n",
       "<table border=\"1\" class=\"dataframe\">\n",
       "  <thead>\n",
       "    <tr style=\"text-align: right;\">\n",
       "      <th></th>\n",
       "      <th>instant</th>\n",
       "      <th>dteday</th>\n",
       "      <th>season</th>\n",
       "      <th>yr</th>\n",
       "      <th>mnth</th>\n",
       "      <th>holiday</th>\n",
       "      <th>weekday</th>\n",
       "      <th>workingday</th>\n",
       "      <th>weathersit</th>\n",
       "      <th>temp</th>\n",
       "      <th>atemp</th>\n",
       "      <th>hum</th>\n",
       "      <th>windspeed</th>\n",
       "      <th>casual</th>\n",
       "      <th>registered</th>\n",
       "      <th>cnt</th>\n",
       "    </tr>\n",
       "  </thead>\n",
       "  <tbody>\n",
       "    <tr>\n",
       "      <th>440</th>\n",
       "      <td>441</td>\n",
       "      <td>2019-03-17</td>\n",
       "      <td>1</td>\n",
       "      <td>1</td>\n",
       "      <td>3</td>\n",
       "      <td>0</td>\n",
       "      <td>6</td>\n",
       "      <td>0</td>\n",
       "      <td>2</td>\n",
       "      <td>21.080847</td>\n",
       "      <td>25.2523</td>\n",
       "      <td>75.5833</td>\n",
       "      <td>7.417168</td>\n",
       "      <td>3155</td>\n",
       "      <td>4681</td>\n",
       "      <td>7836</td>\n",
       "    </tr>\n",
       "  </tbody>\n",
       "</table>\n",
       "</div>"
      ],
      "text/plain": [
       "     instant     dteday season yr mnth holiday weekday workingday weathersit  \\\n",
       "440      441 2019-03-17      1  1    3       0       6          0          2   \n",
       "\n",
       "          temp    atemp      hum  windspeed  casual  registered   cnt  \n",
       "440  21.080847  25.2523  75.5833   7.417168    3155        4681  7836  "
      ]
     },
     "execution_count": 44,
     "metadata": {},
     "output_type": "execute_result"
    }
   ],
   "source": [
    "df_spring[df_spring['cnt'] > upper_limit]"
   ]
  },
  {
   "cell_type": "code",
   "execution_count": 45,
   "id": "cb1efc8c",
   "metadata": {
    "execution": {
     "iopub.execute_input": "2024-11-10T02:59:16.222457Z",
     "iopub.status.busy": "2024-11-10T02:59:16.221952Z",
     "iopub.status.idle": "2024-11-10T02:59:16.229720Z",
     "shell.execute_reply": "2024-11-10T02:59:16.228377Z"
    },
    "papermill": {
     "duration": 0.067408,
     "end_time": "2024-11-10T02:59:16.232733",
     "exception": false,
     "start_time": "2024-11-10T02:59:16.165325",
     "status": "completed"
    },
    "tags": []
   },
   "outputs": [],
   "source": [
    "df_winter = df[df['season'] == '4']"
   ]
  },
  {
   "cell_type": "code",
   "execution_count": 46,
   "id": "5a712b4f",
   "metadata": {
    "execution": {
     "iopub.execute_input": "2024-11-10T02:59:16.342446Z",
     "iopub.status.busy": "2024-11-10T02:59:16.341954Z",
     "iopub.status.idle": "2024-11-10T02:59:16.354447Z",
     "shell.execute_reply": "2024-11-10T02:59:16.353210Z"
    },
    "papermill": {
     "duration": 0.071012,
     "end_time": "2024-11-10T02:59:16.357348",
     "exception": false,
     "start_time": "2024-11-10T02:59:16.286336",
     "status": "completed"
    },
    "tags": []
   },
   "outputs": [
    {
     "data": {
      "text/plain": [
       "602.0"
      ]
     },
     "execution_count": 46,
     "metadata": {},
     "output_type": "execute_result"
    }
   ],
   "source": [
    "q1 = np.percentile(df_winter['cnt'], 25)\n",
    "q3 = np.percentile(df_winter['cnt'], 75)\n",
    "iqr = q3 - q1\n",
    "lower_limit = q1 - 1.5*iqr\n",
    "lower_limit"
   ]
  },
  {
   "cell_type": "code",
   "execution_count": 47,
   "id": "fb3db586",
   "metadata": {
    "execution": {
     "iopub.execute_input": "2024-11-10T02:59:16.469878Z",
     "iopub.status.busy": "2024-11-10T02:59:16.469381Z",
     "iopub.status.idle": "2024-11-10T02:59:16.492379Z",
     "shell.execute_reply": "2024-11-10T02:59:16.491014Z"
    },
    "papermill": {
     "duration": 0.082589,
     "end_time": "2024-11-10T02:59:16.495253",
     "exception": false,
     "start_time": "2024-11-10T02:59:16.412664",
     "status": "completed"
    },
    "tags": []
   },
   "outputs": [
    {
     "data": {
      "text/html": [
       "<div>\n",
       "<style scoped>\n",
       "    .dataframe tbody tr th:only-of-type {\n",
       "        vertical-align: middle;\n",
       "    }\n",
       "\n",
       "    .dataframe tbody tr th {\n",
       "        vertical-align: top;\n",
       "    }\n",
       "\n",
       "    .dataframe thead th {\n",
       "        text-align: right;\n",
       "    }\n",
       "</style>\n",
       "<table border=\"1\" class=\"dataframe\">\n",
       "  <thead>\n",
       "    <tr style=\"text-align: right;\">\n",
       "      <th></th>\n",
       "      <th>instant</th>\n",
       "      <th>dteday</th>\n",
       "      <th>season</th>\n",
       "      <th>yr</th>\n",
       "      <th>mnth</th>\n",
       "      <th>holiday</th>\n",
       "      <th>weekday</th>\n",
       "      <th>workingday</th>\n",
       "      <th>weathersit</th>\n",
       "      <th>temp</th>\n",
       "      <th>atemp</th>\n",
       "      <th>hum</th>\n",
       "      <th>windspeed</th>\n",
       "      <th>casual</th>\n",
       "      <th>registered</th>\n",
       "      <th>cnt</th>\n",
       "    </tr>\n",
       "  </thead>\n",
       "  <tbody>\n",
       "    <tr>\n",
       "      <th>666</th>\n",
       "      <td>667</td>\n",
       "      <td>2019-10-29</td>\n",
       "      <td>4</td>\n",
       "      <td>1</td>\n",
       "      <td>10</td>\n",
       "      <td>0</td>\n",
       "      <td>1</td>\n",
       "      <td>1</td>\n",
       "      <td>3</td>\n",
       "      <td>18.04</td>\n",
       "      <td>21.97</td>\n",
       "      <td>88.0</td>\n",
       "      <td>23.9994</td>\n",
       "      <td>2</td>\n",
       "      <td>20</td>\n",
       "      <td>22</td>\n",
       "    </tr>\n",
       "  </tbody>\n",
       "</table>\n",
       "</div>"
      ],
      "text/plain": [
       "     instant     dteday season yr mnth holiday weekday workingday weathersit  \\\n",
       "666      667 2019-10-29      4  1   10       0       1          1          3   \n",
       "\n",
       "      temp  atemp   hum  windspeed  casual  registered  cnt  \n",
       "666  18.04  21.97  88.0    23.9994       2          20   22  "
      ]
     },
     "execution_count": 47,
     "metadata": {},
     "output_type": "execute_result"
    }
   ],
   "source": [
    "df_winter[df_winter['cnt'] < lower_limit]"
   ]
  },
  {
   "cell_type": "code",
   "execution_count": 48,
   "id": "f9e14254",
   "metadata": {
    "execution": {
     "iopub.execute_input": "2024-11-10T02:59:16.608792Z",
     "iopub.status.busy": "2024-11-10T02:59:16.608323Z",
     "iopub.status.idle": "2024-11-10T02:59:16.650877Z",
     "shell.execute_reply": "2024-11-10T02:59:16.649371Z"
    },
    "papermill": {
     "duration": 0.104452,
     "end_time": "2024-11-10T02:59:16.653847",
     "exception": false,
     "start_time": "2024-11-10T02:59:16.549395",
     "status": "completed"
    },
    "tags": []
   },
   "outputs": [
    {
     "data": {
      "text/html": [
       "<div>\n",
       "<style scoped>\n",
       "    .dataframe tbody tr th:only-of-type {\n",
       "        vertical-align: middle;\n",
       "    }\n",
       "\n",
       "    .dataframe tbody tr th {\n",
       "        vertical-align: top;\n",
       "    }\n",
       "\n",
       "    .dataframe thead th {\n",
       "        text-align: right;\n",
       "    }\n",
       "</style>\n",
       "<table border=\"1\" class=\"dataframe\">\n",
       "  <thead>\n",
       "    <tr style=\"text-align: right;\">\n",
       "      <th></th>\n",
       "      <th>instant</th>\n",
       "      <th>dteday</th>\n",
       "      <th>temp</th>\n",
       "      <th>atemp</th>\n",
       "      <th>hum</th>\n",
       "      <th>windspeed</th>\n",
       "      <th>casual</th>\n",
       "      <th>registered</th>\n",
       "      <th>cnt</th>\n",
       "    </tr>\n",
       "  </thead>\n",
       "  <tbody>\n",
       "    <tr>\n",
       "      <th>count</th>\n",
       "      <td>730.000000</td>\n",
       "      <td>730</td>\n",
       "      <td>730.000000</td>\n",
       "      <td>730.000000</td>\n",
       "      <td>730.000000</td>\n",
       "      <td>730.000000</td>\n",
       "      <td>730.000000</td>\n",
       "      <td>730.000000</td>\n",
       "      <td>730.000000</td>\n",
       "    </tr>\n",
       "    <tr>\n",
       "      <th>mean</th>\n",
       "      <td>365.500000</td>\n",
       "      <td>2018-12-31 12:00:00</td>\n",
       "      <td>20.319259</td>\n",
       "      <td>23.726322</td>\n",
       "      <td>62.765175</td>\n",
       "      <td>12.763620</td>\n",
       "      <td>849.249315</td>\n",
       "      <td>3658.757534</td>\n",
       "      <td>4508.006849</td>\n",
       "    </tr>\n",
       "    <tr>\n",
       "      <th>min</th>\n",
       "      <td>1.000000</td>\n",
       "      <td>2018-01-01 00:00:00</td>\n",
       "      <td>2.424346</td>\n",
       "      <td>3.953480</td>\n",
       "      <td>0.000000</td>\n",
       "      <td>1.500244</td>\n",
       "      <td>2.000000</td>\n",
       "      <td>20.000000</td>\n",
       "      <td>22.000000</td>\n",
       "    </tr>\n",
       "    <tr>\n",
       "      <th>25%</th>\n",
       "      <td>183.250000</td>\n",
       "      <td>2018-07-02 06:00:00</td>\n",
       "      <td>13.811885</td>\n",
       "      <td>16.889713</td>\n",
       "      <td>52.000000</td>\n",
       "      <td>9.041650</td>\n",
       "      <td>316.250000</td>\n",
       "      <td>2502.250000</td>\n",
       "      <td>3169.750000</td>\n",
       "    </tr>\n",
       "    <tr>\n",
       "      <th>50%</th>\n",
       "      <td>365.500000</td>\n",
       "      <td>2018-12-31 12:00:00</td>\n",
       "      <td>20.465826</td>\n",
       "      <td>24.368225</td>\n",
       "      <td>62.625000</td>\n",
       "      <td>12.125325</td>\n",
       "      <td>717.000000</td>\n",
       "      <td>3664.500000</td>\n",
       "      <td>4548.500000</td>\n",
       "    </tr>\n",
       "    <tr>\n",
       "      <th>75%</th>\n",
       "      <td>547.750000</td>\n",
       "      <td>2019-07-01 18:00:00</td>\n",
       "      <td>26.880615</td>\n",
       "      <td>30.445775</td>\n",
       "      <td>72.989575</td>\n",
       "      <td>15.625589</td>\n",
       "      <td>1096.500000</td>\n",
       "      <td>4783.250000</td>\n",
       "      <td>5966.000000</td>\n",
       "    </tr>\n",
       "    <tr>\n",
       "      <th>max</th>\n",
       "      <td>730.000000</td>\n",
       "      <td>2019-12-31 00:00:00</td>\n",
       "      <td>35.328347</td>\n",
       "      <td>42.044800</td>\n",
       "      <td>97.250000</td>\n",
       "      <td>34.000021</td>\n",
       "      <td>3410.000000</td>\n",
       "      <td>6946.000000</td>\n",
       "      <td>8714.000000</td>\n",
       "    </tr>\n",
       "    <tr>\n",
       "      <th>std</th>\n",
       "      <td>210.877136</td>\n",
       "      <td>NaN</td>\n",
       "      <td>7.506729</td>\n",
       "      <td>8.150308</td>\n",
       "      <td>14.237589</td>\n",
       "      <td>5.195841</td>\n",
       "      <td>686.479875</td>\n",
       "      <td>1559.758728</td>\n",
       "      <td>1936.011647</td>\n",
       "    </tr>\n",
       "  </tbody>\n",
       "</table>\n",
       "</div>"
      ],
      "text/plain": [
       "          instant               dteday        temp       atemp         hum  \\\n",
       "count  730.000000                  730  730.000000  730.000000  730.000000   \n",
       "mean   365.500000  2018-12-31 12:00:00   20.319259   23.726322   62.765175   \n",
       "min      1.000000  2018-01-01 00:00:00    2.424346    3.953480    0.000000   \n",
       "25%    183.250000  2018-07-02 06:00:00   13.811885   16.889713   52.000000   \n",
       "50%    365.500000  2018-12-31 12:00:00   20.465826   24.368225   62.625000   \n",
       "75%    547.750000  2019-07-01 18:00:00   26.880615   30.445775   72.989575   \n",
       "max    730.000000  2019-12-31 00:00:00   35.328347   42.044800   97.250000   \n",
       "std    210.877136                  NaN    7.506729    8.150308   14.237589   \n",
       "\n",
       "        windspeed       casual   registered          cnt  \n",
       "count  730.000000   730.000000   730.000000   730.000000  \n",
       "mean    12.763620   849.249315  3658.757534  4508.006849  \n",
       "min      1.500244     2.000000    20.000000    22.000000  \n",
       "25%      9.041650   316.250000  2502.250000  3169.750000  \n",
       "50%     12.125325   717.000000  3664.500000  4548.500000  \n",
       "75%     15.625589  1096.500000  4783.250000  5966.000000  \n",
       "max     34.000021  3410.000000  6946.000000  8714.000000  \n",
       "std      5.195841   686.479875  1559.758728  1936.011647  "
      ]
     },
     "execution_count": 48,
     "metadata": {},
     "output_type": "execute_result"
    }
   ],
   "source": [
    "df.describe()"
   ]
  },
  {
   "cell_type": "markdown",
   "id": "a269485f",
   "metadata": {
    "papermill": {
     "duration": 0.053387,
     "end_time": "2024-11-10T02:59:16.761534",
     "exception": false,
     "start_time": "2024-11-10T02:59:16.708147",
     "status": "completed"
    },
    "tags": []
   },
   "source": [
    "* outliers are natural variations."
   ]
  },
  {
   "cell_type": "markdown",
   "id": "a58fa377",
   "metadata": {
    "papermill": {
     "duration": 0.05343,
     "end_time": "2024-11-10T02:59:16.871146",
     "exception": false,
     "start_time": "2024-11-10T02:59:16.817716",
     "status": "completed"
    },
    "tags": []
   },
   "source": [
    "# Data Preparation"
   ]
  },
  {
   "cell_type": "markdown",
   "id": "f7545f47",
   "metadata": {
    "papermill": {
     "duration": 0.055012,
     "end_time": "2024-11-10T02:59:16.979743",
     "exception": false,
     "start_time": "2024-11-10T02:59:16.924731",
     "status": "completed"
    },
    "tags": []
   },
   "source": [
    "We will drop these below columns -\n",
    "\n",
    "* **instant**- index variable  \n",
    "* **dteday** - date, as we have already have date features (yr, mnth, weekday)\n",
    "* **registered** - part of the target variable cnt\n",
    "* **casual** - part of the target variable cnt\n",
    "\n",
    "We need to drop registered and casual because they resemble the target variable, and the model will not be able to perfectly identify the target variable."
   ]
  },
  {
   "cell_type": "code",
   "execution_count": 49,
   "id": "e06aa5a5",
   "metadata": {
    "execution": {
     "iopub.execute_input": "2024-11-10T02:59:17.089781Z",
     "iopub.status.busy": "2024-11-10T02:59:17.089269Z",
     "iopub.status.idle": "2024-11-10T02:59:17.098457Z",
     "shell.execute_reply": "2024-11-10T02:59:17.096630Z"
    },
    "papermill": {
     "duration": 0.068057,
     "end_time": "2024-11-10T02:59:17.101688",
     "exception": false,
     "start_time": "2024-11-10T02:59:17.033631",
     "status": "completed"
    },
    "tags": []
   },
   "outputs": [],
   "source": [
    "df.drop(['instant', 'dteday', 'registered', 'casual'], axis = 1, inplace = True)"
   ]
  },
  {
   "cell_type": "markdown",
   "id": "6e109a10",
   "metadata": {
    "papermill": {
     "duration": 0.054443,
     "end_time": "2024-11-10T02:59:17.211063",
     "exception": false,
     "start_time": "2024-11-10T02:59:17.156620",
     "status": "completed"
    },
    "tags": []
   },
   "source": [
    "df_copy - we will use for the final model"
   ]
  },
  {
   "cell_type": "code",
   "execution_count": 50,
   "id": "c4dd0327",
   "metadata": {
    "execution": {
     "iopub.execute_input": "2024-11-10T02:59:17.326374Z",
     "iopub.status.busy": "2024-11-10T02:59:17.325835Z",
     "iopub.status.idle": "2024-11-10T02:59:17.334205Z",
     "shell.execute_reply": "2024-11-10T02:59:17.332664Z"
    },
    "papermill": {
     "duration": 0.069262,
     "end_time": "2024-11-10T02:59:17.337167",
     "exception": false,
     "start_time": "2024-11-10T02:59:17.267905",
     "status": "completed"
    },
    "tags": []
   },
   "outputs": [],
   "source": [
    "df_copy = df.copy()"
   ]
  },
  {
   "cell_type": "code",
   "execution_count": 51,
   "id": "de9f96aa",
   "metadata": {
    "execution": {
     "iopub.execute_input": "2024-11-10T02:59:17.451580Z",
     "iopub.status.busy": "2024-11-10T02:59:17.451021Z",
     "iopub.status.idle": "2024-11-10T02:59:17.473092Z",
     "shell.execute_reply": "2024-11-10T02:59:17.471891Z"
    },
    "papermill": {
     "duration": 0.082526,
     "end_time": "2024-11-10T02:59:17.475701",
     "exception": false,
     "start_time": "2024-11-10T02:59:17.393175",
     "status": "completed"
    },
    "tags": []
   },
   "outputs": [
    {
     "data": {
      "text/html": [
       "<div>\n",
       "<style scoped>\n",
       "    .dataframe tbody tr th:only-of-type {\n",
       "        vertical-align: middle;\n",
       "    }\n",
       "\n",
       "    .dataframe tbody tr th {\n",
       "        vertical-align: top;\n",
       "    }\n",
       "\n",
       "    .dataframe thead th {\n",
       "        text-align: right;\n",
       "    }\n",
       "</style>\n",
       "<table border=\"1\" class=\"dataframe\">\n",
       "  <thead>\n",
       "    <tr style=\"text-align: right;\">\n",
       "      <th></th>\n",
       "      <th>season</th>\n",
       "      <th>yr</th>\n",
       "      <th>mnth</th>\n",
       "      <th>holiday</th>\n",
       "      <th>weekday</th>\n",
       "      <th>workingday</th>\n",
       "      <th>weathersit</th>\n",
       "      <th>temp</th>\n",
       "      <th>atemp</th>\n",
       "      <th>hum</th>\n",
       "      <th>windspeed</th>\n",
       "      <th>cnt</th>\n",
       "    </tr>\n",
       "  </thead>\n",
       "  <tbody>\n",
       "    <tr>\n",
       "      <th>0</th>\n",
       "      <td>1</td>\n",
       "      <td>0</td>\n",
       "      <td>1</td>\n",
       "      <td>0</td>\n",
       "      <td>6</td>\n",
       "      <td>0</td>\n",
       "      <td>2</td>\n",
       "      <td>14.110847</td>\n",
       "      <td>18.18125</td>\n",
       "      <td>80.5833</td>\n",
       "      <td>10.749882</td>\n",
       "      <td>985</td>\n",
       "    </tr>\n",
       "    <tr>\n",
       "      <th>1</th>\n",
       "      <td>1</td>\n",
       "      <td>0</td>\n",
       "      <td>1</td>\n",
       "      <td>0</td>\n",
       "      <td>0</td>\n",
       "      <td>0</td>\n",
       "      <td>2</td>\n",
       "      <td>14.902598</td>\n",
       "      <td>17.68695</td>\n",
       "      <td>69.6087</td>\n",
       "      <td>16.652113</td>\n",
       "      <td>801</td>\n",
       "    </tr>\n",
       "    <tr>\n",
       "      <th>2</th>\n",
       "      <td>1</td>\n",
       "      <td>0</td>\n",
       "      <td>1</td>\n",
       "      <td>0</td>\n",
       "      <td>1</td>\n",
       "      <td>1</td>\n",
       "      <td>1</td>\n",
       "      <td>8.050924</td>\n",
       "      <td>9.47025</td>\n",
       "      <td>43.7273</td>\n",
       "      <td>16.636703</td>\n",
       "      <td>1349</td>\n",
       "    </tr>\n",
       "    <tr>\n",
       "      <th>3</th>\n",
       "      <td>1</td>\n",
       "      <td>0</td>\n",
       "      <td>1</td>\n",
       "      <td>0</td>\n",
       "      <td>2</td>\n",
       "      <td>1</td>\n",
       "      <td>1</td>\n",
       "      <td>8.200000</td>\n",
       "      <td>10.60610</td>\n",
       "      <td>59.0435</td>\n",
       "      <td>10.739832</td>\n",
       "      <td>1562</td>\n",
       "    </tr>\n",
       "    <tr>\n",
       "      <th>4</th>\n",
       "      <td>1</td>\n",
       "      <td>0</td>\n",
       "      <td>1</td>\n",
       "      <td>0</td>\n",
       "      <td>3</td>\n",
       "      <td>1</td>\n",
       "      <td>1</td>\n",
       "      <td>9.305237</td>\n",
       "      <td>11.46350</td>\n",
       "      <td>43.6957</td>\n",
       "      <td>12.522300</td>\n",
       "      <td>1600</td>\n",
       "    </tr>\n",
       "  </tbody>\n",
       "</table>\n",
       "</div>"
      ],
      "text/plain": [
       "  season yr mnth holiday weekday workingday weathersit       temp     atemp  \\\n",
       "0      1  0    1       0       6          0          2  14.110847  18.18125   \n",
       "1      1  0    1       0       0          0          2  14.902598  17.68695   \n",
       "2      1  0    1       0       1          1          1   8.050924   9.47025   \n",
       "3      1  0    1       0       2          1          1   8.200000  10.60610   \n",
       "4      1  0    1       0       3          1          1   9.305237  11.46350   \n",
       "\n",
       "       hum  windspeed   cnt  \n",
       "0  80.5833  10.749882   985  \n",
       "1  69.6087  16.652113   801  \n",
       "2  43.7273  16.636703  1349  \n",
       "3  59.0435  10.739832  1562  \n",
       "4  43.6957  12.522300  1600  "
      ]
     },
     "execution_count": 51,
     "metadata": {},
     "output_type": "execute_result"
    }
   ],
   "source": [
    "df_copy.head()"
   ]
  },
  {
   "cell_type": "markdown",
   "id": "71debbc0",
   "metadata": {
    "papermill": {
     "duration": 0.054133,
     "end_time": "2024-11-10T02:59:17.585199",
     "exception": false,
     "start_time": "2024-11-10T02:59:17.531066",
     "status": "completed"
    },
    "tags": []
   },
   "source": [
    "## Create Dummy Variables"
   ]
  },
  {
   "cell_type": "code",
   "execution_count": 52,
   "id": "632dd0ff",
   "metadata": {
    "execution": {
     "iopub.execute_input": "2024-11-10T02:59:17.717996Z",
     "iopub.status.busy": "2024-11-10T02:59:17.717255Z",
     "iopub.status.idle": "2024-11-10T02:59:17.727267Z",
     "shell.execute_reply": "2024-11-10T02:59:17.725521Z"
    },
    "papermill": {
     "duration": 0.08656,
     "end_time": "2024-11-10T02:59:17.731444",
     "exception": false,
     "start_time": "2024-11-10T02:59:17.644884",
     "status": "completed"
    },
    "tags": []
   },
   "outputs": [
    {
     "data": {
      "text/plain": [
       "['season', 'yr', 'mnth', 'holiday', 'weekday', 'workingday', 'weathersit']"
      ]
     },
     "execution_count": 52,
     "metadata": {},
     "output_type": "execute_result"
    }
   ],
   "source": [
    "cat_cols"
   ]
  },
  {
   "cell_type": "code",
   "execution_count": 53,
   "id": "caf34509",
   "metadata": {
    "execution": {
     "iopub.execute_input": "2024-11-10T02:59:17.857724Z",
     "iopub.status.busy": "2024-11-10T02:59:17.857196Z",
     "iopub.status.idle": "2024-11-10T02:59:17.876865Z",
     "shell.execute_reply": "2024-11-10T02:59:17.875452Z"
    },
    "papermill": {
     "duration": 0.079767,
     "end_time": "2024-11-10T02:59:17.879949",
     "exception": false,
     "start_time": "2024-11-10T02:59:17.800182",
     "status": "completed"
    },
    "tags": []
   },
   "outputs": [],
   "source": [
    "df = pd.concat([df, pd.get_dummies(df[cat_cols], drop_first = True).astype(int)], axis = 1)"
   ]
  },
  {
   "cell_type": "code",
   "execution_count": 54,
   "id": "80930487",
   "metadata": {
    "execution": {
     "iopub.execute_input": "2024-11-10T02:59:17.992186Z",
     "iopub.status.busy": "2024-11-10T02:59:17.991229Z",
     "iopub.status.idle": "2024-11-10T02:59:17.999331Z",
     "shell.execute_reply": "2024-11-10T02:59:17.997888Z"
    },
    "papermill": {
     "duration": 0.067326,
     "end_time": "2024-11-10T02:59:18.002417",
     "exception": false,
     "start_time": "2024-11-10T02:59:17.935091",
     "status": "completed"
    },
    "tags": []
   },
   "outputs": [],
   "source": [
    "df.drop(cat_cols, axis = 1, inplace = True)"
   ]
  },
  {
   "cell_type": "code",
   "execution_count": 55,
   "id": "95b5854c",
   "metadata": {
    "execution": {
     "iopub.execute_input": "2024-11-10T02:59:18.112876Z",
     "iopub.status.busy": "2024-11-10T02:59:18.112375Z",
     "iopub.status.idle": "2024-11-10T02:59:18.138307Z",
     "shell.execute_reply": "2024-11-10T02:59:18.136902Z"
    },
    "papermill": {
     "duration": 0.084727,
     "end_time": "2024-11-10T02:59:18.141074",
     "exception": false,
     "start_time": "2024-11-10T02:59:18.056347",
     "status": "completed"
    },
    "tags": []
   },
   "outputs": [
    {
     "data": {
      "text/html": [
       "<div>\n",
       "<style scoped>\n",
       "    .dataframe tbody tr th:only-of-type {\n",
       "        vertical-align: middle;\n",
       "    }\n",
       "\n",
       "    .dataframe tbody tr th {\n",
       "        vertical-align: top;\n",
       "    }\n",
       "\n",
       "    .dataframe thead th {\n",
       "        text-align: right;\n",
       "    }\n",
       "</style>\n",
       "<table border=\"1\" class=\"dataframe\">\n",
       "  <thead>\n",
       "    <tr style=\"text-align: right;\">\n",
       "      <th></th>\n",
       "      <th>temp</th>\n",
       "      <th>atemp</th>\n",
       "      <th>hum</th>\n",
       "      <th>windspeed</th>\n",
       "      <th>cnt</th>\n",
       "      <th>season_2</th>\n",
       "      <th>season_3</th>\n",
       "      <th>season_4</th>\n",
       "      <th>yr_1</th>\n",
       "      <th>mnth_10</th>\n",
       "      <th>...</th>\n",
       "      <th>holiday_1</th>\n",
       "      <th>weekday_1</th>\n",
       "      <th>weekday_2</th>\n",
       "      <th>weekday_3</th>\n",
       "      <th>weekday_4</th>\n",
       "      <th>weekday_5</th>\n",
       "      <th>weekday_6</th>\n",
       "      <th>workingday_1</th>\n",
       "      <th>weathersit_2</th>\n",
       "      <th>weathersit_3</th>\n",
       "    </tr>\n",
       "  </thead>\n",
       "  <tbody>\n",
       "    <tr>\n",
       "      <th>0</th>\n",
       "      <td>14.110847</td>\n",
       "      <td>18.18125</td>\n",
       "      <td>80.5833</td>\n",
       "      <td>10.749882</td>\n",
       "      <td>985</td>\n",
       "      <td>0</td>\n",
       "      <td>0</td>\n",
       "      <td>0</td>\n",
       "      <td>0</td>\n",
       "      <td>0</td>\n",
       "      <td>...</td>\n",
       "      <td>0</td>\n",
       "      <td>0</td>\n",
       "      <td>0</td>\n",
       "      <td>0</td>\n",
       "      <td>0</td>\n",
       "      <td>0</td>\n",
       "      <td>1</td>\n",
       "      <td>0</td>\n",
       "      <td>1</td>\n",
       "      <td>0</td>\n",
       "    </tr>\n",
       "    <tr>\n",
       "      <th>1</th>\n",
       "      <td>14.902598</td>\n",
       "      <td>17.68695</td>\n",
       "      <td>69.6087</td>\n",
       "      <td>16.652113</td>\n",
       "      <td>801</td>\n",
       "      <td>0</td>\n",
       "      <td>0</td>\n",
       "      <td>0</td>\n",
       "      <td>0</td>\n",
       "      <td>0</td>\n",
       "      <td>...</td>\n",
       "      <td>0</td>\n",
       "      <td>0</td>\n",
       "      <td>0</td>\n",
       "      <td>0</td>\n",
       "      <td>0</td>\n",
       "      <td>0</td>\n",
       "      <td>0</td>\n",
       "      <td>0</td>\n",
       "      <td>1</td>\n",
       "      <td>0</td>\n",
       "    </tr>\n",
       "    <tr>\n",
       "      <th>2</th>\n",
       "      <td>8.050924</td>\n",
       "      <td>9.47025</td>\n",
       "      <td>43.7273</td>\n",
       "      <td>16.636703</td>\n",
       "      <td>1349</td>\n",
       "      <td>0</td>\n",
       "      <td>0</td>\n",
       "      <td>0</td>\n",
       "      <td>0</td>\n",
       "      <td>0</td>\n",
       "      <td>...</td>\n",
       "      <td>0</td>\n",
       "      <td>1</td>\n",
       "      <td>0</td>\n",
       "      <td>0</td>\n",
       "      <td>0</td>\n",
       "      <td>0</td>\n",
       "      <td>0</td>\n",
       "      <td>1</td>\n",
       "      <td>0</td>\n",
       "      <td>0</td>\n",
       "    </tr>\n",
       "    <tr>\n",
       "      <th>3</th>\n",
       "      <td>8.200000</td>\n",
       "      <td>10.60610</td>\n",
       "      <td>59.0435</td>\n",
       "      <td>10.739832</td>\n",
       "      <td>1562</td>\n",
       "      <td>0</td>\n",
       "      <td>0</td>\n",
       "      <td>0</td>\n",
       "      <td>0</td>\n",
       "      <td>0</td>\n",
       "      <td>...</td>\n",
       "      <td>0</td>\n",
       "      <td>0</td>\n",
       "      <td>1</td>\n",
       "      <td>0</td>\n",
       "      <td>0</td>\n",
       "      <td>0</td>\n",
       "      <td>0</td>\n",
       "      <td>1</td>\n",
       "      <td>0</td>\n",
       "      <td>0</td>\n",
       "    </tr>\n",
       "    <tr>\n",
       "      <th>4</th>\n",
       "      <td>9.305237</td>\n",
       "      <td>11.46350</td>\n",
       "      <td>43.6957</td>\n",
       "      <td>12.522300</td>\n",
       "      <td>1600</td>\n",
       "      <td>0</td>\n",
       "      <td>0</td>\n",
       "      <td>0</td>\n",
       "      <td>0</td>\n",
       "      <td>0</td>\n",
       "      <td>...</td>\n",
       "      <td>0</td>\n",
       "      <td>0</td>\n",
       "      <td>0</td>\n",
       "      <td>1</td>\n",
       "      <td>0</td>\n",
       "      <td>0</td>\n",
       "      <td>0</td>\n",
       "      <td>1</td>\n",
       "      <td>0</td>\n",
       "      <td>0</td>\n",
       "    </tr>\n",
       "  </tbody>\n",
       "</table>\n",
       "<p>5 rows × 30 columns</p>\n",
       "</div>"
      ],
      "text/plain": [
       "        temp     atemp      hum  windspeed   cnt  season_2  season_3  \\\n",
       "0  14.110847  18.18125  80.5833  10.749882   985         0         0   \n",
       "1  14.902598  17.68695  69.6087  16.652113   801         0         0   \n",
       "2   8.050924   9.47025  43.7273  16.636703  1349         0         0   \n",
       "3   8.200000  10.60610  59.0435  10.739832  1562         0         0   \n",
       "4   9.305237  11.46350  43.6957  12.522300  1600         0         0   \n",
       "\n",
       "   season_4  yr_1  mnth_10  ...  holiday_1  weekday_1  weekday_2  weekday_3  \\\n",
       "0         0     0        0  ...          0          0          0          0   \n",
       "1         0     0        0  ...          0          0          0          0   \n",
       "2         0     0        0  ...          0          1          0          0   \n",
       "3         0     0        0  ...          0          0          1          0   \n",
       "4         0     0        0  ...          0          0          0          1   \n",
       "\n",
       "   weekday_4  weekday_5  weekday_6  workingday_1  weathersit_2  weathersit_3  \n",
       "0          0          0          1             0             1             0  \n",
       "1          0          0          0             0             1             0  \n",
       "2          0          0          0             1             0             0  \n",
       "3          0          0          0             1             0             0  \n",
       "4          0          0          0             1             0             0  \n",
       "\n",
       "[5 rows x 30 columns]"
      ]
     },
     "execution_count": 55,
     "metadata": {},
     "output_type": "execute_result"
    }
   ],
   "source": [
    "df.head()"
   ]
  },
  {
   "cell_type": "markdown",
   "id": "6262be65",
   "metadata": {
    "papermill": {
     "duration": 0.05738,
     "end_time": "2024-11-10T02:59:18.254637",
     "exception": false,
     "start_time": "2024-11-10T02:59:18.197257",
     "status": "completed"
    },
    "tags": []
   },
   "source": [
    "# Train-Test Split"
   ]
  },
  {
   "cell_type": "code",
   "execution_count": 56,
   "id": "2466ddc1",
   "metadata": {
    "execution": {
     "iopub.execute_input": "2024-11-10T02:59:18.372759Z",
     "iopub.status.busy": "2024-11-10T02:59:18.372268Z",
     "iopub.status.idle": "2024-11-10T02:59:18.382709Z",
     "shell.execute_reply": "2024-11-10T02:59:18.381457Z"
    },
    "papermill": {
     "duration": 0.074596,
     "end_time": "2024-11-10T02:59:18.385683",
     "exception": false,
     "start_time": "2024-11-10T02:59:18.311087",
     "status": "completed"
    },
    "tags": []
   },
   "outputs": [],
   "source": [
    "df_train, df_test = train_test_split(df, test_size = 0.3, random_state = 8)"
   ]
  },
  {
   "cell_type": "code",
   "execution_count": 57,
   "id": "dc63da53",
   "metadata": {
    "execution": {
     "iopub.execute_input": "2024-11-10T02:59:18.503708Z",
     "iopub.status.busy": "2024-11-10T02:59:18.503247Z",
     "iopub.status.idle": "2024-11-10T02:59:18.512117Z",
     "shell.execute_reply": "2024-11-10T02:59:18.510700Z"
    },
    "papermill": {
     "duration": 0.072371,
     "end_time": "2024-11-10T02:59:18.515594",
     "exception": false,
     "start_time": "2024-11-10T02:59:18.443223",
     "status": "completed"
    },
    "tags": []
   },
   "outputs": [
    {
     "data": {
      "text/plain": [
       "(511, 30)"
      ]
     },
     "execution_count": 57,
     "metadata": {},
     "output_type": "execute_result"
    }
   ],
   "source": [
    "df_train.shape"
   ]
  },
  {
   "cell_type": "code",
   "execution_count": 58,
   "id": "d0f6dc86",
   "metadata": {
    "execution": {
     "iopub.execute_input": "2024-11-10T02:59:18.640244Z",
     "iopub.status.busy": "2024-11-10T02:59:18.639690Z",
     "iopub.status.idle": "2024-11-10T02:59:18.648205Z",
     "shell.execute_reply": "2024-11-10T02:59:18.646868Z"
    },
    "papermill": {
     "duration": 0.07611,
     "end_time": "2024-11-10T02:59:18.651532",
     "exception": false,
     "start_time": "2024-11-10T02:59:18.575422",
     "status": "completed"
    },
    "tags": []
   },
   "outputs": [
    {
     "data": {
      "text/plain": [
       "(219, 30)"
      ]
     },
     "execution_count": 58,
     "metadata": {},
     "output_type": "execute_result"
    }
   ],
   "source": [
    "df_test.shape"
   ]
  },
  {
   "cell_type": "markdown",
   "id": "f0956a8d",
   "metadata": {
    "papermill": {
     "duration": 0.057893,
     "end_time": "2024-11-10T02:59:18.768970",
     "exception": false,
     "start_time": "2024-11-10T02:59:18.711077",
     "status": "completed"
    },
    "tags": []
   },
   "source": [
    "# Feature Scaling"
   ]
  },
  {
   "cell_type": "code",
   "execution_count": 59,
   "id": "25996059",
   "metadata": {
    "execution": {
     "iopub.execute_input": "2024-11-10T02:59:18.882769Z",
     "iopub.status.busy": "2024-11-10T02:59:18.882319Z",
     "iopub.status.idle": "2024-11-10T02:59:18.890604Z",
     "shell.execute_reply": "2024-11-10T02:59:18.889367Z"
    },
    "papermill": {
     "duration": 0.068625,
     "end_time": "2024-11-10T02:59:18.893541",
     "exception": false,
     "start_time": "2024-11-10T02:59:18.824916",
     "status": "completed"
    },
    "tags": []
   },
   "outputs": [
    {
     "data": {
      "text/plain": [
       "['temp', 'atemp', 'hum', 'windspeed']"
      ]
     },
     "execution_count": 59,
     "metadata": {},
     "output_type": "execute_result"
    }
   ],
   "source": [
    "num_cols.remove('registered')\n",
    "num_cols.remove('casual')\n",
    "num_cols"
   ]
  },
  {
   "cell_type": "code",
   "execution_count": 60,
   "id": "5f6dcaa5",
   "metadata": {
    "execution": {
     "iopub.execute_input": "2024-11-10T02:59:19.007893Z",
     "iopub.status.busy": "2024-11-10T02:59:19.007407Z",
     "iopub.status.idle": "2024-11-10T02:59:19.024644Z",
     "shell.execute_reply": "2024-11-10T02:59:19.023156Z"
    },
    "papermill": {
     "duration": 0.077495,
     "end_time": "2024-11-10T02:59:19.027521",
     "exception": false,
     "start_time": "2024-11-10T02:59:18.950026",
     "status": "completed"
    },
    "tags": []
   },
   "outputs": [],
   "source": [
    "scaler = MinMaxScaler()\n",
    "df_train[num_cols] = scaler.fit_transform(df_train[num_cols])\n",
    "df_test[num_cols] = scaler.transform(df_test[num_cols])"
   ]
  },
  {
   "cell_type": "markdown",
   "id": "8ce033a0",
   "metadata": {
    "papermill": {
     "duration": 0.055896,
     "end_time": "2024-11-10T02:59:19.140307",
     "exception": false,
     "start_time": "2024-11-10T02:59:19.084411",
     "status": "completed"
    },
    "tags": []
   },
   "source": [
    "# Model Buliding"
   ]
  },
  {
   "cell_type": "markdown",
   "id": "5528a183",
   "metadata": {
    "papermill": {
     "duration": 0.056086,
     "end_time": "2024-11-10T02:59:19.313211",
     "exception": false,
     "start_time": "2024-11-10T02:59:19.257125",
     "status": "completed"
    },
    "tags": []
   },
   "source": [
    "First, we will try to build the model with all the features, then check their p-values and vif values, then perform feature selection.   \n",
    "Starting with these set of features    \n",
    "\n",
    "cat_cols = {'season', 'yr', 'mnth', 'holiday', 'weekday', 'workingday', 'weathersit'}   \r\n",
    "num_cols = {'temp', 'atemp', 'hum', 'windspeed'\n"
   ]
  },
  {
   "cell_type": "code",
   "execution_count": 61,
   "id": "438a72ab",
   "metadata": {
    "execution": {
     "iopub.execute_input": "2024-11-10T02:59:19.428449Z",
     "iopub.status.busy": "2024-11-10T02:59:19.428003Z",
     "iopub.status.idle": "2024-11-10T02:59:19.437198Z",
     "shell.execute_reply": "2024-11-10T02:59:19.435747Z"
    },
    "papermill": {
     "duration": 0.070059,
     "end_time": "2024-11-10T02:59:19.440153",
     "exception": false,
     "start_time": "2024-11-10T02:59:19.370094",
     "status": "completed"
    },
    "tags": []
   },
   "outputs": [],
   "source": [
    "X_train = df_train.drop(['cnt'], axis = 1)\n",
    "y_train = df_train['cnt']\n",
    "\n",
    "X_test = df_test.drop(['cnt'], axis = 1)\n",
    "y_test = df_test['cnt']"
   ]
  },
  {
   "cell_type": "code",
   "execution_count": 62,
   "id": "48d248ce",
   "metadata": {
    "execution": {
     "iopub.execute_input": "2024-11-10T02:59:19.558946Z",
     "iopub.status.busy": "2024-11-10T02:59:19.558351Z",
     "iopub.status.idle": "2024-11-10T02:59:19.589356Z",
     "shell.execute_reply": "2024-11-10T02:59:19.587545Z"
    },
    "papermill": {
     "duration": 0.096652,
     "end_time": "2024-11-10T02:59:19.594258",
     "exception": false,
     "start_time": "2024-11-10T02:59:19.497606",
     "status": "completed"
    },
    "tags": []
   },
   "outputs": [],
   "source": [
    "X_train_lm = sm.add_constant(X_train)\n",
    "\n",
    "lm = sm.OLS(y_train,X_train_lm).fit()"
   ]
  },
  {
   "cell_type": "code",
   "execution_count": 63,
   "id": "e88d3df6",
   "metadata": {
    "execution": {
     "iopub.execute_input": "2024-11-10T02:59:19.769556Z",
     "iopub.status.busy": "2024-11-10T02:59:19.768712Z",
     "iopub.status.idle": "2024-11-10T02:59:19.826539Z",
     "shell.execute_reply": "2024-11-10T02:59:19.825317Z"
    },
    "papermill": {
     "duration": 0.12069,
     "end_time": "2024-11-10T02:59:19.831353",
     "exception": false,
     "start_time": "2024-11-10T02:59:19.710663",
     "status": "completed"
    },
    "tags": []
   },
   "outputs": [
    {
     "name": "stdout",
     "output_type": "stream",
     "text": [
      "                            OLS Regression Results                            \n",
      "==============================================================================\n",
      "Dep. Variable:                    cnt   R-squared:                       0.847\n",
      "Model:                            OLS   Adj. R-squared:                  0.838\n",
      "Method:                 Least Squares   F-statistic:                     94.94\n",
      "Date:                Sun, 10 Nov 2024   Prob (F-statistic):          1.75e-176\n",
      "Time:                        02:59:19   Log-Likelihood:                -4106.3\n",
      "No. Observations:                 511   AIC:                             8271.\n",
      "Df Residuals:                     482   BIC:                             8394.\n",
      "Df Model:                          28                                         \n",
      "Covariance Type:            nonrobust                                         \n",
      "================================================================================\n",
      "                   coef    std err          t      P>|t|      [0.025      0.975]\n",
      "--------------------------------------------------------------------------------\n",
      "const         1752.9605    274.659      6.382      0.000    1213.283    2292.638\n",
      "temp          3528.4168   1217.054      2.899      0.004    1137.031    5919.803\n",
      "atemp          617.3560   1205.421      0.512      0.609   -1751.173    2985.885\n",
      "hum          -1493.3259    338.063     -4.417      0.000   -2157.586    -829.066\n",
      "windspeed    -1596.1824    232.994     -6.851      0.000   -2053.992   -1138.372\n",
      "season_2       625.0243    205.537      3.041      0.002     221.164    1028.884\n",
      "season_3       748.7746    254.130      2.946      0.003     249.435    1248.114\n",
      "season_4      1482.6718    210.646      7.039      0.000    1068.773    1896.570\n",
      "yr_1          2026.4173     70.477     28.753      0.000    1887.937    2164.897\n",
      "mnth_10        453.4521    286.258      1.584      0.114    -109.015    1015.919\n",
      "mnth_11       -140.6376    271.740     -0.518      0.605    -674.579     393.304\n",
      "mnth_12        -78.8001    211.335     -0.373      0.709    -494.051     336.451\n",
      "mnth_2         155.4205    179.093      0.868      0.386    -196.479     507.320\n",
      "mnth_3         519.3706    198.351      2.618      0.009     129.631     909.110\n",
      "mnth_4         583.9742    293.593      1.989      0.047       7.094    1160.854\n",
      "mnth_5         800.2995    320.552      2.497      0.013     170.448    1430.151\n",
      "mnth_6         227.9661    347.904      0.655      0.513    -455.630     911.562\n",
      "mnth_7        -138.2188    387.836     -0.356      0.722    -900.278     623.840\n",
      "mnth_8         152.9678    378.125      0.405      0.686    -590.008     895.944\n",
      "mnth_9         795.4035    328.834      2.419      0.016     149.279    1441.528\n",
      "holiday_1     -463.8016    197.800     -2.345      0.019    -852.458     -75.145\n",
      "weekday_1      -95.7729     85.507     -1.120      0.263    -263.786      72.240\n",
      "weekday_2      -84.6618     91.151     -0.929      0.353    -263.765      94.441\n",
      "weekday_3      -18.5367     93.678     -0.198      0.843    -202.605     165.532\n",
      "weekday_4      -46.3253     94.402     -0.491      0.624    -231.816     139.165\n",
      "weekday_5       47.5796     91.239      0.521      0.602    -131.697     226.856\n",
      "weekday_6      341.9685    131.867      2.593      0.010      82.864     601.073\n",
      "workingday_1   266.0846     82.832      3.212      0.001     103.329     428.840\n",
      "weathersit_2  -404.2681     92.540     -4.369      0.000    -586.100    -222.436\n",
      "weathersit_3 -2017.8543    230.739     -8.745      0.000   -2471.233   -1564.475\n",
      "==============================================================================\n",
      "Omnibus:                       95.766   Durbin-Watson:                   2.123\n",
      "Prob(Omnibus):                  0.000   Jarque-Bera (JB):              257.759\n",
      "Skew:                          -0.919   Prob(JB):                     1.07e-56\n",
      "Kurtosis:                       5.954   Cond. No.                     1.21e+16\n",
      "==============================================================================\n",
      "\n",
      "Notes:\n",
      "[1] Standard Errors assume that the covariance matrix of the errors is correctly specified.\n",
      "[2] The smallest eigenvalue is 1.21e-29. This might indicate that there are\n",
      "strong multicollinearity problems or that the design matrix is singular.\n"
     ]
    }
   ],
   "source": [
    "print(lm.summary())"
   ]
  },
  {
   "cell_type": "code",
   "execution_count": 64,
   "id": "10a51fdb",
   "metadata": {
    "execution": {
     "iopub.execute_input": "2024-11-10T02:59:19.984900Z",
     "iopub.status.busy": "2024-11-10T02:59:19.984365Z",
     "iopub.status.idle": "2024-11-10T02:59:20.158013Z",
     "shell.execute_reply": "2024-11-10T02:59:20.156387Z"
    },
    "papermill": {
     "duration": 0.239171,
     "end_time": "2024-11-10T02:59:20.164207",
     "exception": false,
     "start_time": "2024-11-10T02:59:19.925036",
     "status": "completed"
    },
    "tags": []
   },
   "outputs": [
    {
     "name": "stderr",
     "output_type": "stream",
     "text": [
      "/opt/conda/lib/python3.10/site-packages/statsmodels/stats/outliers_influence.py:197: RuntimeWarning: divide by zero encountered in scalar divide\n",
      "  vif = 1. / (1. - r_squared_i)\n"
     ]
    },
    {
     "data": {
      "text/html": [
       "<div>\n",
       "<style scoped>\n",
       "    .dataframe tbody tr th:only-of-type {\n",
       "        vertical-align: middle;\n",
       "    }\n",
       "\n",
       "    .dataframe tbody tr th {\n",
       "        vertical-align: top;\n",
       "    }\n",
       "\n",
       "    .dataframe thead th {\n",
       "        text-align: right;\n",
       "    }\n",
       "</style>\n",
       "<table border=\"1\" class=\"dataframe\">\n",
       "  <thead>\n",
       "    <tr style=\"text-align: right;\">\n",
       "      <th></th>\n",
       "      <th>Features</th>\n",
       "      <th>VIF</th>\n",
       "    </tr>\n",
       "  </thead>\n",
       "  <tbody>\n",
       "    <tr>\n",
       "      <th>26</th>\n",
       "      <td>workingday_1</td>\n",
       "      <td>inf</td>\n",
       "    </tr>\n",
       "    <tr>\n",
       "      <th>24</th>\n",
       "      <td>weekday_5</td>\n",
       "      <td>inf</td>\n",
       "    </tr>\n",
       "    <tr>\n",
       "      <th>23</th>\n",
       "      <td>weekday_4</td>\n",
       "      <td>inf</td>\n",
       "    </tr>\n",
       "    <tr>\n",
       "      <th>22</th>\n",
       "      <td>weekday_3</td>\n",
       "      <td>inf</td>\n",
       "    </tr>\n",
       "    <tr>\n",
       "      <th>21</th>\n",
       "      <td>weekday_2</td>\n",
       "      <td>inf</td>\n",
       "    </tr>\n",
       "    <tr>\n",
       "      <th>20</th>\n",
       "      <td>weekday_1</td>\n",
       "      <td>inf</td>\n",
       "    </tr>\n",
       "    <tr>\n",
       "      <th>19</th>\n",
       "      <td>holiday_1</td>\n",
       "      <td>inf</td>\n",
       "    </tr>\n",
       "    <tr>\n",
       "      <th>0</th>\n",
       "      <td>temp</td>\n",
       "      <td>452.52</td>\n",
       "    </tr>\n",
       "    <tr>\n",
       "      <th>1</th>\n",
       "      <td>atemp</td>\n",
       "      <td>389.17</td>\n",
       "    </tr>\n",
       "    <tr>\n",
       "      <th>2</th>\n",
       "      <td>hum</td>\n",
       "      <td>21.49</td>\n",
       "    </tr>\n",
       "    <tr>\n",
       "      <th>5</th>\n",
       "      <td>season_3</td>\n",
       "      <td>13.95</td>\n",
       "    </tr>\n",
       "    <tr>\n",
       "      <th>16</th>\n",
       "      <td>mnth_7</td>\n",
       "      <td>11.09</td>\n",
       "    </tr>\n",
       "    <tr>\n",
       "      <th>17</th>\n",
       "      <td>mnth_8</td>\n",
       "      <td>10.08</td>\n",
       "    </tr>\n",
       "    <tr>\n",
       "      <th>4</th>\n",
       "      <td>season_2</td>\n",
       "      <td>9.41</td>\n",
       "    </tr>\n",
       "    <tr>\n",
       "      <th>6</th>\n",
       "      <td>season_4</td>\n",
       "      <td>9.36</td>\n",
       "    </tr>\n",
       "    <tr>\n",
       "      <th>14</th>\n",
       "      <td>mnth_5</td>\n",
       "      <td>7.60</td>\n",
       "    </tr>\n",
       "    <tr>\n",
       "      <th>15</th>\n",
       "      <td>mnth_6</td>\n",
       "      <td>7.49</td>\n",
       "    </tr>\n",
       "    <tr>\n",
       "      <th>18</th>\n",
       "      <td>mnth_9</td>\n",
       "      <td>6.91</td>\n",
       "    </tr>\n",
       "    <tr>\n",
       "      <th>13</th>\n",
       "      <td>mnth_4</td>\n",
       "      <td>6.74</td>\n",
       "    </tr>\n",
       "    <tr>\n",
       "      <th>8</th>\n",
       "      <td>mnth_10</td>\n",
       "      <td>6.04</td>\n",
       "    </tr>\n",
       "    <tr>\n",
       "      <th>3</th>\n",
       "      <td>windspeed</td>\n",
       "      <td>5.32</td>\n",
       "    </tr>\n",
       "    <tr>\n",
       "      <th>9</th>\n",
       "      <td>mnth_11</td>\n",
       "      <td>5.21</td>\n",
       "    </tr>\n",
       "    <tr>\n",
       "      <th>10</th>\n",
       "      <td>mnth_12</td>\n",
       "      <td>3.33</td>\n",
       "    </tr>\n",
       "    <tr>\n",
       "      <th>12</th>\n",
       "      <td>mnth_3</td>\n",
       "      <td>3.03</td>\n",
       "    </tr>\n",
       "    <tr>\n",
       "      <th>27</th>\n",
       "      <td>weathersit_2</td>\n",
       "      <td>2.23</td>\n",
       "    </tr>\n",
       "    <tr>\n",
       "      <th>7</th>\n",
       "      <td>yr_1</td>\n",
       "      <td>2.08</td>\n",
       "    </tr>\n",
       "    <tr>\n",
       "      <th>25</th>\n",
       "      <td>weekday_6</td>\n",
       "      <td>1.92</td>\n",
       "    </tr>\n",
       "    <tr>\n",
       "      <th>11</th>\n",
       "      <td>mnth_2</td>\n",
       "      <td>1.86</td>\n",
       "    </tr>\n",
       "    <tr>\n",
       "      <th>28</th>\n",
       "      <td>weathersit_3</td>\n",
       "      <td>1.22</td>\n",
       "    </tr>\n",
       "  </tbody>\n",
       "</table>\n",
       "</div>"
      ],
      "text/plain": [
       "        Features     VIF\n",
       "26  workingday_1     inf\n",
       "24     weekday_5     inf\n",
       "23     weekday_4     inf\n",
       "22     weekday_3     inf\n",
       "21     weekday_2     inf\n",
       "20     weekday_1     inf\n",
       "19     holiday_1     inf\n",
       "0           temp  452.52\n",
       "1          atemp  389.17\n",
       "2            hum   21.49\n",
       "5       season_3   13.95\n",
       "16        mnth_7   11.09\n",
       "17        mnth_8   10.08\n",
       "4       season_2    9.41\n",
       "6       season_4    9.36\n",
       "14        mnth_5    7.60\n",
       "15        mnth_6    7.49\n",
       "18        mnth_9    6.91\n",
       "13        mnth_4    6.74\n",
       "8        mnth_10    6.04\n",
       "3      windspeed    5.32\n",
       "9        mnth_11    5.21\n",
       "10       mnth_12    3.33\n",
       "12        mnth_3    3.03\n",
       "27  weathersit_2    2.23\n",
       "7           yr_1    2.08\n",
       "25     weekday_6    1.92\n",
       "11        mnth_2    1.86\n",
       "28  weathersit_3    1.22"
      ]
     },
     "execution_count": 64,
     "metadata": {},
     "output_type": "execute_result"
    }
   ],
   "source": [
    "vif = pd.DataFrame()\n",
    "vif['Features'] = X_train.columns\n",
    "vif['VIF'] = [variance_inflation_factor(X_train.values, i) for i in range(X_train.shape[1])]\n",
    "vif['VIF'] = round(vif['VIF'], 2)\n",
    "vif = vif.sort_values(by = 'VIF', ascending = False)\n",
    "vif"
   ]
  },
  {
   "cell_type": "markdown",
   "id": "415b1a7e",
   "metadata": {
    "papermill": {
     "duration": 0.059572,
     "end_time": "2024-11-10T02:59:20.327720",
     "exception": false,
     "start_time": "2024-11-10T02:59:20.268148",
     "status": "completed"
    },
    "tags": []
   },
   "source": [
    "### Iteration 1\n",
    "* No feature dropped   \n",
    "* High Multicollinearity\n",
    "* High p-values and inf vif values for few features\n",
    "* R2 - 0.847, Adjusted R2 - 0.838\n",
    "\n",
    "### Iteration 2\n",
    "* We will drop 'atemp'\n",
    "* Reason - Perfectly correlated with 'temp' with value 0.99\n",
    "* R2 - 0.846, Adjusted R2 - 0.838\n",
    "* High Multicollinearity\n",
    "* High p-values and inf vif values for few features\n",
    "\n",
    "### Iteration 3 \n",
    "* We will drop 'mnth'\n",
    "* Reason - Correlated with 'season' with value '0.83\n",
    "* R2 - 0.827, Adjusted R2 - 0.821\n",
    "* High Multicollinearity\n",
    "* High p-values and inf vif values for few features\n",
    "\n",
    "### Iteration 4\n",
    "* We will drop 'weekday' \n",
    "* Reason - High p-value as well as high vif value\n",
    "* R2 - 0.824 , Adjusted R2 - 0.820\n",
    "* High p-value for workingday and high vif values for temp and hum\n",
    "\n",
    "### Iteration 5\n",
    "* We will drop 'workingday' \n",
    "* Reason - High p-value but low vif value\n",
    "* R2 - 0.824  , Adjusted R2 - 0.820\n",
    "* All p-values below significant level and high vif values for temp and hum\n",
    "\n",
    "### Iteration 6\n",
    "* We will remove 'temp' \n",
    "* Reason - High vif value of 25.86\n",
    "* R2 - 0.739 Adjusted R2 - 0.734\n",
    "* High p-value and vif value for hum\n",
    "\n",
    "### Iteration 7\n",
    "* We will remove 'hum'\n",
    "* Reason - High vif value above 10\n",
    "* R2 - 0.738 Adjusted R2 - 0.734\n",
    "* All p-values below significant level, all vif values below 5g"
   ]
  },
  {
   "cell_type": "markdown",
   "id": "0a9041f5",
   "metadata": {
    "papermill": {
     "duration": 0.05747,
     "end_time": "2024-11-10T02:59:20.443478",
     "exception": false,
     "start_time": "2024-11-10T02:59:20.386008",
     "status": "completed"
    },
    "tags": []
   },
   "source": [
    "Best features after manual feature selection = {'season', 'yr', 'holiday', 'weathersit', 'windspeed'}"
   ]
  },
  {
   "cell_type": "code",
   "execution_count": 65,
   "id": "05ca9ce4",
   "metadata": {
    "execution": {
     "iopub.execute_input": "2024-11-10T02:59:20.563332Z",
     "iopub.status.busy": "2024-11-10T02:59:20.561919Z",
     "iopub.status.idle": "2024-11-10T02:59:20.570603Z",
     "shell.execute_reply": "2024-11-10T02:59:20.569032Z"
    },
    "papermill": {
     "duration": 0.072106,
     "end_time": "2024-11-10T02:59:20.573623",
     "exception": false,
     "start_time": "2024-11-10T02:59:20.501517",
     "status": "completed"
    },
    "tags": []
   },
   "outputs": [],
   "source": [
    "df_copy.drop(['atemp', 'mnth', 'weekday', 'workingday', 'temp', 'hum'], axis = 1, inplace = True)"
   ]
  },
  {
   "cell_type": "code",
   "execution_count": 66,
   "id": "8430f16c",
   "metadata": {
    "execution": {
     "iopub.execute_input": "2024-11-10T02:59:20.691989Z",
     "iopub.status.busy": "2024-11-10T02:59:20.691524Z",
     "iopub.status.idle": "2024-11-10T02:59:20.706985Z",
     "shell.execute_reply": "2024-11-10T02:59:20.705610Z"
    },
    "papermill": {
     "duration": 0.076542,
     "end_time": "2024-11-10T02:59:20.709674",
     "exception": false,
     "start_time": "2024-11-10T02:59:20.633132",
     "status": "completed"
    },
    "tags": []
   },
   "outputs": [
    {
     "data": {
      "text/html": [
       "<div>\n",
       "<style scoped>\n",
       "    .dataframe tbody tr th:only-of-type {\n",
       "        vertical-align: middle;\n",
       "    }\n",
       "\n",
       "    .dataframe tbody tr th {\n",
       "        vertical-align: top;\n",
       "    }\n",
       "\n",
       "    .dataframe thead th {\n",
       "        text-align: right;\n",
       "    }\n",
       "</style>\n",
       "<table border=\"1\" class=\"dataframe\">\n",
       "  <thead>\n",
       "    <tr style=\"text-align: right;\">\n",
       "      <th></th>\n",
       "      <th>season</th>\n",
       "      <th>yr</th>\n",
       "      <th>holiday</th>\n",
       "      <th>weathersit</th>\n",
       "      <th>windspeed</th>\n",
       "      <th>cnt</th>\n",
       "    </tr>\n",
       "  </thead>\n",
       "  <tbody>\n",
       "    <tr>\n",
       "      <th>0</th>\n",
       "      <td>1</td>\n",
       "      <td>0</td>\n",
       "      <td>0</td>\n",
       "      <td>2</td>\n",
       "      <td>10.749882</td>\n",
       "      <td>985</td>\n",
       "    </tr>\n",
       "    <tr>\n",
       "      <th>1</th>\n",
       "      <td>1</td>\n",
       "      <td>0</td>\n",
       "      <td>0</td>\n",
       "      <td>2</td>\n",
       "      <td>16.652113</td>\n",
       "      <td>801</td>\n",
       "    </tr>\n",
       "    <tr>\n",
       "      <th>2</th>\n",
       "      <td>1</td>\n",
       "      <td>0</td>\n",
       "      <td>0</td>\n",
       "      <td>1</td>\n",
       "      <td>16.636703</td>\n",
       "      <td>1349</td>\n",
       "    </tr>\n",
       "    <tr>\n",
       "      <th>3</th>\n",
       "      <td>1</td>\n",
       "      <td>0</td>\n",
       "      <td>0</td>\n",
       "      <td>1</td>\n",
       "      <td>10.739832</td>\n",
       "      <td>1562</td>\n",
       "    </tr>\n",
       "    <tr>\n",
       "      <th>4</th>\n",
       "      <td>1</td>\n",
       "      <td>0</td>\n",
       "      <td>0</td>\n",
       "      <td>1</td>\n",
       "      <td>12.522300</td>\n",
       "      <td>1600</td>\n",
       "    </tr>\n",
       "  </tbody>\n",
       "</table>\n",
       "</div>"
      ],
      "text/plain": [
       "  season yr holiday weathersit  windspeed   cnt\n",
       "0      1  0       0          2  10.749882   985\n",
       "1      1  0       0          2  16.652113   801\n",
       "2      1  0       0          1  16.636703  1349\n",
       "3      1  0       0          1  10.739832  1562\n",
       "4      1  0       0          1  12.522300  1600"
      ]
     },
     "execution_count": 66,
     "metadata": {},
     "output_type": "execute_result"
    }
   ],
   "source": [
    "df_copy.head()"
   ]
  },
  {
   "cell_type": "code",
   "execution_count": 67,
   "id": "9ff62c65",
   "metadata": {
    "execution": {
     "iopub.execute_input": "2024-11-10T02:59:20.828420Z",
     "iopub.status.busy": "2024-11-10T02:59:20.827315Z",
     "iopub.status.idle": "2024-11-10T02:59:20.852836Z",
     "shell.execute_reply": "2024-11-10T02:59:20.851428Z"
    },
    "papermill": {
     "duration": 0.088309,
     "end_time": "2024-11-10T02:59:20.855653",
     "exception": false,
     "start_time": "2024-11-10T02:59:20.767344",
     "status": "completed"
    },
    "tags": []
   },
   "outputs": [
    {
     "data": {
      "text/html": [
       "<div>\n",
       "<style scoped>\n",
       "    .dataframe tbody tr th:only-of-type {\n",
       "        vertical-align: middle;\n",
       "    }\n",
       "\n",
       "    .dataframe tbody tr th {\n",
       "        vertical-align: top;\n",
       "    }\n",
       "\n",
       "    .dataframe thead th {\n",
       "        text-align: right;\n",
       "    }\n",
       "</style>\n",
       "<table border=\"1\" class=\"dataframe\">\n",
       "  <thead>\n",
       "    <tr style=\"text-align: right;\">\n",
       "      <th></th>\n",
       "      <th>windspeed</th>\n",
       "      <th>cnt</th>\n",
       "      <th>season_2</th>\n",
       "      <th>season_3</th>\n",
       "      <th>season_4</th>\n",
       "      <th>yr_1</th>\n",
       "      <th>holiday_1</th>\n",
       "      <th>weathersit_2</th>\n",
       "      <th>weathersit_3</th>\n",
       "    </tr>\n",
       "  </thead>\n",
       "  <tbody>\n",
       "    <tr>\n",
       "      <th>0</th>\n",
       "      <td>10.749882</td>\n",
       "      <td>985</td>\n",
       "      <td>0</td>\n",
       "      <td>0</td>\n",
       "      <td>0</td>\n",
       "      <td>0</td>\n",
       "      <td>0</td>\n",
       "      <td>1</td>\n",
       "      <td>0</td>\n",
       "    </tr>\n",
       "    <tr>\n",
       "      <th>1</th>\n",
       "      <td>16.652113</td>\n",
       "      <td>801</td>\n",
       "      <td>0</td>\n",
       "      <td>0</td>\n",
       "      <td>0</td>\n",
       "      <td>0</td>\n",
       "      <td>0</td>\n",
       "      <td>1</td>\n",
       "      <td>0</td>\n",
       "    </tr>\n",
       "    <tr>\n",
       "      <th>2</th>\n",
       "      <td>16.636703</td>\n",
       "      <td>1349</td>\n",
       "      <td>0</td>\n",
       "      <td>0</td>\n",
       "      <td>0</td>\n",
       "      <td>0</td>\n",
       "      <td>0</td>\n",
       "      <td>0</td>\n",
       "      <td>0</td>\n",
       "    </tr>\n",
       "    <tr>\n",
       "      <th>3</th>\n",
       "      <td>10.739832</td>\n",
       "      <td>1562</td>\n",
       "      <td>0</td>\n",
       "      <td>0</td>\n",
       "      <td>0</td>\n",
       "      <td>0</td>\n",
       "      <td>0</td>\n",
       "      <td>0</td>\n",
       "      <td>0</td>\n",
       "    </tr>\n",
       "    <tr>\n",
       "      <th>4</th>\n",
       "      <td>12.522300</td>\n",
       "      <td>1600</td>\n",
       "      <td>0</td>\n",
       "      <td>0</td>\n",
       "      <td>0</td>\n",
       "      <td>0</td>\n",
       "      <td>0</td>\n",
       "      <td>0</td>\n",
       "      <td>0</td>\n",
       "    </tr>\n",
       "  </tbody>\n",
       "</table>\n",
       "</div>"
      ],
      "text/plain": [
       "   windspeed   cnt  season_2  season_3  season_4  yr_1  holiday_1  \\\n",
       "0  10.749882   985         0         0         0     0          0   \n",
       "1  16.652113   801         0         0         0     0          0   \n",
       "2  16.636703  1349         0         0         0     0          0   \n",
       "3  10.739832  1562         0         0         0     0          0   \n",
       "4  12.522300  1600         0         0         0     0          0   \n",
       "\n",
       "   weathersit_2  weathersit_3  \n",
       "0             1             0  \n",
       "1             1             0  \n",
       "2             0             0  \n",
       "3             0             0  \n",
       "4             0             0  "
      ]
     },
     "execution_count": 67,
     "metadata": {},
     "output_type": "execute_result"
    }
   ],
   "source": [
    "cat_cols = ['season', 'yr', 'holiday', 'weathersit']\n",
    "df_copy = pd.concat([df_copy, pd.get_dummies(df_copy[cat_cols], drop_first = True).astype(int)], axis = 1)\n",
    "df_copy.drop(cat_cols, axis = 1, inplace = True)\n",
    "df_copy.head()"
   ]
  },
  {
   "cell_type": "code",
   "execution_count": 68,
   "id": "740c3cb0",
   "metadata": {
    "execution": {
     "iopub.execute_input": "2024-11-10T02:59:20.974449Z",
     "iopub.status.busy": "2024-11-10T02:59:20.973994Z",
     "iopub.status.idle": "2024-11-10T02:59:20.982711Z",
     "shell.execute_reply": "2024-11-10T02:59:20.981433Z"
    },
    "papermill": {
     "duration": 0.070932,
     "end_time": "2024-11-10T02:59:20.985522",
     "exception": false,
     "start_time": "2024-11-10T02:59:20.914590",
     "status": "completed"
    },
    "tags": []
   },
   "outputs": [],
   "source": [
    "df_train, df_test = train_test_split(df_copy, test_size = 0.3, random_state = 8)"
   ]
  },
  {
   "cell_type": "code",
   "execution_count": 69,
   "id": "39f0051d",
   "metadata": {
    "execution": {
     "iopub.execute_input": "2024-11-10T02:59:21.105021Z",
     "iopub.status.busy": "2024-11-10T02:59:21.104515Z",
     "iopub.status.idle": "2024-11-10T02:59:21.113363Z",
     "shell.execute_reply": "2024-11-10T02:59:21.112036Z"
    },
    "papermill": {
     "duration": 0.07172,
     "end_time": "2024-11-10T02:59:21.115961",
     "exception": false,
     "start_time": "2024-11-10T02:59:21.044241",
     "status": "completed"
    },
    "tags": []
   },
   "outputs": [],
   "source": [
    "X_train = df_train.drop(['cnt'], axis = 1)\n",
    "y_train = df_train['cnt']\n",
    "\n",
    "X_test = df_test.drop(['cnt'], axis = 1)\n",
    "y_test = df_test['cnt']"
   ]
  },
  {
   "cell_type": "code",
   "execution_count": 70,
   "id": "993a9cd9",
   "metadata": {
    "execution": {
     "iopub.execute_input": "2024-11-10T02:59:21.237214Z",
     "iopub.status.busy": "2024-11-10T02:59:21.235645Z",
     "iopub.status.idle": "2024-11-10T02:59:21.241779Z",
     "shell.execute_reply": "2024-11-10T02:59:21.240637Z"
    },
    "papermill": {
     "duration": 0.070347,
     "end_time": "2024-11-10T02:59:21.244570",
     "exception": false,
     "start_time": "2024-11-10T02:59:21.174223",
     "status": "completed"
    },
    "tags": []
   },
   "outputs": [],
   "source": [
    "num_cols = ['windspeed']"
   ]
  },
  {
   "cell_type": "code",
   "execution_count": 71,
   "id": "0483d5b5",
   "metadata": {
    "execution": {
     "iopub.execute_input": "2024-11-10T02:59:21.363771Z",
     "iopub.status.busy": "2024-11-10T02:59:21.363243Z",
     "iopub.status.idle": "2024-11-10T02:59:21.378019Z",
     "shell.execute_reply": "2024-11-10T02:59:21.376652Z"
    },
    "papermill": {
     "duration": 0.078129,
     "end_time": "2024-11-10T02:59:21.380699",
     "exception": false,
     "start_time": "2024-11-10T02:59:21.302570",
     "status": "completed"
    },
    "tags": []
   },
   "outputs": [],
   "source": [
    "scaler = MinMaxScaler()\n",
    "df_train[num_cols] = scaler.fit_transform(df_train[num_cols])\n",
    "df_test[num_cols] = scaler.transform(df_test[num_cols])"
   ]
  },
  {
   "cell_type": "code",
   "execution_count": 72,
   "id": "02462468",
   "metadata": {
    "execution": {
     "iopub.execute_input": "2024-11-10T02:59:21.498146Z",
     "iopub.status.busy": "2024-11-10T02:59:21.497628Z",
     "iopub.status.idle": "2024-11-10T02:59:21.509747Z",
     "shell.execute_reply": "2024-11-10T02:59:21.508480Z"
    },
    "papermill": {
     "duration": 0.074215,
     "end_time": "2024-11-10T02:59:21.512727",
     "exception": false,
     "start_time": "2024-11-10T02:59:21.438512",
     "status": "completed"
    },
    "tags": []
   },
   "outputs": [],
   "source": [
    "X_train_lm = sm.add_constant(X_train)\n",
    "\n",
    "lm = sm.OLS(y_train,X_train_lm).fit()"
   ]
  },
  {
   "cell_type": "code",
   "execution_count": 73,
   "id": "187848e6",
   "metadata": {
    "execution": {
     "iopub.execute_input": "2024-11-10T02:59:21.633130Z",
     "iopub.status.busy": "2024-11-10T02:59:21.632656Z",
     "iopub.status.idle": "2024-11-10T02:59:21.656572Z",
     "shell.execute_reply": "2024-11-10T02:59:21.654921Z"
    },
    "papermill": {
     "duration": 0.087534,
     "end_time": "2024-11-10T02:59:21.659557",
     "exception": false,
     "start_time": "2024-11-10T02:59:21.572023",
     "status": "completed"
    },
    "tags": []
   },
   "outputs": [
    {
     "name": "stdout",
     "output_type": "stream",
     "text": [
      "                            OLS Regression Results                            \n",
      "==============================================================================\n",
      "Dep. Variable:                    cnt   R-squared:                       0.738\n",
      "Model:                            OLS   Adj. R-squared:                  0.734\n",
      "Method:                 Least Squares   F-statistic:                     177.2\n",
      "Date:                Sun, 10 Nov 2024   Prob (F-statistic):          6.79e-141\n",
      "Time:                        02:59:21   Log-Likelihood:                -4242.5\n",
      "No. Observations:                 511   AIC:                             8503.\n",
      "Df Residuals:                     502   BIC:                             8541.\n",
      "Df Model:                           8                                         \n",
      "Covariance Type:            nonrobust                                         \n",
      "================================================================================\n",
      "                   coef    std err          t      P>|t|      [0.025      0.975]\n",
      "--------------------------------------------------------------------------------\n",
      "const         2551.3370    161.009     15.846      0.000    2235.003    2867.671\n",
      "windspeed      -43.6189      8.436     -5.171      0.000     -60.192     -27.045\n",
      "season_2      2186.2309    123.188     17.747      0.000    1944.204    2428.258\n",
      "season_3      2772.3568    126.581     21.902      0.000    2523.663    3021.050\n",
      "season_4      2000.6241    127.475     15.694      0.000    1750.174    2251.075\n",
      "yr_1          2133.9711     87.577     24.367      0.000    1961.908    2306.034\n",
      "holiday_1     -798.0945    267.679     -2.982      0.003   -1324.003    -272.186\n",
      "weathersit_2  -658.9279     93.836     -7.022      0.000    -843.288    -474.568\n",
      "weathersit_3 -2549.3519    265.516     -9.601      0.000   -3071.012   -2027.692\n",
      "==============================================================================\n",
      "Omnibus:                       35.842   Durbin-Watson:                   2.141\n",
      "Prob(Omnibus):                  0.000   Jarque-Bera (JB):               71.855\n",
      "Skew:                          -0.420   Prob(JB):                     2.49e-16\n",
      "Kurtosis:                       4.634   Cond. No.                         86.9\n",
      "==============================================================================\n",
      "\n",
      "Notes:\n",
      "[1] Standard Errors assume that the covariance matrix of the errors is correctly specified.\n"
     ]
    }
   ],
   "source": [
    "print(lm.summary())"
   ]
  },
  {
   "cell_type": "code",
   "execution_count": 74,
   "id": "6a369f19",
   "metadata": {
    "execution": {
     "iopub.execute_input": "2024-11-10T02:59:21.778191Z",
     "iopub.status.busy": "2024-11-10T02:59:21.777734Z",
     "iopub.status.idle": "2024-11-10T02:59:21.804920Z",
     "shell.execute_reply": "2024-11-10T02:59:21.803586Z"
    },
    "papermill": {
     "duration": 0.089121,
     "end_time": "2024-11-10T02:59:21.807668",
     "exception": false,
     "start_time": "2024-11-10T02:59:21.718547",
     "status": "completed"
    },
    "tags": []
   },
   "outputs": [
    {
     "data": {
      "text/html": [
       "<div>\n",
       "<style scoped>\n",
       "    .dataframe tbody tr th:only-of-type {\n",
       "        vertical-align: middle;\n",
       "    }\n",
       "\n",
       "    .dataframe tbody tr th {\n",
       "        vertical-align: top;\n",
       "    }\n",
       "\n",
       "    .dataframe thead th {\n",
       "        text-align: right;\n",
       "    }\n",
       "</style>\n",
       "<table border=\"1\" class=\"dataframe\">\n",
       "  <thead>\n",
       "    <tr style=\"text-align: right;\">\n",
       "      <th></th>\n",
       "      <th>Features</th>\n",
       "      <th>VIF</th>\n",
       "    </tr>\n",
       "  </thead>\n",
       "  <tbody>\n",
       "    <tr>\n",
       "      <th>0</th>\n",
       "      <td>windspeed</td>\n",
       "      <td>3.03</td>\n",
       "    </tr>\n",
       "    <tr>\n",
       "      <th>4</th>\n",
       "      <td>yr_1</td>\n",
       "      <td>1.89</td>\n",
       "    </tr>\n",
       "    <tr>\n",
       "      <th>1</th>\n",
       "      <td>season_2</td>\n",
       "      <td>1.71</td>\n",
       "    </tr>\n",
       "    <tr>\n",
       "      <th>3</th>\n",
       "      <td>season_4</td>\n",
       "      <td>1.55</td>\n",
       "    </tr>\n",
       "    <tr>\n",
       "      <th>2</th>\n",
       "      <td>season_3</td>\n",
       "      <td>1.49</td>\n",
       "    </tr>\n",
       "    <tr>\n",
       "      <th>6</th>\n",
       "      <td>weathersit_2</td>\n",
       "      <td>1.46</td>\n",
       "    </tr>\n",
       "    <tr>\n",
       "      <th>7</th>\n",
       "      <td>weathersit_3</td>\n",
       "      <td>1.09</td>\n",
       "    </tr>\n",
       "    <tr>\n",
       "      <th>5</th>\n",
       "      <td>holiday_1</td>\n",
       "      <td>1.03</td>\n",
       "    </tr>\n",
       "  </tbody>\n",
       "</table>\n",
       "</div>"
      ],
      "text/plain": [
       "       Features   VIF\n",
       "0     windspeed  3.03\n",
       "4          yr_1  1.89\n",
       "1      season_2  1.71\n",
       "3      season_4  1.55\n",
       "2      season_3  1.49\n",
       "6  weathersit_2  1.46\n",
       "7  weathersit_3  1.09\n",
       "5     holiday_1  1.03"
      ]
     },
     "execution_count": 74,
     "metadata": {},
     "output_type": "execute_result"
    }
   ],
   "source": [
    "vif = pd.DataFrame()\n",
    "vif['Features'] = X_train.columns\n",
    "vif['VIF'] = [variance_inflation_factor(X_train.values, i) for i in range(X_train.shape[1])]\n",
    "vif['VIF'] = round(vif['VIF'], 2)\n",
    "vif = vif.sort_values(by = 'VIF', ascending = False)\n",
    "vif"
   ]
  },
  {
   "cell_type": "markdown",
   "id": "32d4f76e",
   "metadata": {
    "papermill": {
     "duration": 0.058778,
     "end_time": "2024-11-10T02:59:21.926307",
     "exception": false,
     "start_time": "2024-11-10T02:59:21.867529",
     "status": "completed"
    },
    "tags": []
   },
   "source": [
    "# Model Building - Automated Approach to Feature Selection"
   ]
  },
  {
   "cell_type": "markdown",
   "id": "28e02605",
   "metadata": {
    "papermill": {
     "duration": 0.060541,
     "end_time": "2024-11-10T02:59:22.046112",
     "exception": false,
     "start_time": "2024-11-10T02:59:21.985571",
     "status": "completed"
    },
    "tags": []
   },
   "source": [
    "### Recursive Feature Selection"
   ]
  },
  {
   "cell_type": "code",
   "execution_count": 75,
   "id": "51104362",
   "metadata": {
    "execution": {
     "iopub.execute_input": "2024-11-10T02:59:22.168446Z",
     "iopub.status.busy": "2024-11-10T02:59:22.167991Z",
     "iopub.status.idle": "2024-11-10T02:59:22.176219Z",
     "shell.execute_reply": "2024-11-10T02:59:22.174542Z"
    },
    "papermill": {
     "duration": 0.073015,
     "end_time": "2024-11-10T02:59:22.179664",
     "exception": false,
     "start_time": "2024-11-10T02:59:22.106649",
     "status": "completed"
    },
    "tags": []
   },
   "outputs": [],
   "source": [
    "df_copy_1 = df.copy()"
   ]
  },
  {
   "cell_type": "code",
   "execution_count": 76,
   "id": "d2961494",
   "metadata": {
    "execution": {
     "iopub.execute_input": "2024-11-10T02:59:22.300919Z",
     "iopub.status.busy": "2024-11-10T02:59:22.300424Z",
     "iopub.status.idle": "2024-11-10T02:59:22.326639Z",
     "shell.execute_reply": "2024-11-10T02:59:22.325177Z"
    },
    "papermill": {
     "duration": 0.089161,
     "end_time": "2024-11-10T02:59:22.329476",
     "exception": false,
     "start_time": "2024-11-10T02:59:22.240315",
     "status": "completed"
    },
    "tags": []
   },
   "outputs": [
    {
     "data": {
      "text/html": [
       "<div>\n",
       "<style scoped>\n",
       "    .dataframe tbody tr th:only-of-type {\n",
       "        vertical-align: middle;\n",
       "    }\n",
       "\n",
       "    .dataframe tbody tr th {\n",
       "        vertical-align: top;\n",
       "    }\n",
       "\n",
       "    .dataframe thead th {\n",
       "        text-align: right;\n",
       "    }\n",
       "</style>\n",
       "<table border=\"1\" class=\"dataframe\">\n",
       "  <thead>\n",
       "    <tr style=\"text-align: right;\">\n",
       "      <th></th>\n",
       "      <th>temp</th>\n",
       "      <th>atemp</th>\n",
       "      <th>hum</th>\n",
       "      <th>windspeed</th>\n",
       "      <th>cnt</th>\n",
       "      <th>season_2</th>\n",
       "      <th>season_3</th>\n",
       "      <th>season_4</th>\n",
       "      <th>yr_1</th>\n",
       "      <th>mnth_10</th>\n",
       "      <th>...</th>\n",
       "      <th>holiday_1</th>\n",
       "      <th>weekday_1</th>\n",
       "      <th>weekday_2</th>\n",
       "      <th>weekday_3</th>\n",
       "      <th>weekday_4</th>\n",
       "      <th>weekday_5</th>\n",
       "      <th>weekday_6</th>\n",
       "      <th>workingday_1</th>\n",
       "      <th>weathersit_2</th>\n",
       "      <th>weathersit_3</th>\n",
       "    </tr>\n",
       "  </thead>\n",
       "  <tbody>\n",
       "    <tr>\n",
       "      <th>0</th>\n",
       "      <td>14.110847</td>\n",
       "      <td>18.18125</td>\n",
       "      <td>80.5833</td>\n",
       "      <td>10.749882</td>\n",
       "      <td>985</td>\n",
       "      <td>0</td>\n",
       "      <td>0</td>\n",
       "      <td>0</td>\n",
       "      <td>0</td>\n",
       "      <td>0</td>\n",
       "      <td>...</td>\n",
       "      <td>0</td>\n",
       "      <td>0</td>\n",
       "      <td>0</td>\n",
       "      <td>0</td>\n",
       "      <td>0</td>\n",
       "      <td>0</td>\n",
       "      <td>1</td>\n",
       "      <td>0</td>\n",
       "      <td>1</td>\n",
       "      <td>0</td>\n",
       "    </tr>\n",
       "    <tr>\n",
       "      <th>1</th>\n",
       "      <td>14.902598</td>\n",
       "      <td>17.68695</td>\n",
       "      <td>69.6087</td>\n",
       "      <td>16.652113</td>\n",
       "      <td>801</td>\n",
       "      <td>0</td>\n",
       "      <td>0</td>\n",
       "      <td>0</td>\n",
       "      <td>0</td>\n",
       "      <td>0</td>\n",
       "      <td>...</td>\n",
       "      <td>0</td>\n",
       "      <td>0</td>\n",
       "      <td>0</td>\n",
       "      <td>0</td>\n",
       "      <td>0</td>\n",
       "      <td>0</td>\n",
       "      <td>0</td>\n",
       "      <td>0</td>\n",
       "      <td>1</td>\n",
       "      <td>0</td>\n",
       "    </tr>\n",
       "    <tr>\n",
       "      <th>2</th>\n",
       "      <td>8.050924</td>\n",
       "      <td>9.47025</td>\n",
       "      <td>43.7273</td>\n",
       "      <td>16.636703</td>\n",
       "      <td>1349</td>\n",
       "      <td>0</td>\n",
       "      <td>0</td>\n",
       "      <td>0</td>\n",
       "      <td>0</td>\n",
       "      <td>0</td>\n",
       "      <td>...</td>\n",
       "      <td>0</td>\n",
       "      <td>1</td>\n",
       "      <td>0</td>\n",
       "      <td>0</td>\n",
       "      <td>0</td>\n",
       "      <td>0</td>\n",
       "      <td>0</td>\n",
       "      <td>1</td>\n",
       "      <td>0</td>\n",
       "      <td>0</td>\n",
       "    </tr>\n",
       "    <tr>\n",
       "      <th>3</th>\n",
       "      <td>8.200000</td>\n",
       "      <td>10.60610</td>\n",
       "      <td>59.0435</td>\n",
       "      <td>10.739832</td>\n",
       "      <td>1562</td>\n",
       "      <td>0</td>\n",
       "      <td>0</td>\n",
       "      <td>0</td>\n",
       "      <td>0</td>\n",
       "      <td>0</td>\n",
       "      <td>...</td>\n",
       "      <td>0</td>\n",
       "      <td>0</td>\n",
       "      <td>1</td>\n",
       "      <td>0</td>\n",
       "      <td>0</td>\n",
       "      <td>0</td>\n",
       "      <td>0</td>\n",
       "      <td>1</td>\n",
       "      <td>0</td>\n",
       "      <td>0</td>\n",
       "    </tr>\n",
       "    <tr>\n",
       "      <th>4</th>\n",
       "      <td>9.305237</td>\n",
       "      <td>11.46350</td>\n",
       "      <td>43.6957</td>\n",
       "      <td>12.522300</td>\n",
       "      <td>1600</td>\n",
       "      <td>0</td>\n",
       "      <td>0</td>\n",
       "      <td>0</td>\n",
       "      <td>0</td>\n",
       "      <td>0</td>\n",
       "      <td>...</td>\n",
       "      <td>0</td>\n",
       "      <td>0</td>\n",
       "      <td>0</td>\n",
       "      <td>1</td>\n",
       "      <td>0</td>\n",
       "      <td>0</td>\n",
       "      <td>0</td>\n",
       "      <td>1</td>\n",
       "      <td>0</td>\n",
       "      <td>0</td>\n",
       "    </tr>\n",
       "  </tbody>\n",
       "</table>\n",
       "<p>5 rows × 30 columns</p>\n",
       "</div>"
      ],
      "text/plain": [
       "        temp     atemp      hum  windspeed   cnt  season_2  season_3  \\\n",
       "0  14.110847  18.18125  80.5833  10.749882   985         0         0   \n",
       "1  14.902598  17.68695  69.6087  16.652113   801         0         0   \n",
       "2   8.050924   9.47025  43.7273  16.636703  1349         0         0   \n",
       "3   8.200000  10.60610  59.0435  10.739832  1562         0         0   \n",
       "4   9.305237  11.46350  43.6957  12.522300  1600         0         0   \n",
       "\n",
       "   season_4  yr_1  mnth_10  ...  holiday_1  weekday_1  weekday_2  weekday_3  \\\n",
       "0         0     0        0  ...          0          0          0          0   \n",
       "1         0     0        0  ...          0          0          0          0   \n",
       "2         0     0        0  ...          0          1          0          0   \n",
       "3         0     0        0  ...          0          0          1          0   \n",
       "4         0     0        0  ...          0          0          0          1   \n",
       "\n",
       "   weekday_4  weekday_5  weekday_6  workingday_1  weathersit_2  weathersit_3  \n",
       "0          0          0          1             0             1             0  \n",
       "1          0          0          0             0             1             0  \n",
       "2          0          0          0             1             0             0  \n",
       "3          0          0          0             1             0             0  \n",
       "4          0          0          0             1             0             0  \n",
       "\n",
       "[5 rows x 30 columns]"
      ]
     },
     "execution_count": 76,
     "metadata": {},
     "output_type": "execute_result"
    }
   ],
   "source": [
    "df_copy_1.head()"
   ]
  },
  {
   "cell_type": "code",
   "execution_count": 77,
   "id": "48d1e7bf",
   "metadata": {
    "execution": {
     "iopub.execute_input": "2024-11-10T02:59:22.449186Z",
     "iopub.status.busy": "2024-11-10T02:59:22.447740Z",
     "iopub.status.idle": "2024-11-10T02:59:22.456227Z",
     "shell.execute_reply": "2024-11-10T02:59:22.454892Z"
    },
    "papermill": {
     "duration": 0.071038,
     "end_time": "2024-11-10T02:59:22.458904",
     "exception": false,
     "start_time": "2024-11-10T02:59:22.387866",
     "status": "completed"
    },
    "tags": []
   },
   "outputs": [
    {
     "data": {
      "text/plain": [
       "['temp', 'atemp', 'hum', 'windspeed']"
      ]
     },
     "execution_count": 77,
     "metadata": {},
     "output_type": "execute_result"
    }
   ],
   "source": [
    "num_cols = ['temp', 'atemp', 'hum', 'windspeed']\n",
    "num_cols"
   ]
  },
  {
   "cell_type": "code",
   "execution_count": 78,
   "id": "ad632f25",
   "metadata": {
    "execution": {
     "iopub.execute_input": "2024-11-10T02:59:22.581161Z",
     "iopub.status.busy": "2024-11-10T02:59:22.580477Z",
     "iopub.status.idle": "2024-11-10T02:59:22.589612Z",
     "shell.execute_reply": "2024-11-10T02:59:22.588353Z"
    },
    "papermill": {
     "duration": 0.074774,
     "end_time": "2024-11-10T02:59:22.592859",
     "exception": false,
     "start_time": "2024-11-10T02:59:22.518085",
     "status": "completed"
    },
    "tags": []
   },
   "outputs": [],
   "source": [
    "df_train, df_test = train_test_split(df_copy_1, test_size = 0.3, random_state = 8)"
   ]
  },
  {
   "cell_type": "code",
   "execution_count": 79,
   "id": "0adeaa0f",
   "metadata": {
    "execution": {
     "iopub.execute_input": "2024-11-10T02:59:22.713739Z",
     "iopub.status.busy": "2024-11-10T02:59:22.713283Z",
     "iopub.status.idle": "2024-11-10T02:59:22.729024Z",
     "shell.execute_reply": "2024-11-10T02:59:22.727653Z"
    },
    "papermill": {
     "duration": 0.078414,
     "end_time": "2024-11-10T02:59:22.731508",
     "exception": false,
     "start_time": "2024-11-10T02:59:22.653094",
     "status": "completed"
    },
    "tags": []
   },
   "outputs": [],
   "source": [
    "scaler = MinMaxScaler()\n",
    "df_train[num_cols] = scaler.fit_transform(df_train[num_cols])\n",
    "df_test[num_cols] = scaler.transform(df_test[num_cols])"
   ]
  },
  {
   "cell_type": "code",
   "execution_count": 80,
   "id": "b8528b40",
   "metadata": {
    "execution": {
     "iopub.execute_input": "2024-11-10T02:59:22.850401Z",
     "iopub.status.busy": "2024-11-10T02:59:22.849976Z",
     "iopub.status.idle": "2024-11-10T02:59:22.859298Z",
     "shell.execute_reply": "2024-11-10T02:59:22.858069Z"
    },
    "papermill": {
     "duration": 0.072698,
     "end_time": "2024-11-10T02:59:22.862417",
     "exception": false,
     "start_time": "2024-11-10T02:59:22.789719",
     "status": "completed"
    },
    "tags": []
   },
   "outputs": [],
   "source": [
    "X_train = df_train.drop(['cnt'], axis = 1)\n",
    "y_train = df_train['cnt']\n",
    "\n",
    "X_test = df_test.drop(['cnt'], axis = 1)\n",
    "y_test = df_test['cnt']"
   ]
  },
  {
   "cell_type": "code",
   "execution_count": 81,
   "id": "e02db037",
   "metadata": {
    "execution": {
     "iopub.execute_input": "2024-11-10T02:59:22.983637Z",
     "iopub.status.busy": "2024-11-10T02:59:22.982235Z",
     "iopub.status.idle": "2024-11-10T02:59:23.087020Z",
     "shell.execute_reply": "2024-11-10T02:59:23.085827Z"
    },
    "papermill": {
     "duration": 0.167955,
     "end_time": "2024-11-10T02:59:23.090391",
     "exception": false,
     "start_time": "2024-11-10T02:59:22.922436",
     "status": "completed"
    },
    "tags": []
   },
   "outputs": [
    {
     "data": {
      "text/html": [
       "<style>#sk-container-id-1 {color: black;background-color: white;}#sk-container-id-1 pre{padding: 0;}#sk-container-id-1 div.sk-toggleable {background-color: white;}#sk-container-id-1 label.sk-toggleable__label {cursor: pointer;display: block;width: 100%;margin-bottom: 0;padding: 0.3em;box-sizing: border-box;text-align: center;}#sk-container-id-1 label.sk-toggleable__label-arrow:before {content: \"▸\";float: left;margin-right: 0.25em;color: #696969;}#sk-container-id-1 label.sk-toggleable__label-arrow:hover:before {color: black;}#sk-container-id-1 div.sk-estimator:hover label.sk-toggleable__label-arrow:before {color: black;}#sk-container-id-1 div.sk-toggleable__content {max-height: 0;max-width: 0;overflow: hidden;text-align: left;background-color: #f0f8ff;}#sk-container-id-1 div.sk-toggleable__content pre {margin: 0.2em;color: black;border-radius: 0.25em;background-color: #f0f8ff;}#sk-container-id-1 input.sk-toggleable__control:checked~div.sk-toggleable__content {max-height: 200px;max-width: 100%;overflow: auto;}#sk-container-id-1 input.sk-toggleable__control:checked~label.sk-toggleable__label-arrow:before {content: \"▾\";}#sk-container-id-1 div.sk-estimator input.sk-toggleable__control:checked~label.sk-toggleable__label {background-color: #d4ebff;}#sk-container-id-1 div.sk-label input.sk-toggleable__control:checked~label.sk-toggleable__label {background-color: #d4ebff;}#sk-container-id-1 input.sk-hidden--visually {border: 0;clip: rect(1px 1px 1px 1px);clip: rect(1px, 1px, 1px, 1px);height: 1px;margin: -1px;overflow: hidden;padding: 0;position: absolute;width: 1px;}#sk-container-id-1 div.sk-estimator {font-family: monospace;background-color: #f0f8ff;border: 1px dotted black;border-radius: 0.25em;box-sizing: border-box;margin-bottom: 0.5em;}#sk-container-id-1 div.sk-estimator:hover {background-color: #d4ebff;}#sk-container-id-1 div.sk-parallel-item::after {content: \"\";width: 100%;border-bottom: 1px solid gray;flex-grow: 1;}#sk-container-id-1 div.sk-label:hover label.sk-toggleable__label {background-color: #d4ebff;}#sk-container-id-1 div.sk-serial::before {content: \"\";position: absolute;border-left: 1px solid gray;box-sizing: border-box;top: 0;bottom: 0;left: 50%;z-index: 0;}#sk-container-id-1 div.sk-serial {display: flex;flex-direction: column;align-items: center;background-color: white;padding-right: 0.2em;padding-left: 0.2em;position: relative;}#sk-container-id-1 div.sk-item {position: relative;z-index: 1;}#sk-container-id-1 div.sk-parallel {display: flex;align-items: stretch;justify-content: center;background-color: white;position: relative;}#sk-container-id-1 div.sk-item::before, #sk-container-id-1 div.sk-parallel-item::before {content: \"\";position: absolute;border-left: 1px solid gray;box-sizing: border-box;top: 0;bottom: 0;left: 50%;z-index: -1;}#sk-container-id-1 div.sk-parallel-item {display: flex;flex-direction: column;z-index: 1;position: relative;background-color: white;}#sk-container-id-1 div.sk-parallel-item:first-child::after {align-self: flex-end;width: 50%;}#sk-container-id-1 div.sk-parallel-item:last-child::after {align-self: flex-start;width: 50%;}#sk-container-id-1 div.sk-parallel-item:only-child::after {width: 0;}#sk-container-id-1 div.sk-dashed-wrapped {border: 1px dashed gray;margin: 0 0.4em 0.5em 0.4em;box-sizing: border-box;padding-bottom: 0.4em;background-color: white;}#sk-container-id-1 div.sk-label label {font-family: monospace;font-weight: bold;display: inline-block;line-height: 1.2em;}#sk-container-id-1 div.sk-label-container {text-align: center;}#sk-container-id-1 div.sk-container {/* jupyter's `normalize.less` sets `[hidden] { display: none; }` but bootstrap.min.css set `[hidden] { display: none !important; }` so we also need the `!important` here to be able to override the default hidden behavior on the sphinx rendered scikit-learn.org. See: https://github.com/scikit-learn/scikit-learn/issues/21755 */display: inline-block !important;position: relative;}#sk-container-id-1 div.sk-text-repr-fallback {display: none;}</style><div id=\"sk-container-id-1\" class=\"sk-top-container\"><div class=\"sk-text-repr-fallback\"><pre>RFE(estimator=LinearRegression(), n_features_to_select=10)</pre><b>In a Jupyter environment, please rerun this cell to show the HTML representation or trust the notebook. <br />On GitHub, the HTML representation is unable to render, please try loading this page with nbviewer.org.</b></div><div class=\"sk-container\" hidden><div class=\"sk-item sk-dashed-wrapped\"><div class=\"sk-label-container\"><div class=\"sk-label sk-toggleable\"><input class=\"sk-toggleable__control sk-hidden--visually\" id=\"sk-estimator-id-1\" type=\"checkbox\" ><label for=\"sk-estimator-id-1\" class=\"sk-toggleable__label sk-toggleable__label-arrow\">RFE</label><div class=\"sk-toggleable__content\"><pre>RFE(estimator=LinearRegression(), n_features_to_select=10)</pre></div></div></div><div class=\"sk-parallel\"><div class=\"sk-parallel-item\"><div class=\"sk-item\"><div class=\"sk-label-container\"><div class=\"sk-label sk-toggleable\"><input class=\"sk-toggleable__control sk-hidden--visually\" id=\"sk-estimator-id-2\" type=\"checkbox\" ><label for=\"sk-estimator-id-2\" class=\"sk-toggleable__label sk-toggleable__label-arrow\">estimator: LinearRegression</label><div class=\"sk-toggleable__content\"><pre>LinearRegression()</pre></div></div></div><div class=\"sk-serial\"><div class=\"sk-item\"><div class=\"sk-estimator sk-toggleable\"><input class=\"sk-toggleable__control sk-hidden--visually\" id=\"sk-estimator-id-3\" type=\"checkbox\" ><label for=\"sk-estimator-id-3\" class=\"sk-toggleable__label sk-toggleable__label-arrow\">LinearRegression</label><div class=\"sk-toggleable__content\"><pre>LinearRegression()</pre></div></div></div></div></div></div></div></div></div></div>"
      ],
      "text/plain": [
       "RFE(estimator=LinearRegression(), n_features_to_select=10)"
      ]
     },
     "execution_count": 81,
     "metadata": {},
     "output_type": "execute_result"
    }
   ],
   "source": [
    "model = LinearRegression()\n",
    "rfe = RFE(estimator=model, n_features_to_select=10)\n",
    "rfe.fit(X_train, y_train)"
   ]
  },
  {
   "cell_type": "code",
   "execution_count": 82,
   "id": "3d079b46",
   "metadata": {
    "execution": {
     "iopub.execute_input": "2024-11-10T02:59:23.239530Z",
     "iopub.status.busy": "2024-11-10T02:59:23.239019Z",
     "iopub.status.idle": "2024-11-10T02:59:23.251367Z",
     "shell.execute_reply": "2024-11-10T02:59:23.250061Z"
    },
    "papermill": {
     "duration": 0.079899,
     "end_time": "2024-11-10T02:59:23.254248",
     "exception": false,
     "start_time": "2024-11-10T02:59:23.174349",
     "status": "completed"
    },
    "tags": []
   },
   "outputs": [
    {
     "data": {
      "text/plain": [
       "[('temp', True, 1),\n",
       " ('atemp', False, 8),\n",
       " ('hum', True, 1),\n",
       " ('windspeed', True, 1),\n",
       " ('season_2', True, 1),\n",
       " ('season_3', False, 2),\n",
       " ('season_4', True, 1),\n",
       " ('yr_1', True, 1),\n",
       " ('mnth_10', True, 1),\n",
       " ('mnth_11', False, 15),\n",
       " ('mnth_12', False, 16),\n",
       " ('mnth_2', False, 12),\n",
       " ('mnth_3', False, 5),\n",
       " ('mnth_4', False, 4),\n",
       " ('mnth_5', False, 3),\n",
       " ('mnth_6', False, 7),\n",
       " ('mnth_7', False, 14),\n",
       " ('mnth_8', False, 9),\n",
       " ('mnth_9', True, 1),\n",
       " ('holiday_1', True, 1),\n",
       " ('weekday_1', False, 17),\n",
       " ('weekday_2', False, 18),\n",
       " ('weekday_3', False, 20),\n",
       " ('weekday_4', False, 19),\n",
       " ('weekday_5', False, 13),\n",
       " ('weekday_6', False, 10),\n",
       " ('workingday_1', False, 11),\n",
       " ('weathersit_2', False, 6),\n",
       " ('weathersit_3', True, 1)]"
      ]
     },
     "execution_count": 82,
     "metadata": {},
     "output_type": "execute_result"
    }
   ],
   "source": [
    "list(zip(X_train.columns,rfe.support_,rfe.ranking_))\n",
    "# temp, hum, windspeed, yr, weathersit - 1"
   ]
  },
  {
   "cell_type": "code",
   "execution_count": 83,
   "id": "d278c20c",
   "metadata": {
    "execution": {
     "iopub.execute_input": "2024-11-10T02:59:23.385175Z",
     "iopub.status.busy": "2024-11-10T02:59:23.384679Z",
     "iopub.status.idle": "2024-11-10T02:59:23.393419Z",
     "shell.execute_reply": "2024-11-10T02:59:23.392080Z"
    },
    "papermill": {
     "duration": 0.077422,
     "end_time": "2024-11-10T02:59:23.396280",
     "exception": false,
     "start_time": "2024-11-10T02:59:23.318858",
     "status": "completed"
    },
    "tags": []
   },
   "outputs": [
    {
     "data": {
      "text/plain": [
       "Index(['temp', 'hum', 'windspeed', 'season_2', 'season_4', 'yr_1', 'mnth_10',\n",
       "       'mnth_9', 'holiday_1', 'weathersit_3'],\n",
       "      dtype='object')"
      ]
     },
     "execution_count": 83,
     "metadata": {},
     "output_type": "execute_result"
    }
   ],
   "source": [
    "selected_features = X_train.columns[rfe.support_]\n",
    "selected_features"
   ]
  },
  {
   "cell_type": "markdown",
   "id": "30ead515",
   "metadata": {
    "papermill": {
     "duration": 0.058978,
     "end_time": "2024-11-10T02:59:23.514718",
     "exception": false,
     "start_time": "2024-11-10T02:59:23.455740",
     "status": "completed"
    },
    "tags": []
   },
   "source": [
    "Now, using these features we will build stats model for detailed statistics"
   ]
  },
  {
   "cell_type": "code",
   "execution_count": 84,
   "id": "4bca9f5f",
   "metadata": {
    "execution": {
     "iopub.execute_input": "2024-11-10T02:59:23.638094Z",
     "iopub.status.busy": "2024-11-10T02:59:23.637597Z",
     "iopub.status.idle": "2024-11-10T02:59:23.657288Z",
     "shell.execute_reply": "2024-11-10T02:59:23.655886Z"
    },
    "papermill": {
     "duration": 0.085025,
     "end_time": "2024-11-10T02:59:23.660051",
     "exception": false,
     "start_time": "2024-11-10T02:59:23.575026",
     "status": "completed"
    },
    "tags": []
   },
   "outputs": [
    {
     "data": {
      "text/html": [
       "<div>\n",
       "<style scoped>\n",
       "    .dataframe tbody tr th:only-of-type {\n",
       "        vertical-align: middle;\n",
       "    }\n",
       "\n",
       "    .dataframe tbody tr th {\n",
       "        vertical-align: top;\n",
       "    }\n",
       "\n",
       "    .dataframe thead th {\n",
       "        text-align: right;\n",
       "    }\n",
       "</style>\n",
       "<table border=\"1\" class=\"dataframe\">\n",
       "  <thead>\n",
       "    <tr style=\"text-align: right;\">\n",
       "      <th></th>\n",
       "      <th>temp</th>\n",
       "      <th>hum</th>\n",
       "      <th>windspeed</th>\n",
       "      <th>season_2</th>\n",
       "      <th>season_4</th>\n",
       "      <th>yr_1</th>\n",
       "      <th>mnth_10</th>\n",
       "      <th>mnth_9</th>\n",
       "      <th>holiday_1</th>\n",
       "      <th>weathersit_3</th>\n",
       "    </tr>\n",
       "  </thead>\n",
       "  <tbody>\n",
       "    <tr>\n",
       "      <th>597</th>\n",
       "      <td>0.746847</td>\n",
       "      <td>0.694289</td>\n",
       "      <td>0.103859</td>\n",
       "      <td>0</td>\n",
       "      <td>0</td>\n",
       "      <td>1</td>\n",
       "      <td>0</td>\n",
       "      <td>0</td>\n",
       "      <td>0</td>\n",
       "      <td>0</td>\n",
       "    </tr>\n",
       "    <tr>\n",
       "      <th>84</th>\n",
       "      <td>0.261637</td>\n",
       "      <td>0.406183</td>\n",
       "      <td>0.385880</td>\n",
       "      <td>1</td>\n",
       "      <td>0</td>\n",
       "      <td>0</td>\n",
       "      <td>0</td>\n",
       "      <td>0</td>\n",
       "      <td>0</td>\n",
       "      <td>0</td>\n",
       "    </tr>\n",
       "    <tr>\n",
       "      <th>120</th>\n",
       "      <td>0.496859</td>\n",
       "      <td>0.785315</td>\n",
       "      <td>0.173093</td>\n",
       "      <td>1</td>\n",
       "      <td>0</td>\n",
       "      <td>0</td>\n",
       "      <td>0</td>\n",
       "      <td>0</td>\n",
       "      <td>0</td>\n",
       "      <td>0</td>\n",
       "    </tr>\n",
       "    <tr>\n",
       "      <th>246</th>\n",
       "      <td>0.822793</td>\n",
       "      <td>0.764705</td>\n",
       "      <td>0.379481</td>\n",
       "      <td>0</td>\n",
       "      <td>0</td>\n",
       "      <td>0</td>\n",
       "      <td>0</td>\n",
       "      <td>1</td>\n",
       "      <td>0</td>\n",
       "      <td>0</td>\n",
       "    </tr>\n",
       "    <tr>\n",
       "      <th>592</th>\n",
       "      <td>0.835451</td>\n",
       "      <td>0.534994</td>\n",
       "      <td>0.246158</td>\n",
       "      <td>0</td>\n",
       "      <td>0</td>\n",
       "      <td>1</td>\n",
       "      <td>0</td>\n",
       "      <td>0</td>\n",
       "      <td>0</td>\n",
       "      <td>0</td>\n",
       "    </tr>\n",
       "  </tbody>\n",
       "</table>\n",
       "</div>"
      ],
      "text/plain": [
       "         temp       hum  windspeed  season_2  season_4  yr_1  mnth_10  mnth_9  \\\n",
       "597  0.746847  0.694289   0.103859         0         0     1        0       0   \n",
       "84   0.261637  0.406183   0.385880         1         0     0        0       0   \n",
       "120  0.496859  0.785315   0.173093         1         0     0        0       0   \n",
       "246  0.822793  0.764705   0.379481         0         0     0        0       1   \n",
       "592  0.835451  0.534994   0.246158         0         0     1        0       0   \n",
       "\n",
       "     holiday_1  weathersit_3  \n",
       "597          0             0  \n",
       "84           0             0  \n",
       "120          0             0  \n",
       "246          0             0  \n",
       "592          0             0  "
      ]
     },
     "execution_count": 84,
     "metadata": {},
     "output_type": "execute_result"
    }
   ],
   "source": [
    "X_train_rfe = X_train[['temp', 'hum', 'windspeed', 'season_2', 'season_4', 'yr_1', 'mnth_10',\n",
    "       'mnth_9', 'holiday_1', 'weathersit_3']]\n",
    "X_train_rfe.head()"
   ]
  },
  {
   "cell_type": "code",
   "execution_count": 85,
   "id": "e2fe5f0e",
   "metadata": {
    "execution": {
     "iopub.execute_input": "2024-11-10T02:59:23.781930Z",
     "iopub.status.busy": "2024-11-10T02:59:23.781313Z",
     "iopub.status.idle": "2024-11-10T02:59:23.792750Z",
     "shell.execute_reply": "2024-11-10T02:59:23.791499Z"
    },
    "papermill": {
     "duration": 0.075276,
     "end_time": "2024-11-10T02:59:23.795721",
     "exception": false,
     "start_time": "2024-11-10T02:59:23.720445",
     "status": "completed"
    },
    "tags": []
   },
   "outputs": [],
   "source": [
    "X_train_rfe = sm.add_constant(X_train_rfe)"
   ]
  },
  {
   "cell_type": "code",
   "execution_count": 86,
   "id": "646a76e4",
   "metadata": {
    "execution": {
     "iopub.execute_input": "2024-11-10T02:59:23.919649Z",
     "iopub.status.busy": "2024-11-10T02:59:23.919142Z",
     "iopub.status.idle": "2024-11-10T02:59:23.926984Z",
     "shell.execute_reply": "2024-11-10T02:59:23.925908Z"
    },
    "papermill": {
     "duration": 0.073427,
     "end_time": "2024-11-10T02:59:23.929735",
     "exception": false,
     "start_time": "2024-11-10T02:59:23.856308",
     "status": "completed"
    },
    "tags": []
   },
   "outputs": [],
   "source": [
    "lm = sm.OLS(y_train,X_train_rfe).fit()"
   ]
  },
  {
   "cell_type": "code",
   "execution_count": 87,
   "id": "6812c721",
   "metadata": {
    "execution": {
     "iopub.execute_input": "2024-11-10T02:59:24.055539Z",
     "iopub.status.busy": "2024-11-10T02:59:24.055055Z",
     "iopub.status.idle": "2024-11-10T02:59:24.079461Z",
     "shell.execute_reply": "2024-11-10T02:59:24.077862Z"
    },
    "papermill": {
     "duration": 0.091085,
     "end_time": "2024-11-10T02:59:24.082738",
     "exception": false,
     "start_time": "2024-11-10T02:59:23.991653",
     "status": "completed"
    },
    "tags": []
   },
   "outputs": [
    {
     "name": "stdout",
     "output_type": "stream",
     "text": [
      "                            OLS Regression Results                            \n",
      "==============================================================================\n",
      "Dep. Variable:                    cnt   R-squared:                       0.829\n",
      "Model:                            OLS   Adj. R-squared:                  0.825\n",
      "Method:                 Least Squares   F-statistic:                     242.2\n",
      "Date:                Sun, 10 Nov 2024   Prob (F-statistic):          1.62e-184\n",
      "Time:                        02:59:24   Log-Likelihood:                -4134.1\n",
      "No. Observations:                 511   AIC:                             8290.\n",
      "Df Residuals:                     500   BIC:                             8337.\n",
      "Df Model:                          10                                         \n",
      "Covariance Type:            nonrobust                                         \n",
      "================================================================================\n",
      "                   coef    std err          t      P>|t|      [0.025      0.975]\n",
      "--------------------------------------------------------------------------------\n",
      "const         2336.7161    233.152     10.022      0.000    1878.638    2794.794\n",
      "temp          5084.7214    169.522     29.994      0.000    4751.658    5417.785\n",
      "hum          -2332.9650    273.671     -8.525      0.000   -2870.652   -1795.278\n",
      "windspeed    -1729.2325    231.099     -7.483      0.000   -2183.277   -1275.188\n",
      "season_2       700.2338     88.484      7.914      0.000     526.389     874.079\n",
      "season_4      1048.9895    106.810      9.821      0.000     839.138    1258.841\n",
      "yr_1          1997.3572     71.722     27.849      0.000    1856.443    2138.271\n",
      "mnth_10        480.8803    153.249      3.138      0.002     179.789     781.972\n",
      "mnth_9         880.4503    144.776      6.081      0.000     596.005    1164.895\n",
      "holiday_1     -823.4232    217.505     -3.786      0.000   -1250.760    -396.086\n",
      "weathersit_3 -1620.8047    222.572     -7.282      0.000   -2058.097   -1183.512\n",
      "==============================================================================\n",
      "Omnibus:                       73.915   Durbin-Watson:                   2.140\n",
      "Prob(Omnibus):                  0.000   Jarque-Bera (JB):              140.142\n",
      "Skew:                          -0.837   Prob(JB):                     3.70e-31\n",
      "Kurtosis:                       4.944   Cond. No.                         16.0\n",
      "==============================================================================\n",
      "\n",
      "Notes:\n",
      "[1] Standard Errors assume that the covariance matrix of the errors is correctly specified.\n"
     ]
    }
   ],
   "source": [
    "print(lm.summary())"
   ]
  },
  {
   "cell_type": "code",
   "execution_count": 88,
   "id": "9204ba9e",
   "metadata": {
    "execution": {
     "iopub.execute_input": "2024-11-10T02:59:24.205914Z",
     "iopub.status.busy": "2024-11-10T02:59:24.205245Z",
     "iopub.status.idle": "2024-11-10T02:59:24.236386Z",
     "shell.execute_reply": "2024-11-10T02:59:24.234887Z"
    },
    "papermill": {
     "duration": 0.095888,
     "end_time": "2024-11-10T02:59:24.239596",
     "exception": false,
     "start_time": "2024-11-10T02:59:24.143708",
     "status": "completed"
    },
    "tags": []
   },
   "outputs": [
    {
     "data": {
      "text/html": [
       "<div>\n",
       "<style scoped>\n",
       "    .dataframe tbody tr th:only-of-type {\n",
       "        vertical-align: middle;\n",
       "    }\n",
       "\n",
       "    .dataframe tbody tr th {\n",
       "        vertical-align: top;\n",
       "    }\n",
       "\n",
       "    .dataframe thead th {\n",
       "        text-align: right;\n",
       "    }\n",
       "</style>\n",
       "<table border=\"1\" class=\"dataframe\">\n",
       "  <thead>\n",
       "    <tr style=\"text-align: right;\">\n",
       "      <th></th>\n",
       "      <th>Features</th>\n",
       "      <th>VIF</th>\n",
       "    </tr>\n",
       "  </thead>\n",
       "  <tbody>\n",
       "    <tr>\n",
       "      <th>0</th>\n",
       "      <td>const</td>\n",
       "      <td>43.62</td>\n",
       "    </tr>\n",
       "    <tr>\n",
       "      <th>5</th>\n",
       "      <td>season_4</td>\n",
       "      <td>1.69</td>\n",
       "    </tr>\n",
       "    <tr>\n",
       "      <th>7</th>\n",
       "      <td>mnth_10</td>\n",
       "      <td>1.48</td>\n",
       "    </tr>\n",
       "    <tr>\n",
       "      <th>2</th>\n",
       "      <td>hum</td>\n",
       "      <td>1.31</td>\n",
       "    </tr>\n",
       "    <tr>\n",
       "      <th>1</th>\n",
       "      <td>temp</td>\n",
       "      <td>1.20</td>\n",
       "    </tr>\n",
       "    <tr>\n",
       "      <th>4</th>\n",
       "      <td>season_2</td>\n",
       "      <td>1.20</td>\n",
       "    </tr>\n",
       "    <tr>\n",
       "      <th>3</th>\n",
       "      <td>windspeed</td>\n",
       "      <td>1.18</td>\n",
       "    </tr>\n",
       "    <tr>\n",
       "      <th>8</th>\n",
       "      <td>mnth_9</td>\n",
       "      <td>1.16</td>\n",
       "    </tr>\n",
       "    <tr>\n",
       "      <th>10</th>\n",
       "      <td>weathersit_3</td>\n",
       "      <td>1.13</td>\n",
       "    </tr>\n",
       "    <tr>\n",
       "      <th>6</th>\n",
       "      <td>yr_1</td>\n",
       "      <td>1.03</td>\n",
       "    </tr>\n",
       "    <tr>\n",
       "      <th>9</th>\n",
       "      <td>holiday_1</td>\n",
       "      <td>1.01</td>\n",
       "    </tr>\n",
       "  </tbody>\n",
       "</table>\n",
       "</div>"
      ],
      "text/plain": [
       "        Features    VIF\n",
       "0          const  43.62\n",
       "5       season_4   1.69\n",
       "7        mnth_10   1.48\n",
       "2            hum   1.31\n",
       "1           temp   1.20\n",
       "4       season_2   1.20\n",
       "3      windspeed   1.18\n",
       "8         mnth_9   1.16\n",
       "10  weathersit_3   1.13\n",
       "6           yr_1   1.03\n",
       "9      holiday_1   1.01"
      ]
     },
     "execution_count": 88,
     "metadata": {},
     "output_type": "execute_result"
    }
   ],
   "source": [
    "vif = pd.DataFrame()\n",
    "vif['Features'] = X_train_rfe.columns\n",
    "vif['VIF'] = [variance_inflation_factor(X_train_rfe.values, i) for i in range(X_train_rfe.shape[1])]\n",
    "vif['VIF'] = round(vif['VIF'], 2)\n",
    "vif = vif.sort_values(by = 'VIF', ascending = False)\n",
    "vif"
   ]
  },
  {
   "cell_type": "markdown",
   "id": "4a9ca1fe",
   "metadata": {
    "papermill": {
     "duration": 0.061872,
     "end_time": "2024-11-10T02:59:24.365890",
     "exception": false,
     "start_time": "2024-11-10T02:59:24.304018",
     "status": "completed"
    },
    "tags": []
   },
   "source": [
    "# Final Model - With Selected Features"
   ]
  },
  {
   "cell_type": "code",
   "execution_count": 89,
   "id": "c8af571d",
   "metadata": {
    "execution": {
     "iopub.execute_input": "2024-11-10T02:59:24.493126Z",
     "iopub.status.busy": "2024-11-10T02:59:24.492507Z",
     "iopub.status.idle": "2024-11-10T02:59:24.502256Z",
     "shell.execute_reply": "2024-11-10T02:59:24.500966Z"
    },
    "papermill": {
     "duration": 0.077668,
     "end_time": "2024-11-10T02:59:24.504987",
     "exception": false,
     "start_time": "2024-11-10T02:59:24.427319",
     "status": "completed"
    },
    "tags": []
   },
   "outputs": [
    {
     "data": {
      "text/plain": [
       "['temp',\n",
       " 'hum',\n",
       " 'windspeed',\n",
       " 'season_2',\n",
       " 'season_4',\n",
       " 'yr_1',\n",
       " 'mnth_10',\n",
       " 'mnth_9',\n",
       " 'holiday_1',\n",
       " 'weathersit_3']"
      ]
     },
     "execution_count": 89,
     "metadata": {},
     "output_type": "execute_result"
    }
   ],
   "source": [
    "selected_features = ['temp', 'hum', 'windspeed', 'season_2', 'season_4', 'yr_1', 'mnth_10','mnth_9', 'holiday_1', 'weathersit_3']\n",
    "selected_features"
   ]
  },
  {
   "cell_type": "code",
   "execution_count": 90,
   "id": "3113f3f8",
   "metadata": {
    "execution": {
     "iopub.execute_input": "2024-11-10T02:59:24.633123Z",
     "iopub.status.busy": "2024-11-10T02:59:24.632008Z",
     "iopub.status.idle": "2024-11-10T02:59:24.641011Z",
     "shell.execute_reply": "2024-11-10T02:59:24.639768Z"
    },
    "papermill": {
     "duration": 0.075821,
     "end_time": "2024-11-10T02:59:24.643671",
     "exception": false,
     "start_time": "2024-11-10T02:59:24.567850",
     "status": "completed"
    },
    "tags": []
   },
   "outputs": [],
   "source": [
    "# selected features\n",
    "X_train_final = X_train[['temp', 'hum', 'windspeed', 'season_2', 'season_4', 'yr_1', 'mnth_10','mnth_9', 'holiday_1', 'weathersit_3']]\n",
    "X_test_final = X_test[['temp', 'hum', 'windspeed', 'season_2', 'season_4', 'yr_1', 'mnth_10','mnth_9', 'holiday_1', 'weathersit_3']]"
   ]
  },
  {
   "cell_type": "code",
   "execution_count": 91,
   "id": "c63015a4",
   "metadata": {
    "execution": {
     "iopub.execute_input": "2024-11-10T02:59:24.768583Z",
     "iopub.status.busy": "2024-11-10T02:59:24.768118Z",
     "iopub.status.idle": "2024-11-10T02:59:24.781167Z",
     "shell.execute_reply": "2024-11-10T02:59:24.779960Z"
    },
    "papermill": {
     "duration": 0.078911,
     "end_time": "2024-11-10T02:59:24.783994",
     "exception": false,
     "start_time": "2024-11-10T02:59:24.705083",
     "status": "completed"
    },
    "tags": []
   },
   "outputs": [],
   "source": [
    "lr_model = LinearRegression()\n",
    "lr_model.fit(X_train_final, y_train)\n",
    "y_pred = lr_model.predict(X_test_final)"
   ]
  },
  {
   "cell_type": "markdown",
   "id": "03c98cf0",
   "metadata": {
    "papermill": {
     "duration": 0.061133,
     "end_time": "2024-11-10T02:59:24.906502",
     "exception": false,
     "start_time": "2024-11-10T02:59:24.845369",
     "status": "completed"
    },
    "tags": []
   },
   "source": [
    "# Model Evaluation - Results"
   ]
  },
  {
   "cell_type": "code",
   "execution_count": 92,
   "id": "092d7189",
   "metadata": {
    "execution": {
     "iopub.execute_input": "2024-11-10T02:59:25.031359Z",
     "iopub.status.busy": "2024-11-10T02:59:25.030823Z",
     "iopub.status.idle": "2024-11-10T02:59:25.039998Z",
     "shell.execute_reply": "2024-11-10T02:59:25.038508Z"
    },
    "papermill": {
     "duration": 0.075899,
     "end_time": "2024-11-10T02:59:25.043212",
     "exception": false,
     "start_time": "2024-11-10T02:59:24.967313",
     "status": "completed"
    },
    "tags": []
   },
   "outputs": [
    {
     "name": "stdout",
     "output_type": "stream",
     "text": [
      "R2 score:  0.816208386889961\n",
      "RSS:  855.056727804158\n"
     ]
    }
   ],
   "source": [
    "print('R2 score: ', r2_score(y_test, y_pred))\n",
    "print('RSS: ', np.sqrt(mean_squared_error(y_test, y_pred)))"
   ]
  },
  {
   "cell_type": "markdown",
   "id": "26247671",
   "metadata": {
    "papermill": {
     "duration": 0.060905,
     "end_time": "2024-11-10T02:59:25.166421",
     "exception": false,
     "start_time": "2024-11-10T02:59:25.105516",
     "status": "completed"
    },
    "tags": []
   },
   "source": [
    "# Model Evaluation - Predictions"
   ]
  },
  {
   "cell_type": "code",
   "execution_count": 93,
   "id": "42c54b05",
   "metadata": {
    "execution": {
     "iopub.execute_input": "2024-11-10T02:59:25.292415Z",
     "iopub.status.busy": "2024-11-10T02:59:25.291975Z",
     "iopub.status.idle": "2024-11-10T02:59:25.300582Z",
     "shell.execute_reply": "2024-11-10T02:59:25.299236Z"
    },
    "papermill": {
     "duration": 0.074693,
     "end_time": "2024-11-10T02:59:25.303462",
     "exception": false,
     "start_time": "2024-11-10T02:59:25.228769",
     "status": "completed"
    },
    "tags": []
   },
   "outputs": [],
   "source": [
    "y_train_pred = lr_model.predict(X_train_final)"
   ]
  },
  {
   "cell_type": "code",
   "execution_count": 94,
   "id": "8e4827cc",
   "metadata": {
    "execution": {
     "iopub.execute_input": "2024-11-10T02:59:25.426271Z",
     "iopub.status.busy": "2024-11-10T02:59:25.425754Z",
     "iopub.status.idle": "2024-11-10T02:59:25.434085Z",
     "shell.execute_reply": "2024-11-10T02:59:25.432693Z"
    },
    "papermill": {
     "duration": 0.072744,
     "end_time": "2024-11-10T02:59:25.436710",
     "exception": false,
     "start_time": "2024-11-10T02:59:25.363966",
     "status": "completed"
    },
    "tags": []
   },
   "outputs": [],
   "source": [
    "y_test_pred = lr_model.predict(X_test_final)"
   ]
  },
  {
   "cell_type": "code",
   "execution_count": 95,
   "id": "326f379b",
   "metadata": {
    "execution": {
     "iopub.execute_input": "2024-11-10T02:59:25.560985Z",
     "iopub.status.busy": "2024-11-10T02:59:25.559835Z",
     "iopub.status.idle": "2024-11-10T02:59:25.575000Z",
     "shell.execute_reply": "2024-11-10T02:59:25.573749Z"
    },
    "papermill": {
     "duration": 0.079878,
     "end_time": "2024-11-10T02:59:25.577487",
     "exception": false,
     "start_time": "2024-11-10T02:59:25.497609",
     "status": "completed"
    },
    "tags": []
   },
   "outputs": [
    {
     "data": {
      "text/html": [
       "<div>\n",
       "<style scoped>\n",
       "    .dataframe tbody tr th:only-of-type {\n",
       "        vertical-align: middle;\n",
       "    }\n",
       "\n",
       "    .dataframe tbody tr th {\n",
       "        vertical-align: top;\n",
       "    }\n",
       "\n",
       "    .dataframe thead th {\n",
       "        text-align: right;\n",
       "    }\n",
       "</style>\n",
       "<table border=\"1\" class=\"dataframe\">\n",
       "  <thead>\n",
       "    <tr style=\"text-align: right;\">\n",
       "      <th></th>\n",
       "      <th>y_test</th>\n",
       "      <th>y_pred</th>\n",
       "    </tr>\n",
       "  </thead>\n",
       "  <tbody>\n",
       "    <tr>\n",
       "      <th>0</th>\n",
       "      <td>3425</td>\n",
       "      <td>4404.772099</td>\n",
       "    </tr>\n",
       "    <tr>\n",
       "      <th>1</th>\n",
       "      <td>7040</td>\n",
       "      <td>6549.762307</td>\n",
       "    </tr>\n",
       "    <tr>\n",
       "      <th>2</th>\n",
       "      <td>3292</td>\n",
       "      <td>3275.307503</td>\n",
       "    </tr>\n",
       "    <tr>\n",
       "      <th>3</th>\n",
       "      <td>3523</td>\n",
       "      <td>2983.692209</td>\n",
       "    </tr>\n",
       "    <tr>\n",
       "      <th>4</th>\n",
       "      <td>3744</td>\n",
       "      <td>3440.450505</td>\n",
       "    </tr>\n",
       "    <tr>\n",
       "      <th>...</th>\n",
       "      <td>...</td>\n",
       "      <td>...</td>\n",
       "    </tr>\n",
       "    <tr>\n",
       "      <th>214</th>\n",
       "      <td>7907</td>\n",
       "      <td>7449.719641</td>\n",
       "    </tr>\n",
       "    <tr>\n",
       "      <th>215</th>\n",
       "      <td>5698</td>\n",
       "      <td>5431.930582</td>\n",
       "    </tr>\n",
       "    <tr>\n",
       "      <th>216</th>\n",
       "      <td>822</td>\n",
       "      <td>592.201635</td>\n",
       "    </tr>\n",
       "    <tr>\n",
       "      <th>217</th>\n",
       "      <td>4460</td>\n",
       "      <td>4812.021013</td>\n",
       "    </tr>\n",
       "    <tr>\n",
       "      <th>218</th>\n",
       "      <td>3785</td>\n",
       "      <td>4286.388498</td>\n",
       "    </tr>\n",
       "  </tbody>\n",
       "</table>\n",
       "<p>219 rows × 2 columns</p>\n",
       "</div>"
      ],
      "text/plain": [
       "     y_test       y_pred\n",
       "0      3425  4404.772099\n",
       "1      7040  6549.762307\n",
       "2      3292  3275.307503\n",
       "3      3523  2983.692209\n",
       "4      3744  3440.450505\n",
       "..      ...          ...\n",
       "214    7907  7449.719641\n",
       "215    5698  5431.930582\n",
       "216     822   592.201635\n",
       "217    4460  4812.021013\n",
       "218    3785  4286.388498\n",
       "\n",
       "[219 rows x 2 columns]"
      ]
     },
     "execution_count": 95,
     "metadata": {},
     "output_type": "execute_result"
    }
   ],
   "source": [
    "pd.DataFrame({'y_test': np.array(y_test), 'y_pred' : y_test_pred})"
   ]
  },
  {
   "cell_type": "code",
   "execution_count": 96,
   "id": "9decc82c",
   "metadata": {
    "execution": {
     "iopub.execute_input": "2024-11-10T02:59:25.704035Z",
     "iopub.status.busy": "2024-11-10T02:59:25.703523Z",
     "iopub.status.idle": "2024-11-10T02:59:25.989644Z",
     "shell.execute_reply": "2024-11-10T02:59:25.988398Z"
    },
    "papermill": {
     "duration": 0.352012,
     "end_time": "2024-11-10T02:59:25.992424",
     "exception": false,
     "start_time": "2024-11-10T02:59:25.640412",
     "status": "completed"
    },
    "tags": []
   },
   "outputs": [
    {
     "data": {
      "image/png": "[encoded data removed]",
      "text/plain": [
       "<Figure size 640x480 with 1 Axes>"
      ]
     },
     "metadata": {},
     "output_type": "display_data"
    }
   ],
   "source": [
    "fig = plt.figure()\n",
    "plt.scatter(y_test,y_test_pred)\n",
    "fig.suptitle('y_test vs y_pred', fontsize=20)              \n",
    "plt.xlabel('y_test', fontsize=18)                          \n",
    "plt.ylabel('y_pred', fontsize=16)\n",
    "plt.show()"
   ]
  },
  {
   "cell_type": "markdown",
   "id": "47b8ab95",
   "metadata": {
    "papermill": {
     "duration": 0.061842,
     "end_time": "2024-11-10T02:59:26.117331",
     "exception": false,
     "start_time": "2024-11-10T02:59:26.055489",
     "status": "completed"
    },
    "tags": []
   },
   "source": [
    "# Model Evaluation - Residual Analysis"
   ]
  },
  {
   "cell_type": "code",
   "execution_count": 97,
   "id": "eba671f7",
   "metadata": {
    "execution": {
     "iopub.execute_input": "2024-11-10T02:59:26.243645Z",
     "iopub.status.busy": "2024-11-10T02:59:26.243118Z",
     "iopub.status.idle": "2024-11-10T02:59:26.249772Z",
     "shell.execute_reply": "2024-11-10T02:59:26.248319Z"
    },
    "papermill": {
     "duration": 0.073917,
     "end_time": "2024-11-10T02:59:26.252516",
     "exception": false,
     "start_time": "2024-11-10T02:59:26.178599",
     "status": "completed"
    },
    "tags": []
   },
   "outputs": [],
   "source": [
    "residuals = y_train - y_train_pred"
   ]
  },
  {
   "cell_type": "code",
   "execution_count": 98,
   "id": "15d78739",
   "metadata": {
    "execution": {
     "iopub.execute_input": "2024-11-10T02:59:26.379871Z",
     "iopub.status.busy": "2024-11-10T02:59:26.378621Z",
     "iopub.status.idle": "2024-11-10T02:59:26.897852Z",
     "shell.execute_reply": "2024-11-10T02:59:26.896338Z"
    },
    "papermill": {
     "duration": 0.585906,
     "end_time": "2024-11-10T02:59:26.900600",
     "exception": false,
     "start_time": "2024-11-10T02:59:26.314694",
     "status": "completed"
    },
    "tags": []
   },
   "outputs": [
    {
     "name": "stderr",
     "output_type": "stream",
     "text": [
      "/opt/conda/lib/python3.10/site-packages/seaborn/_oldcore.py:1119: FutureWarning: use_inf_as_na option is deprecated and will be removed in a future version. Convert inf values to NaN before operating instead.\n",
      "  with pd.option_context('mode.use_inf_as_na', True):\n"
     ]
    },
    {
     "data": {
      "text/plain": [
       "Text(0.5, 9.444444444444438, 'Errors')"
      ]
     },
     "execution_count": 98,
     "metadata": {},
     "output_type": "execute_result"
    },
    {
     "data": {
      "text/plain": [
       "<Figure size 640x480 with 0 Axes>"
      ]
     },
     "metadata": {},
     "output_type": "display_data"
    },
    {
     "data": {
      "image/png": "[encoded data removed]",
      "text/plain": [
       "<Figure size 500x500 with 1 Axes>"
      ]
     },
     "metadata": {},
     "output_type": "display_data"
    }
   ],
   "source": [
    "fig = plt.figure()\n",
    "sns.displot(residuals, bins = 20, kde = True)\n",
    "fig.suptitle('Error Terms', fontsize = 20)                  \n",
    "plt.xlabel('Errors', fontsize = 18)                         "
   ]
  },
  {
   "cell_type": "code",
   "execution_count": 99,
   "id": "83573565",
   "metadata": {
    "execution": {
     "iopub.execute_input": "2024-11-10T02:59:27.027955Z",
     "iopub.status.busy": "2024-11-10T02:59:27.027392Z",
     "iopub.status.idle": "2024-11-10T02:59:27.400636Z",
     "shell.execute_reply": "2024-11-10T02:59:27.399362Z"
    },
    "papermill": {
     "duration": 0.440122,
     "end_time": "2024-11-10T02:59:27.403651",
     "exception": false,
     "start_time": "2024-11-10T02:59:26.963529",
     "status": "completed"
    },
    "tags": []
   },
   "outputs": [
    {
     "data": {
      "image/png": "[encoded data removed]",
      "text/plain": [
       "<Figure size 1000x600 with 1 Axes>"
      ]
     },
     "metadata": {},
     "output_type": "display_data"
    }
   ],
   "source": [
    "plt.figure(figsize=(10, 6))\n",
    "plt.scatter(y_train_pred, residuals)\n",
    "plt.axhline(0, color='red', linestyle='--')\n",
    "plt.xlabel('Predicted Values')\n",
    "plt.ylabel('Residuals')\n",
    "plt.title('Residuals vs Predicted Values')\n",
    "plt.show()"
   ]
  }
 ],
 "metadata": {
  "kaggle": {
   "accelerator": "none",
   "dataSources": [
    {
     "datasetId": 5959801,
     "sourceId": 9737387,
     "sourceType": "datasetVersion"
    }
   ],
   "dockerImageVersionId": 30786,
   "isGpuEnabled": false,
   "isInternetEnabled": true,
   "language": "python",
   "sourceType": "notebook"
  },
  "kernelspec": {
   "display_name": "Python 3",
   "language": "python",
   "name": "python3"
  },
  "language_info": {
   "codemirror_mode": {
    "name": "ipython",
    "version": 3
   },
   "file_extension": ".py",
   "mimetype": "text/x-python",
   "name": "python",
   "nbconvert_exporter": "python",
   "pygments_lexer": "ipython3",
   "version": "3.10.14"
  },
  "papermill": {
   "default_parameters": {},
   "duration": 36.209396,
   "end_time": "2024-11-10T02:59:28.399304",
   "environment_variables": {},
   "exception": null,
   "input_path": "__notebook__.ipynb",
   "output_path": "__notebook__.ipynb",
   "parameters": {},
   "start_time": "2024-11-10T02:58:52.189908",
   "version": "2.6.0"
  }
 },
 "nbformat": 4,
 "nbformat_minor": 5
}
